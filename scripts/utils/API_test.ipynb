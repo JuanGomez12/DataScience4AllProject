{
 "cells": [
  {
   "cell_type": "code",
   "execution_count": 14,
   "metadata": {},
   "outputs": [],
   "source": [
    "import requests"
   ]
  },
  {
   "cell_type": "markdown",
   "metadata": {},
   "source": [
    "# APIs"
   ]
  },
  {
   "cell_type": "markdown",
   "metadata": {},
   "source": [
    "## GET APIs"
   ]
  },
  {
   "cell_type": "code",
   "execution_count": 15,
   "metadata": {},
   "outputs": [],
   "source": [
    "api_url = 'http://localhost:8000/api'"
   ]
  },
  {
   "cell_type": "code",
   "execution_count": 16,
   "metadata": {},
   "outputs": [
    {
     "data": {
      "text/plain": [
       "dict_keys(['AreaResidencial', 'Edad', 'EstadoCivil', 'Genero', 'GrupoEtnico', 'TSangre'])"
      ]
     },
     "execution_count": 16,
     "metadata": {},
     "output_type": "execute_result"
    }
   ],
   "source": [
    "response = requests.get(f'{api_url}/socio_economics') \n",
    "socio_dict = response.json()\n",
    "socio_dict.keys()"
   ]
  },
  {
   "cell_type": "code",
   "execution_count": 17,
   "metadata": {},
   "outputs": [
    {
     "data": {
      "text/plain": [
       "dict_keys(['bacterias_count', 'diabetes_tests_count', 'heart_damage_count', 'hematic_info_count', 'hormones_count', 'kidney_damage_count', 'liver_damage_count', 'minerals_count', 'other_diseases_count', 'syphilis_tests_count', 'total_lab_count', 'vih_count', 'white_cells_count'])"
      ]
     },
     "execution_count": 17,
     "metadata": {},
     "output_type": "execute_result"
    }
   ],
   "source": [
    "response = requests.get(f'{api_url}/laboratory') \n",
    "labs_dict = response.json()\n",
    "labs_dict.keys()"
   ]
  },
  {
   "cell_type": "code",
   "execution_count": 18,
   "metadata": {},
   "outputs": [
    {
     "data": {
      "text/plain": [
       "dict_keys(['A51', 'A530', 'A539', 'E109', 'E119', 'E149'])"
      ]
     },
     "execution_count": 18,
     "metadata": {},
     "output_type": "execute_result"
    }
   ],
   "source": [
    "response = requests.get(f'{api_url}/notes') \n",
    "notes_dict = response.json()\n",
    "notes_dict.keys()"
   ]
  },
  {
   "cell_type": "markdown",
   "metadata": {},
   "source": [
    "## POST API"
   ]
  },
  {
   "cell_type": "code",
   "execution_count": 19,
   "metadata": {},
   "outputs": [
    {
     "data": {
      "text/plain": [
       "{'respuesta': 'E109 : Type I diabetes mellitus'}"
      ]
     },
     "execution_count": 19,
     "metadata": {},
     "output_type": "execute_result"
    }
   ],
   "source": [
    "params = {\n",
    "    \"Edad\": \"40\",\n",
    "    \"Genero\": \"Mujer\",\n",
    "    \"GrupoEtnico\": \"Mestizo\",\n",
    "    \"AreaResidencial\": \"Zona Urbana\",\n",
    "    \"EstadoCivil\": \"Separado\",\n",
    "    \"TSangre\": \"NaN\",\n",
    "    \"Nombre\": [\"902046\", \"Test de urologia\"],\n",
    "    \"Fecha\": [\"22/02/2022 18:43\", \"24/02/2022 00:00\"],\n",
    "    \"Valor\": [\"6\", \"20\"],\n",
    "    \"Tipo\": \"Confirmado Repetido\",\n",
    "    \"Plan\": \"- Paciente se remite para analisis de urologia...\",\n",
    "}\n",
    "response = requests.post(f'{api_url}/post', data=params)\n",
    "response.json()"
   ]
  }
 ],
 "metadata": {
  "kernelspec": {
   "display_name": "Python 3.9.12 ('DS4A_Project')",
   "language": "python",
   "name": "python3"
  },
  "language_info": {
   "codemirror_mode": {
    "name": "ipython",
    "version": 3
   },
   "file_extension": ".py",
   "mimetype": "text/x-python",
   "name": "python",
   "nbconvert_exporter": "python",
   "pygments_lexer": "ipython3",
   "version": "3.9.12"
  },
  "orig_nbformat": 4,
  "vscode": {
   "interpreter": {
    "hash": "32aecc324f8df26357122ac4599014cc1f704524e77889bea473ffbdc8bf89d2"
   }
  }
 },
 "nbformat": 4,
 "nbformat_minor": 2
}
