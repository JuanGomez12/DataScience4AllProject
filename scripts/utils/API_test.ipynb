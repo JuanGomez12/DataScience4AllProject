{
 "cells": [
  {
   "cell_type": "code",
   "execution_count": 1,
   "metadata": {},
   "outputs": [],
   "source": [
    "import requests"
   ]
  },
  {
   "cell_type": "markdown",
   "metadata": {},
   "source": [
    "# APIs"
   ]
  },
  {
   "cell_type": "markdown",
   "metadata": {},
   "source": [
    "## GET APIs"
   ]
  },
  {
   "cell_type": "code",
   "execution_count": 2,
   "metadata": {},
   "outputs": [],
   "source": [
    "api_url = 'http://localhost:8000/api'"
   ]
  },
  {
   "cell_type": "code",
   "execution_count": 3,
   "metadata": {},
   "outputs": [
    {
     "data": {
      "text/plain": [
       "dict_keys(['AreaResidencial', 'Edad', 'EstadoCivil', 'Genero', 'GrupoEtnico', 'TSangre', 'condition_distribution'])"
      ]
     },
     "execution_count": 3,
     "metadata": {},
     "output_type": "execute_result"
    }
   ],
   "source": [
    "response = requests.get(f'{api_url}/socio_economics') \n",
    "socio_dict = response.json()\n",
    "socio_dict.keys()"
   ]
  },
  {
   "cell_type": "code",
   "execution_count": 4,
   "metadata": {},
   "outputs": [
    {
     "data": {
      "text/plain": [
       "dict_keys(['date_diff_max', 'date_diff_mean', 'exam_count_time_series', 'keywords_count', 'keywords_max', 'top_lab_names', 'total_lab_count'])"
      ]
     },
     "execution_count": 4,
     "metadata": {},
     "output_type": "execute_result"
    }
   ],
   "source": [
    "response = requests.get(f'{api_url}/laboratory') \n",
    "labs_dict = response.json()\n",
    "labs_dict.keys()"
   ]
  },
  {
   "cell_type": "code",
   "execution_count": 5,
   "metadata": {},
   "outputs": [
    {
     "data": {
      "text/plain": [
       "dict_keys(['word_count'])"
      ]
     },
     "execution_count": 5,
     "metadata": {},
     "output_type": "execute_result"
    }
   ],
   "source": [
    "response = requests.get(f'{api_url}/notes') \n",
    "notes_dict = response.json()\n",
    "notes_dict.keys()"
   ]
  },
  {
   "cell_type": "markdown",
   "metadata": {},
   "source": [
    "## POST API"
   ]
  },
  {
   "cell_type": "code",
   "execution_count": 47,
   "metadata": {},
   "outputs": [
    {
     "data": {
      "text/plain": [
       "{'respuesta': {'A510:Primary genital syphilis': 0.0,\n",
       "  'A511:Primary anal syphilis': 0.0,\n",
       "  'A514:Other secondary syphilis': 0.003,\n",
       "  'A529:Late syphilis, unspecified': 0.0,\n",
       "  'A530:Latent syphilis, unspecified as early or late': 0.029,\n",
       "  'A539:Syphilis, unspecified': 0.01,\n",
       "  'E109:Type I diabetes mellitus': 0.185,\n",
       "  'E119:Type II diabetes mellitus': 0.758,\n",
       "  'E149:Unspecified diabetes mellitus': 0.014}}"
      ]
     },
     "execution_count": 47,
     "metadata": {},
     "output_type": "execute_result"
    }
   ],
   "source": [
    "params = {\n",
    "    \"Edad\": \"200\",\n",
    "    \"Genero\": \"Hombre\",\n",
    "    \"GrupoEtnico\": \"Mestizo\",\n",
    "    \"AreaResidencial\": \"Zona Urbana\",\n",
    "    \"EstadoCivil\": \"Separado\",\n",
    "    \"TSangre\": \"NaN\",\n",
    "    \"Nombre\": [\"902046\", \"Test de urologia\"],\n",
    "    \"Fecha\": [\"22/02/2022 18:43\", \"24/02/2022 00:00\"],\n",
    "    \"Valor\": [\"6\", \"20\"],\n",
    "    # \"Tipo\": \"Confirmado Repetido\",\n",
    "    \"Plan\": \"- Paciente se remite para analisis de urologia...\",\n",
    "}\n",
    "response = requests.post(f'{api_url}/post', data=params)\n",
    "response.json()"
   ]
  }
 ],
 "metadata": {
  "kernelspec": {
   "display_name": "Python 3.9.12 ('DS4A_Project')",
   "language": "python",
   "name": "python3"
  },
  "language_info": {
   "codemirror_mode": {
    "name": "ipython",
    "version": 3
   },
   "file_extension": ".py",
   "mimetype": "text/x-python",
   "name": "python",
   "nbconvert_exporter": "python",
   "pygments_lexer": "ipython3",
   "version": "3.9.12"
  },
  "orig_nbformat": 4,
  "vscode": {
   "interpreter": {
    "hash": "32aecc324f8df26357122ac4599014cc1f704524e77889bea473ffbdc8bf89d2"
   }
  }
 },
 "nbformat": 4,
 "nbformat_minor": 2
}
