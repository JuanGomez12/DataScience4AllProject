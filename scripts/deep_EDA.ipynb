{
 "cells": [
  {
   "cell_type": "code",
   "execution_count": 1,
   "metadata": {},
   "outputs": [
    {
     "name": "stderr",
     "output_type": "stream",
     "text": [
      "[nltk_data] Downloading package stopwords to /root/nltk_data...\n",
      "[nltk_data]   Unzipping corpora/stopwords.zip.\n"
     ]
    }
   ],
   "source": [
    "import nltk\n",
    "import pandas as pd\n",
    "import requests\n",
    "import seaborn as sns\n",
    "import shutil\n",
    "from IPython.display import display\n",
    "\n",
    "from pathlib import Path\n",
    "from typing import Optional\n",
    "from utils.preprocessing_utils import preprocess_notas\n",
    "import matplotlib.pyplot as plt\n",
    "import plotly.express as px"
   ]
  },
  {
   "cell_type": "code",
   "execution_count": 2,
   "metadata": {},
   "outputs": [],
   "source": [
    "sns.set_style(\"whitegrid\")\n",
    "sns.set_context(\"talk\")"
   ]
  },
  {
   "cell_type": "code",
   "execution_count": 3,
   "metadata": {},
   "outputs": [],
   "source": [
    "def download_file(url:str, local_filename:Optional[str]=None):\n",
    "    if local_filename is None:\n",
    "      local_filename = url.split('/')[-1]\n",
    "    with requests.get(url, stream=True) as r:\n",
    "        with open(local_filename, 'wb') as f:\n",
    "            shutil.copyfileobj(r.raw, f)\n",
    "    return local_filename\n",
    "\n",
    "def unzip_file(path_to_zip_file:str, directory_to_extract_to:str):\n",
    "  shutil.unpack_archive(path_to_zip_file, directory_to_extract_to)"
   ]
  },
  {
   "cell_type": "code",
   "execution_count": 4,
   "metadata": {},
   "outputs": [],
   "source": [
    "# Check if the data already exists, if not, download and unzip it\n",
    "data_path = Path('data')\n",
    "if not (data_path / 'laboratorios.csv').is_file() and not (data_path / 'notas.csv').is_file() and not (data_path / 'sociodemografico.csv').is_file():\n",
    "  data_zip = download_file('https://www.dropbox.com/sh/xgs3kyvyn7lmr6p/AACB4eORnqsJpRsjv9-56eUHa?dl=1', 'data.zip')\n",
    "  unzip_file(data_zip, data_path)\n",
    "  unzip_file(data_path / 'Diana Buitrago - IQVIA_NLPmediaclNotes_DianaBuitrago.zip', data_path)"
   ]
  },
  {
   "cell_type": "code",
   "execution_count": 5,
   "metadata": {},
   "outputs": [],
   "source": [
    "# Check if the data already exists, if not, download and unzip it\n",
    "data_path = Path('data')\n",
    "if not (data_path / 'laboratorios.csv').is_file() and not (data_path / 'notas.csv').is_file() and not (data_path / 'sociodemografico.csv').is_file():\n",
    "  data_zip = download_file('https://www.dropbox.com/sh/xgs3kyvyn7lmr6p/AACB4eORnqsJpRsjv9-56eUHa?dl=1', 'data/data.zip')\n",
    "  unzip_file(data_zip, data_path)\n",
    "  unzip_file(data_path / 'Diana Buitrago - IQVIA_NLPmediaclNotes_DianaBuitrago.zip', data_path)"
   ]
  },
  {
   "cell_type": "code",
   "execution_count": 6,
   "metadata": {},
   "outputs": [
    {
     "data": {
      "text/html": [
       "<div>\n",
       "<style scoped>\n",
       "    .dataframe tbody tr th:only-of-type {\n",
       "        vertical-align: middle;\n",
       "    }\n",
       "\n",
       "    .dataframe tbody tr th {\n",
       "        vertical-align: top;\n",
       "    }\n",
       "\n",
       "    .dataframe thead th {\n",
       "        text-align: right;\n",
       "    }\n",
       "</style>\n",
       "<table border=\"1\" class=\"dataframe\">\n",
       "  <thead>\n",
       "    <tr style=\"text-align: right;\">\n",
       "      <th></th>\n",
       "      <th>IDRecord</th>\n",
       "      <th>Código</th>\n",
       "      <th>Nombre</th>\n",
       "      <th>Tipo</th>\n",
       "      <th>Plan</th>\n",
       "    </tr>\n",
       "  </thead>\n",
       "  <tbody>\n",
       "    <tr>\n",
       "      <th>0</th>\n",
       "      <td>44600</td>\n",
       "      <td>A539</td>\n",
       "      <td>SIFILIS, NO ESPECIFICADA</td>\n",
       "      <td>Confirmado Repetido</td>\n",
       "      <td>- ORDENO TAR ABC +3TC +ATV/r  - PROFILAXIS NO ...</td>\n",
       "    </tr>\n",
       "    <tr>\n",
       "      <th>1</th>\n",
       "      <td>45038</td>\n",
       "      <td>A530</td>\n",
       "      <td>SIFILIS LATENTE, NO ESPECIFICADA COMO PRECOZ O...</td>\n",
       "      <td>Confirmado Repetido</td>\n",
       "      <td>- TAF/FTC/EVG/C MIPRES POR 2 MESES 20200602158...</td>\n",
       "    </tr>\n",
       "    <tr>\n",
       "      <th>2</th>\n",
       "      <td>40391</td>\n",
       "      <td>A530</td>\n",
       "      <td>SIFILIS LATENTE, NO ESPECIFICADA COMO PRECOZ O...</td>\n",
       "      <td>Confirmado Repetido</td>\n",
       "      <td>usuaria la cual se ve pertinente seguimiento d...</td>\n",
       "    </tr>\n",
       "    <tr>\n",
       "      <th>3</th>\n",
       "      <td>106350</td>\n",
       "      <td>A530</td>\n",
       "      <td>SIFILIS LATENTE, NO ESPECIFICADA COMO PRECOZ O...</td>\n",
       "      <td>Confirmado Repetido</td>\n",
       "      <td>1. Se formula TAR (TDF/FTC+EFV)  2. S/S Paracl...</td>\n",
       "    </tr>\n",
       "    <tr>\n",
       "      <th>4</th>\n",
       "      <td>105840</td>\n",
       "      <td>A530</td>\n",
       "      <td>SIFILIS LATENTE, NO ESPECIFICADA COMO PRECOZ O...</td>\n",
       "      <td>Confirmado Repetido</td>\n",
       "      <td>EDUCACIÓN  Se brinda retroalimentación con rel...</td>\n",
       "    </tr>\n",
       "  </tbody>\n",
       "</table>\n",
       "</div>"
      ],
      "text/plain": [
       "  IDRecord Código                                             Nombre  \\\n",
       "0    44600   A539                           SIFILIS, NO ESPECIFICADA   \n",
       "1    45038   A530  SIFILIS LATENTE, NO ESPECIFICADA COMO PRECOZ O...   \n",
       "2    40391   A530  SIFILIS LATENTE, NO ESPECIFICADA COMO PRECOZ O...   \n",
       "3   106350   A530  SIFILIS LATENTE, NO ESPECIFICADA COMO PRECOZ O...   \n",
       "4   105840   A530  SIFILIS LATENTE, NO ESPECIFICADA COMO PRECOZ O...   \n",
       "\n",
       "                  Tipo                                               Plan  \n",
       "0  Confirmado Repetido  - ORDENO TAR ABC +3TC +ATV/r  - PROFILAXIS NO ...  \n",
       "1  Confirmado Repetido  - TAF/FTC/EVG/C MIPRES POR 2 MESES 20200602158...  \n",
       "2  Confirmado Repetido  usuaria la cual se ve pertinente seguimiento d...  \n",
       "3  Confirmado Repetido  1. Se formula TAR (TDF/FTC+EFV)  2. S/S Paracl...  \n",
       "4  Confirmado Repetido  EDUCACIÓN  Se brinda retroalimentación con rel...  "
      ]
     },
     "execution_count": 6,
     "metadata": {},
     "output_type": "execute_result"
    }
   ],
   "source": [
    "notas = pd.read_csv(str(data_path / \"notas.csv\"),sep=';')\n",
    "notas.head()"
   ]
  },
  {
   "cell_type": "code",
   "execution_count": 7,
   "metadata": {},
   "outputs": [
    {
     "data": {
      "text/html": [
       "<div>\n",
       "<style scoped>\n",
       "    .dataframe tbody tr th:only-of-type {\n",
       "        vertical-align: middle;\n",
       "    }\n",
       "\n",
       "    .dataframe tbody tr th {\n",
       "        vertical-align: top;\n",
       "    }\n",
       "\n",
       "    .dataframe thead th {\n",
       "        text-align: right;\n",
       "    }\n",
       "</style>\n",
       "<table border=\"1\" class=\"dataframe\">\n",
       "  <thead>\n",
       "    <tr style=\"text-align: right;\">\n",
       "      <th></th>\n",
       "      <th>IDRecord</th>\n",
       "      <th>Edad</th>\n",
       "      <th>Genero</th>\n",
       "      <th>GrupoEtnico</th>\n",
       "      <th>AreaResidencial</th>\n",
       "      <th>EstadoCivil</th>\n",
       "      <th>TSangre</th>\n",
       "    </tr>\n",
       "  </thead>\n",
       "  <tbody>\n",
       "    <tr>\n",
       "      <th>0</th>\n",
       "      <td>5</td>\n",
       "      <td>39</td>\n",
       "      <td>Mujer</td>\n",
       "      <td>Mestizo</td>\n",
       "      <td>Zona Urbana</td>\n",
       "      <td>Separado</td>\n",
       "      <td>NaN</td>\n",
       "    </tr>\n",
       "    <tr>\n",
       "      <th>1</th>\n",
       "      <td>292</td>\n",
       "      <td>84</td>\n",
       "      <td>Hombre</td>\n",
       "      <td>Ninguno de los anteriores</td>\n",
       "      <td>Zona Urbana</td>\n",
       "      <td>Casado</td>\n",
       "      <td>NaN</td>\n",
       "    </tr>\n",
       "    <tr>\n",
       "      <th>2</th>\n",
       "      <td>300</td>\n",
       "      <td>88</td>\n",
       "      <td>Hombre</td>\n",
       "      <td>Mestizo</td>\n",
       "      <td>Zona Urbana</td>\n",
       "      <td>Soltero</td>\n",
       "      <td>O+</td>\n",
       "    </tr>\n",
       "    <tr>\n",
       "      <th>3</th>\n",
       "      <td>307</td>\n",
       "      <td>88</td>\n",
       "      <td>Hombre</td>\n",
       "      <td>Ninguno de los anteriores</td>\n",
       "      <td>Zona Urbana</td>\n",
       "      <td>No reportado</td>\n",
       "      <td>NaN</td>\n",
       "    </tr>\n",
       "    <tr>\n",
       "      <th>4</th>\n",
       "      <td>325</td>\n",
       "      <td>94</td>\n",
       "      <td>Hombre</td>\n",
       "      <td>Ninguno de los anteriores</td>\n",
       "      <td>Zona Rural</td>\n",
       "      <td>Viudo/a</td>\n",
       "      <td>NaN</td>\n",
       "    </tr>\n",
       "  </tbody>\n",
       "</table>\n",
       "</div>"
      ],
      "text/plain": [
       "   IDRecord  Edad  Genero                GrupoEtnico AreaResidencial  \\\n",
       "0         5    39   Mujer                    Mestizo     Zona Urbana   \n",
       "1       292    84  Hombre  Ninguno de los anteriores     Zona Urbana   \n",
       "2       300    88  Hombre                    Mestizo     Zona Urbana   \n",
       "3       307    88  Hombre  Ninguno de los anteriores     Zona Urbana   \n",
       "4       325    94  Hombre  Ninguno de los anteriores      Zona Rural   \n",
       "\n",
       "    EstadoCivil TSangre  \n",
       "0      Separado     NaN  \n",
       "1        Casado     NaN  \n",
       "2       Soltero      O+  \n",
       "3  No reportado     NaN  \n",
       "4       Viudo/a     NaN  "
      ]
     },
     "execution_count": 7,
     "metadata": {},
     "output_type": "execute_result"
    }
   ],
   "source": [
    "sociodemografico = pd.read_csv(str(data_path / \"sociodemografico.csv\"),sep=';')\n",
    "sociodemografico.head()"
   ]
  },
  {
   "cell_type": "code",
   "execution_count": 32,
   "metadata": {},
   "outputs": [
    {
     "data": {
      "text/html": [
       "<div>\n",
       "<style scoped>\n",
       "    .dataframe tbody tr th:only-of-type {\n",
       "        vertical-align: middle;\n",
       "    }\n",
       "\n",
       "    .dataframe tbody tr th {\n",
       "        vertical-align: top;\n",
       "    }\n",
       "\n",
       "    .dataframe thead th {\n",
       "        text-align: right;\n",
       "    }\n",
       "</style>\n",
       "<table border=\"1\" class=\"dataframe\">\n",
       "  <thead>\n",
       "    <tr style=\"text-align: right;\">\n",
       "      <th></th>\n",
       "      <th>IDRecord</th>\n",
       "      <th>Codigo</th>\n",
       "      <th>Nombre</th>\n",
       "      <th>Fecha</th>\n",
       "      <th>Valor</th>\n",
       "    </tr>\n",
       "  </thead>\n",
       "  <tbody>\n",
       "    <tr>\n",
       "      <th>0</th>\n",
       "      <td>95627</td>\n",
       "      <td>902045</td>\n",
       "      <td>TIEMPO DE PROTROMBINA (PT)</td>\n",
       "      <td>22/02/2022 18:43</td>\n",
       "      <td>NaN</td>\n",
       "    </tr>\n",
       "    <tr>\n",
       "      <th>1</th>\n",
       "      <td>125572</td>\n",
       "      <td>902045</td>\n",
       "      <td>TIEMPO DE PROTROMBINA (PT)</td>\n",
       "      <td>17/02/2022 13:41</td>\n",
       "      <td>NaN</td>\n",
       "    </tr>\n",
       "    <tr>\n",
       "      <th>2</th>\n",
       "      <td>55788</td>\n",
       "      <td>902045</td>\n",
       "      <td>TIEMPO DE PROTROMBINA (PT)</td>\n",
       "      <td>22/06/2021 12:50</td>\n",
       "      <td>1.05</td>\n",
       "    </tr>\n",
       "    <tr>\n",
       "      <th>3</th>\n",
       "      <td>113766</td>\n",
       "      <td>902045</td>\n",
       "      <td>TIEMPO DE PROTROMBINA (PT)</td>\n",
       "      <td>5/08/2021 12:11</td>\n",
       "      <td>NaN</td>\n",
       "    </tr>\n",
       "    <tr>\n",
       "      <th>4</th>\n",
       "      <td>44596</td>\n",
       "      <td>902045</td>\n",
       "      <td>TIEMPO DE PROTROMBINA (PT)</td>\n",
       "      <td>5/08/2021 13:15</td>\n",
       "      <td>NaN</td>\n",
       "    </tr>\n",
       "  </tbody>\n",
       "</table>\n",
       "</div>"
      ],
      "text/plain": [
       "   IDRecord  Codigo                      Nombre             Fecha Valor\n",
       "0     95627  902045  TIEMPO DE PROTROMBINA (PT)  22/02/2022 18:43   NaN\n",
       "1    125572  902045  TIEMPO DE PROTROMBINA (PT)  17/02/2022 13:41   NaN\n",
       "2     55788  902045  TIEMPO DE PROTROMBINA (PT)  22/06/2021 12:50  1.05\n",
       "3    113766  902045  TIEMPO DE PROTROMBINA (PT)   5/08/2021 12:11   NaN\n",
       "4     44596  902045  TIEMPO DE PROTROMBINA (PT)   5/08/2021 13:15   NaN"
      ]
     },
     "execution_count": 32,
     "metadata": {},
     "output_type": "execute_result"
    }
   ],
   "source": [
    "laboratorios = pd.read_csv(str(data_path / \"laboratorios.csv\"),sep=';')\n",
    "laboratorios.head()"
   ]
  },
  {
   "cell_type": "markdown",
   "metadata": {},
   "source": [
    "Cleanup based on initial EDA"
   ]
  },
  {
   "cell_type": "code",
   "execution_count": 58,
   "metadata": {},
   "outputs": [
    {
     "data": {
      "text/html": [
       "<div>\n",
       "<style scoped>\n",
       "    .dataframe tbody tr th:only-of-type {\n",
       "        vertical-align: middle;\n",
       "    }\n",
       "\n",
       "    .dataframe tbody tr th {\n",
       "        vertical-align: top;\n",
       "    }\n",
       "\n",
       "    .dataframe thead th {\n",
       "        text-align: right;\n",
       "    }\n",
       "</style>\n",
       "<table border=\"1\" class=\"dataframe\">\n",
       "  <thead>\n",
       "    <tr style=\"text-align: right;\">\n",
       "      <th></th>\n",
       "      <th>IDRecord</th>\n",
       "      <th>Codigo</th>\n",
       "      <th>Nombre</th>\n",
       "      <th>Fecha</th>\n",
       "      <th>Valor</th>\n",
       "    </tr>\n",
       "  </thead>\n",
       "  <tbody>\n",
       "    <tr>\n",
       "      <th>0</th>\n",
       "      <td>95627</td>\n",
       "      <td>902045</td>\n",
       "      <td>TIEMPO DE PROTROMBINA (PT)</td>\n",
       "      <td>22/02/2022 18:43</td>\n",
       "      <td>NaN</td>\n",
       "    </tr>\n",
       "    <tr>\n",
       "      <th>1</th>\n",
       "      <td>125572</td>\n",
       "      <td>902045</td>\n",
       "      <td>TIEMPO DE PROTROMBINA (PT)</td>\n",
       "      <td>17/02/2022 13:41</td>\n",
       "      <td>NaN</td>\n",
       "    </tr>\n",
       "    <tr>\n",
       "      <th>2</th>\n",
       "      <td>55788</td>\n",
       "      <td>902045</td>\n",
       "      <td>TIEMPO DE PROTROMBINA (PT)</td>\n",
       "      <td>22/06/2021 12:50</td>\n",
       "      <td>1.050</td>\n",
       "    </tr>\n",
       "    <tr>\n",
       "      <th>3</th>\n",
       "      <td>113766</td>\n",
       "      <td>902045</td>\n",
       "      <td>TIEMPO DE PROTROMBINA (PT)</td>\n",
       "      <td>5/08/2021 12:11</td>\n",
       "      <td>NaN</td>\n",
       "    </tr>\n",
       "    <tr>\n",
       "      <th>4</th>\n",
       "      <td>44596</td>\n",
       "      <td>902045</td>\n",
       "      <td>TIEMPO DE PROTROMBINA (PT)</td>\n",
       "      <td>5/08/2021 13:15</td>\n",
       "      <td>NaN</td>\n",
       "    </tr>\n",
       "    <tr>\n",
       "      <th>...</th>\n",
       "      <td>...</td>\n",
       "      <td>...</td>\n",
       "      <td>...</td>\n",
       "      <td>...</td>\n",
       "      <td>...</td>\n",
       "    </tr>\n",
       "    <tr>\n",
       "      <th>189638</th>\n",
       "      <td>88320</td>\n",
       "      <td>9100000</td>\n",
       "      <td>RELACIÓN  ALBUMINURIA Y CREATINURIA</td>\n",
       "      <td>2/07/2021 0:00</td>\n",
       "      <td>22.220</td>\n",
       "    </tr>\n",
       "    <tr>\n",
       "      <th>189639</th>\n",
       "      <td>88182</td>\n",
       "      <td>9100000</td>\n",
       "      <td>RELACIÓN  ALBUMINURIA Y CREATINURIA</td>\n",
       "      <td>26/06/2021 0:00</td>\n",
       "      <td>1475.670</td>\n",
       "    </tr>\n",
       "    <tr>\n",
       "      <th>189640</th>\n",
       "      <td>95712</td>\n",
       "      <td>9100000</td>\n",
       "      <td>RELACIÓN  ALBUMINURIA Y CREATINURIA</td>\n",
       "      <td>2/07/2021 0:00</td>\n",
       "      <td>22.450</td>\n",
       "    </tr>\n",
       "    <tr>\n",
       "      <th>189641</th>\n",
       "      <td>96016</td>\n",
       "      <td>9100000</td>\n",
       "      <td>RELACIÓN  ALBUMINURIA Y CREATINURIA</td>\n",
       "      <td>26/06/2021 0:00</td>\n",
       "      <td>15.450</td>\n",
       "    </tr>\n",
       "    <tr>\n",
       "      <th>189642</th>\n",
       "      <td>107522</td>\n",
       "      <td>9100000</td>\n",
       "      <td>RELACIÓN  ALBUMINURIA Y CREATINURIA</td>\n",
       "      <td>2/07/2021 0:00</td>\n",
       "      <td>2.551</td>\n",
       "    </tr>\n",
       "  </tbody>\n",
       "</table>\n",
       "<p>189643 rows × 5 columns</p>\n",
       "</div>"
      ],
      "text/plain": [
       "        IDRecord   Codigo                               Nombre  \\\n",
       "0          95627   902045           TIEMPO DE PROTROMBINA (PT)   \n",
       "1         125572   902045           TIEMPO DE PROTROMBINA (PT)   \n",
       "2          55788   902045           TIEMPO DE PROTROMBINA (PT)   \n",
       "3         113766   902045           TIEMPO DE PROTROMBINA (PT)   \n",
       "4          44596   902045           TIEMPO DE PROTROMBINA (PT)   \n",
       "...          ...      ...                                  ...   \n",
       "189638     88320  9100000  RELACIÓN  ALBUMINURIA Y CREATINURIA   \n",
       "189639     88182  9100000  RELACIÓN  ALBUMINURIA Y CREATINURIA   \n",
       "189640     95712  9100000  RELACIÓN  ALBUMINURIA Y CREATINURIA   \n",
       "189641     96016  9100000  RELACIÓN  ALBUMINURIA Y CREATINURIA   \n",
       "189642    107522  9100000  RELACIÓN  ALBUMINURIA Y CREATINURIA   \n",
       "\n",
       "                   Fecha     Valor  \n",
       "0       22/02/2022 18:43       NaN  \n",
       "1       17/02/2022 13:41       NaN  \n",
       "2       22/06/2021 12:50     1.050  \n",
       "3        5/08/2021 12:11       NaN  \n",
       "4        5/08/2021 13:15       NaN  \n",
       "...                  ...       ...  \n",
       "189638    2/07/2021 0:00    22.220  \n",
       "189639   26/06/2021 0:00  1475.670  \n",
       "189640    2/07/2021 0:00    22.450  \n",
       "189641   26/06/2021 0:00    15.450  \n",
       "189642    2/07/2021 0:00     2.551  \n",
       "\n",
       "[189643 rows x 5 columns]"
      ]
     },
     "execution_count": 58,
     "metadata": {},
     "output_type": "execute_result"
    }
   ],
   "source": [
    "laboratorios['Valor'] = pd.to_numeric(laboratorios.Valor, errors='coerce')\n",
    "laboratorios"
   ]
  },
  {
   "cell_type": "code",
   "execution_count": 10,
   "metadata": {},
   "outputs": [
    {
     "data": {
      "text/html": [
       "<div>\n",
       "<style scoped>\n",
       "    .dataframe tbody tr th:only-of-type {\n",
       "        vertical-align: middle;\n",
       "    }\n",
       "\n",
       "    .dataframe tbody tr th {\n",
       "        vertical-align: top;\n",
       "    }\n",
       "\n",
       "    .dataframe thead th {\n",
       "        text-align: right;\n",
       "    }\n",
       "</style>\n",
       "<table border=\"1\" class=\"dataframe\">\n",
       "  <thead>\n",
       "    <tr style=\"text-align: right;\">\n",
       "      <th></th>\n",
       "      <th>IDRecord</th>\n",
       "      <th>Código</th>\n",
       "      <th>Nombre</th>\n",
       "      <th>Tipo</th>\n",
       "      <th>Plan</th>\n",
       "    </tr>\n",
       "  </thead>\n",
       "  <tbody>\n",
       "    <tr>\n",
       "      <th>0</th>\n",
       "      <td>44600.0</td>\n",
       "      <td>A539</td>\n",
       "      <td>SIFILIS, NO ESPECIFICADA</td>\n",
       "      <td>Confirmado Repetido</td>\n",
       "      <td>- ORDENO TAR ABC +3TC +ATV/r  - PROFILAXIS - F...</td>\n",
       "    </tr>\n",
       "    <tr>\n",
       "      <th>1</th>\n",
       "      <td>45038.0</td>\n",
       "      <td>A530</td>\n",
       "      <td>SIFILIS LATENTE, NO ESPECIFICADA COMO PRECOZ O...</td>\n",
       "      <td>Confirmado Repetido</td>\n",
       "      <td>- TAF/FTC/EVG/C MIPRES 2 MESES 202006021580194...</td>\n",
       "    </tr>\n",
       "    <tr>\n",
       "      <th>2</th>\n",
       "      <td>40391.0</td>\n",
       "      <td>A530</td>\n",
       "      <td>SIFILIS LATENTE, NO ESPECIFICADA COMO PRECOZ O...</td>\n",
       "      <td>Confirmado Repetido</td>\n",
       "      <td>usuaria ve pertinente seguimiento dentro mes m...</td>\n",
       "    </tr>\n",
       "    <tr>\n",
       "      <th>3</th>\n",
       "      <td>106350.0</td>\n",
       "      <td>A530</td>\n",
       "      <td>SIFILIS LATENTE, NO ESPECIFICADA COMO PRECOZ O...</td>\n",
       "      <td>Confirmado Repetido</td>\n",
       "      <td>1. formula TAR (TDF/FTC+EFV)  2. S/S Paraclini...</td>\n",
       "    </tr>\n",
       "    <tr>\n",
       "      <th>4</th>\n",
       "      <td>105840.0</td>\n",
       "      <td>A530</td>\n",
       "      <td>SIFILIS LATENTE, NO ESPECIFICADA COMO PRECOZ O...</td>\n",
       "      <td>Confirmado Repetido</td>\n",
       "      <td>EDUCACION  brinda retroalimentacion relacion r...</td>\n",
       "    </tr>\n",
       "  </tbody>\n",
       "</table>\n",
       "</div>"
      ],
      "text/plain": [
       "   IDRecord Código                                             Nombre  \\\n",
       "0   44600.0   A539                           SIFILIS, NO ESPECIFICADA   \n",
       "1   45038.0   A530  SIFILIS LATENTE, NO ESPECIFICADA COMO PRECOZ O...   \n",
       "2   40391.0   A530  SIFILIS LATENTE, NO ESPECIFICADA COMO PRECOZ O...   \n",
       "3  106350.0   A530  SIFILIS LATENTE, NO ESPECIFICADA COMO PRECOZ O...   \n",
       "4  105840.0   A530  SIFILIS LATENTE, NO ESPECIFICADA COMO PRECOZ O...   \n",
       "\n",
       "                  Tipo                                               Plan  \n",
       "0  Confirmado Repetido  - ORDENO TAR ABC +3TC +ATV/r  - PROFILAXIS - F...  \n",
       "1  Confirmado Repetido  - TAF/FTC/EVG/C MIPRES 2 MESES 202006021580194...  \n",
       "2  Confirmado Repetido  usuaria ve pertinente seguimiento dentro mes m...  \n",
       "3  Confirmado Repetido  1. formula TAR (TDF/FTC+EFV)  2. S/S Paraclini...  \n",
       "4  Confirmado Repetido  EDUCACION  brinda retroalimentacion relacion r...  "
      ]
     },
     "execution_count": 10,
     "metadata": {},
     "output_type": "execute_result"
    }
   ],
   "source": [
    "notas = preprocess_notas(notas)\n",
    "notas.head()"
   ]
  },
  {
   "cell_type": "code",
   "execution_count": 34,
   "metadata": {},
   "outputs": [
    {
     "data": {
      "text/html": [
       "<div>\n",
       "<style scoped>\n",
       "    .dataframe tbody tr th:only-of-type {\n",
       "        vertical-align: middle;\n",
       "    }\n",
       "\n",
       "    .dataframe tbody tr th {\n",
       "        vertical-align: top;\n",
       "    }\n",
       "\n",
       "    .dataframe thead th {\n",
       "        text-align: right;\n",
       "    }\n",
       "</style>\n",
       "<table border=\"1\" class=\"dataframe\">\n",
       "  <thead>\n",
       "    <tr style=\"text-align: right;\">\n",
       "      <th></th>\n",
       "      <th>IDRecord</th>\n",
       "      <th>Edad</th>\n",
       "      <th>Genero</th>\n",
       "      <th>GrupoEtnico</th>\n",
       "      <th>AreaResidencial</th>\n",
       "      <th>EstadoCivil</th>\n",
       "      <th>TSangre</th>\n",
       "      <th>Código</th>\n",
       "      <th>Nombre</th>\n",
       "      <th>Tipo</th>\n",
       "      <th>Plan</th>\n",
       "    </tr>\n",
       "  </thead>\n",
       "  <tbody>\n",
       "    <tr>\n",
       "      <th>0</th>\n",
       "      <td>5</td>\n",
       "      <td>39</td>\n",
       "      <td>Mujer</td>\n",
       "      <td>Mestizo</td>\n",
       "      <td>Zona Urbana</td>\n",
       "      <td>Separado</td>\n",
       "      <td>NaN</td>\n",
       "      <td>E109</td>\n",
       "      <td>DIABETES MELLITUSINSULINODEPENDIENTE SIN MENCI...</td>\n",
       "      <td>Confirmado Repetido</td>\n",
       "      <td>PACIENTE CONTINUA PROGRAMA NEFROPROTECCION   S...</td>\n",
       "    </tr>\n",
       "    <tr>\n",
       "      <th>1</th>\n",
       "      <td>292</td>\n",
       "      <td>84</td>\n",
       "      <td>Hombre</td>\n",
       "      <td>Ninguno de los anteriores</td>\n",
       "      <td>Zona Urbana</td>\n",
       "      <td>Casado</td>\n",
       "      <td>NaN</td>\n",
       "      <td>E119</td>\n",
       "      <td>DIABETES MELLITUS NOINSULINODEPENDIENTE SIN ME...</td>\n",
       "      <td>Confirmado Repetido</td>\n",
       "      <td>CONTINUA PROGRAMA CRONICOS.</td>\n",
       "    </tr>\n",
       "    <tr>\n",
       "      <th>2</th>\n",
       "      <td>300</td>\n",
       "      <td>88</td>\n",
       "      <td>Hombre</td>\n",
       "      <td>Mestizo</td>\n",
       "      <td>Zona Urbana</td>\n",
       "      <td>Soltero</td>\n",
       "      <td>O+</td>\n",
       "      <td>E119</td>\n",
       "      <td>DIABETES MELLITUS NOINSULINODEPENDIENTE SIN ME...</td>\n",
       "      <td>Confirmado Repetido</td>\n",
       "      <td>1- CONTINUAR PAD 2 - RECOMENDACIONES DIETA HIP...</td>\n",
       "    </tr>\n",
       "    <tr>\n",
       "      <th>3</th>\n",
       "      <td>300</td>\n",
       "      <td>88</td>\n",
       "      <td>Hombre</td>\n",
       "      <td>Mestizo</td>\n",
       "      <td>Zona Urbana</td>\n",
       "      <td>Soltero</td>\n",
       "      <td>O+</td>\n",
       "      <td>E109</td>\n",
       "      <td>DIABETES MELLITUSINSULINODEPENDIENTE SIN MENCI...</td>\n",
       "      <td>Confirmado Repetido</td>\n",
       "      <td>1- CONTINUAR PAD 2 - RECOMENDACIONES DIETA HIP...</td>\n",
       "    </tr>\n",
       "    <tr>\n",
       "      <th>4</th>\n",
       "      <td>300</td>\n",
       "      <td>88</td>\n",
       "      <td>Hombre</td>\n",
       "      <td>Mestizo</td>\n",
       "      <td>Zona Urbana</td>\n",
       "      <td>Soltero</td>\n",
       "      <td>O+</td>\n",
       "      <td>E119</td>\n",
       "      <td>DIABETES MELLITUS NOINSULINODEPENDIENTE SIN ME...</td>\n",
       "      <td>Confirmado Nuevo</td>\n",
       "      <td>1- CONTINUAR PAD 2 - RECOMENDACIONES DIETA HIP...</td>\n",
       "    </tr>\n",
       "  </tbody>\n",
       "</table>\n",
       "</div>"
      ],
      "text/plain": [
       "   IDRecord  Edad  Genero                GrupoEtnico AreaResidencial  \\\n",
       "0         5    39   Mujer                    Mestizo     Zona Urbana   \n",
       "1       292    84  Hombre  Ninguno de los anteriores     Zona Urbana   \n",
       "2       300    88  Hombre                    Mestizo     Zona Urbana   \n",
       "3       300    88  Hombre                    Mestizo     Zona Urbana   \n",
       "4       300    88  Hombre                    Mestizo     Zona Urbana   \n",
       "\n",
       "  EstadoCivil TSangre Código  \\\n",
       "0    Separado     NaN   E109   \n",
       "1      Casado     NaN   E119   \n",
       "2     Soltero      O+   E119   \n",
       "3     Soltero      O+   E109   \n",
       "4     Soltero      O+   E119   \n",
       "\n",
       "                                              Nombre                 Tipo  \\\n",
       "0  DIABETES MELLITUSINSULINODEPENDIENTE SIN MENCI...  Confirmado Repetido   \n",
       "1  DIABETES MELLITUS NOINSULINODEPENDIENTE SIN ME...  Confirmado Repetido   \n",
       "2  DIABETES MELLITUS NOINSULINODEPENDIENTE SIN ME...  Confirmado Repetido   \n",
       "3  DIABETES MELLITUSINSULINODEPENDIENTE SIN MENCI...  Confirmado Repetido   \n",
       "4  DIABETES MELLITUS NOINSULINODEPENDIENTE SIN ME...     Confirmado Nuevo   \n",
       "\n",
       "                                                Plan  \n",
       "0  PACIENTE CONTINUA PROGRAMA NEFROPROTECCION   S...  \n",
       "1                       CONTINUA PROGRAMA CRONICOS.   \n",
       "2  1- CONTINUAR PAD 2 - RECOMENDACIONES DIETA HIP...  \n",
       "3  1- CONTINUAR PAD 2 - RECOMENDACIONES DIETA HIP...  \n",
       "4  1- CONTINUAR PAD 2 - RECOMENDACIONES DIETA HIP...  "
      ]
     },
     "execution_count": 34,
     "metadata": {},
     "output_type": "execute_result"
    }
   ],
   "source": [
    "# Merge the sociodemographic with the medical notes data\n",
    "merged = sociodemografico.merge(notas, how='inner', on='IDRecord')\n",
    "merged.head(5)"
   ]
  },
  {
   "cell_type": "code",
   "execution_count": 63,
   "metadata": {},
   "outputs": [
    {
     "data": {
      "text/html": [
       "<div>\n",
       "<style scoped>\n",
       "    .dataframe tbody tr th:only-of-type {\n",
       "        vertical-align: middle;\n",
       "    }\n",
       "\n",
       "    .dataframe tbody tr th {\n",
       "        vertical-align: top;\n",
       "    }\n",
       "\n",
       "    .dataframe thead th {\n",
       "        text-align: right;\n",
       "    }\n",
       "</style>\n",
       "<table border=\"1\" class=\"dataframe\">\n",
       "  <thead>\n",
       "    <tr style=\"text-align: right;\">\n",
       "      <th></th>\n",
       "      <th>IDRecord</th>\n",
       "      <th>Codigo</th>\n",
       "      <th>Nombre_lab</th>\n",
       "      <th>Fecha</th>\n",
       "      <th>Valor</th>\n",
       "      <th>Código</th>\n",
       "      <th>Nombre</th>\n",
       "      <th>Tipo</th>\n",
       "      <th>Plan</th>\n",
       "    </tr>\n",
       "  </thead>\n",
       "  <tbody>\n",
       "    <tr>\n",
       "      <th>0</th>\n",
       "      <td>95627</td>\n",
       "      <td>902045</td>\n",
       "      <td>TIEMPO DE PROTROMBINA (PT)</td>\n",
       "      <td>22/02/2022 18:43</td>\n",
       "      <td>NaN</td>\n",
       "      <td>A530</td>\n",
       "      <td>SIFILIS LATENTE, NO ESPECIFICADA COMO PRECOZ O...</td>\n",
       "      <td>Confirmado Repetido</td>\n",
       "      <td>VER ANALISIS</td>\n",
       "    </tr>\n",
       "    <tr>\n",
       "      <th>1</th>\n",
       "      <td>95627</td>\n",
       "      <td>902045</td>\n",
       "      <td>TIEMPO DE PROTROMBINA (PT)</td>\n",
       "      <td>22/02/2022 18:43</td>\n",
       "      <td>NaN</td>\n",
       "      <td>A530</td>\n",
       "      <td>SIFILIS LATENTE, NO ESPECIFICADA COMO PRECOZ O...</td>\n",
       "      <td>Confirmado Repetido</td>\n",
       "      <td>NOTIFICAR TIEMPO FECHAS POSIBLE VIAJE CUIDAD B...</td>\n",
       "    </tr>\n",
       "    <tr>\n",
       "      <th>2</th>\n",
       "      <td>95627</td>\n",
       "      <td>902045</td>\n",
       "      <td>TIEMPO DE PROTROMBINA (PT)</td>\n",
       "      <td>22/02/2022 18:43</td>\n",
       "      <td>NaN</td>\n",
       "      <td>A530</td>\n",
       "      <td>SIFILIS LATENTE, NO ESPECIFICADA COMO PRECOZ O...</td>\n",
       "      <td>Confirmado Repetido</td>\n",
       "      <td>- TDF/FTC+DTG  - CONTROL HEP C (EPCLUSA)  - PE...</td>\n",
       "    </tr>\n",
       "    <tr>\n",
       "      <th>3</th>\n",
       "      <td>95627</td>\n",
       "      <td>902045</td>\n",
       "      <td>TIEMPO DE PROTROMBINA (PT)</td>\n",
       "      <td>22/02/2022 18:43</td>\n",
       "      <td>NaN</td>\n",
       "      <td>A530</td>\n",
       "      <td>SIFILIS LATENTE, NO ESPECIFICADA COMO PRECOZ O...</td>\n",
       "      <td>Confirmado Repetido</td>\n",
       "      <td>PLAN  ENFERMERIA    DETECTA CANCER ANAL?  SIGN...</td>\n",
       "    </tr>\n",
       "    <tr>\n",
       "      <th>4</th>\n",
       "      <td>95627</td>\n",
       "      <td>902045</td>\n",
       "      <td>TIEMPO DE PROTROMBINA (PT)</td>\n",
       "      <td>22/02/2022 18:43</td>\n",
       "      <td>NaN</td>\n",
       "      <td>A530</td>\n",
       "      <td>SIFILIS LATENTE, NO ESPECIFICADA COMO PRECOZ O...</td>\n",
       "      <td>Confirmado Repetido</td>\n",
       "      <td>Plan tratamiento  PROXIMO CONTROL : Medico p...</td>\n",
       "    </tr>\n",
       "  </tbody>\n",
       "</table>\n",
       "</div>"
      ],
      "text/plain": [
       "   IDRecord  Codigo                  Nombre_lab             Fecha  Valor  \\\n",
       "0     95627  902045  TIEMPO DE PROTROMBINA (PT)  22/02/2022 18:43    NaN   \n",
       "1     95627  902045  TIEMPO DE PROTROMBINA (PT)  22/02/2022 18:43    NaN   \n",
       "2     95627  902045  TIEMPO DE PROTROMBINA (PT)  22/02/2022 18:43    NaN   \n",
       "3     95627  902045  TIEMPO DE PROTROMBINA (PT)  22/02/2022 18:43    NaN   \n",
       "4     95627  902045  TIEMPO DE PROTROMBINA (PT)  22/02/2022 18:43    NaN   \n",
       "\n",
       "  Código                                             Nombre  \\\n",
       "0   A530  SIFILIS LATENTE, NO ESPECIFICADA COMO PRECOZ O...   \n",
       "1   A530  SIFILIS LATENTE, NO ESPECIFICADA COMO PRECOZ O...   \n",
       "2   A530  SIFILIS LATENTE, NO ESPECIFICADA COMO PRECOZ O...   \n",
       "3   A530  SIFILIS LATENTE, NO ESPECIFICADA COMO PRECOZ O...   \n",
       "4   A530  SIFILIS LATENTE, NO ESPECIFICADA COMO PRECOZ O...   \n",
       "\n",
       "                  Tipo                                               Plan  \n",
       "0  Confirmado Repetido                                       VER ANALISIS  \n",
       "1  Confirmado Repetido  NOTIFICAR TIEMPO FECHAS POSIBLE VIAJE CUIDAD B...  \n",
       "2  Confirmado Repetido  - TDF/FTC+DTG  - CONTROL HEP C (EPCLUSA)  - PE...  \n",
       "3  Confirmado Repetido  PLAN  ENFERMERIA    DETECTA CANCER ANAL?  SIGN...  \n",
       "4  Confirmado Repetido    Plan tratamiento  PROXIMO CONTROL : Medico p...  "
      ]
     },
     "execution_count": 63,
     "metadata": {},
     "output_type": "execute_result"
    }
   ],
   "source": [
    "# Merge the laboratory with the medical notes data\n",
    "merged_lab = laboratorios.merge(notas, how='inner', on='IDRecord', suffixes = [\"_lab\", None])\n",
    "merged_lab.head(5)"
   ]
  },
  {
   "cell_type": "markdown",
   "metadata": {},
   "source": [
    " # Sociodemographic vs medical notes EDA"
   ]
  },
  {
   "cell_type": "code",
   "execution_count": null,
   "metadata": {},
   "outputs": [],
   "source": [
    "# Define an auxiliary function\n",
    "def percentage_for_code(df, row):\n",
    "    count =  row['Count']\n",
    "    total_for_code = df[df.Código == row['Código']].Count.sum()\n",
    "    return round(100 * count / total_for_code, 2)"
   ]
  },
  {
   "cell_type": "code",
   "execution_count": 157,
   "metadata": {},
   "outputs": [
    {
     "data": {
      "application/vnd.plotly.v1+json": {
       "config": {
        "plotlyServerURL": "https://plot.ly"
       },
       "data": [
        {
         "alignmentgroup": "True",
         "hovertemplate": "Genero=Hombre<br>Código=%{x}<br>value=%{y}<br>Count=%{text}<extra></extra>",
         "legendgroup": "Hombre",
         "marker": {
          "color": "#636efa",
          "pattern": {
           "shape": ""
          }
         },
         "name": "Hombre",
         "offsetgroup": "Hombre",
         "orientation": "v",
         "showlegend": true,
         "text": [
          977,
          94,
          2395,
          1967,
          56159,
          44106,
          3615,
          10370,
          1654
         ],
         "textposition": "auto",
         "type": "bar",
         "x": [
          "A510",
          "A511",
          "A514",
          "A529",
          "A530",
          "A539",
          "E109",
          "E119",
          "E149"
         ],
         "xaxis": "x",
         "y": [
          100,
          100,
          91.62,
          99.85,
          92.69,
          93.03,
          57.58,
          59.47,
          58.9
         ],
         "yaxis": "y"
        },
        {
         "alignmentgroup": "True",
         "hovertemplate": "Genero=Mujer<br>Código=%{x}<br>value=%{y}<br>Count=%{text}<extra></extra>",
         "legendgroup": "Mujer",
         "marker": {
          "color": "#EF553B",
          "pattern": {
           "shape": ""
          }
         },
         "name": "Mujer",
         "offsetgroup": "Mujer",
         "orientation": "v",
         "showlegend": true,
         "text": [
          219,
          3,
          4427,
          3302,
          2663,
          7067,
          1154
         ],
         "textposition": "auto",
         "type": "bar",
         "x": [
          "A514",
          "A529",
          "A530",
          "A539",
          "E109",
          "E119",
          "E149"
         ],
         "xaxis": "x",
         "y": [
          8.38,
          0.15,
          7.31,
          6.97,
          42.42,
          40.53,
          41.1
         ],
         "yaxis": "y"
        }
       ],
       "layout": {
        "barmode": "relative",
        "legend": {
         "title": {
          "text": "Genero"
         },
         "tracegroupgap": 0
        },
        "margin": {
         "t": 60
        },
        "template": {
         "data": {
          "bar": [
           {
            "error_x": {
             "color": "#2a3f5f"
            },
            "error_y": {
             "color": "#2a3f5f"
            },
            "marker": {
             "line": {
              "color": "#E5ECF6",
              "width": 0.5
             },
             "pattern": {
              "fillmode": "overlay",
              "size": 10,
              "solidity": 0.2
             }
            },
            "type": "bar"
           }
          ],
          "barpolar": [
           {
            "marker": {
             "line": {
              "color": "#E5ECF6",
              "width": 0.5
             },
             "pattern": {
              "fillmode": "overlay",
              "size": 10,
              "solidity": 0.2
             }
            },
            "type": "barpolar"
           }
          ],
          "carpet": [
           {
            "aaxis": {
             "endlinecolor": "#2a3f5f",
             "gridcolor": "white",
             "linecolor": "white",
             "minorgridcolor": "white",
             "startlinecolor": "#2a3f5f"
            },
            "baxis": {
             "endlinecolor": "#2a3f5f",
             "gridcolor": "white",
             "linecolor": "white",
             "minorgridcolor": "white",
             "startlinecolor": "#2a3f5f"
            },
            "type": "carpet"
           }
          ],
          "choropleth": [
           {
            "colorbar": {
             "outlinewidth": 0,
             "ticks": ""
            },
            "type": "choropleth"
           }
          ],
          "contour": [
           {
            "colorbar": {
             "outlinewidth": 0,
             "ticks": ""
            },
            "colorscale": [
             [
              0,
              "#0d0887"
             ],
             [
              0.1111111111111111,
              "#46039f"
             ],
             [
              0.2222222222222222,
              "#7201a8"
             ],
             [
              0.3333333333333333,
              "#9c179e"
             ],
             [
              0.4444444444444444,
              "#bd3786"
             ],
             [
              0.5555555555555556,
              "#d8576b"
             ],
             [
              0.6666666666666666,
              "#ed7953"
             ],
             [
              0.7777777777777778,
              "#fb9f3a"
             ],
             [
              0.8888888888888888,
              "#fdca26"
             ],
             [
              1,
              "#f0f921"
             ]
            ],
            "type": "contour"
           }
          ],
          "contourcarpet": [
           {
            "colorbar": {
             "outlinewidth": 0,
             "ticks": ""
            },
            "type": "contourcarpet"
           }
          ],
          "heatmap": [
           {
            "colorbar": {
             "outlinewidth": 0,
             "ticks": ""
            },
            "colorscale": [
             [
              0,
              "#0d0887"
             ],
             [
              0.1111111111111111,
              "#46039f"
             ],
             [
              0.2222222222222222,
              "#7201a8"
             ],
             [
              0.3333333333333333,
              "#9c179e"
             ],
             [
              0.4444444444444444,
              "#bd3786"
             ],
             [
              0.5555555555555556,
              "#d8576b"
             ],
             [
              0.6666666666666666,
              "#ed7953"
             ],
             [
              0.7777777777777778,
              "#fb9f3a"
             ],
             [
              0.8888888888888888,
              "#fdca26"
             ],
             [
              1,
              "#f0f921"
             ]
            ],
            "type": "heatmap"
           }
          ],
          "heatmapgl": [
           {
            "colorbar": {
             "outlinewidth": 0,
             "ticks": ""
            },
            "colorscale": [
             [
              0,
              "#0d0887"
             ],
             [
              0.1111111111111111,
              "#46039f"
             ],
             [
              0.2222222222222222,
              "#7201a8"
             ],
             [
              0.3333333333333333,
              "#9c179e"
             ],
             [
              0.4444444444444444,
              "#bd3786"
             ],
             [
              0.5555555555555556,
              "#d8576b"
             ],
             [
              0.6666666666666666,
              "#ed7953"
             ],
             [
              0.7777777777777778,
              "#fb9f3a"
             ],
             [
              0.8888888888888888,
              "#fdca26"
             ],
             [
              1,
              "#f0f921"
             ]
            ],
            "type": "heatmapgl"
           }
          ],
          "histogram": [
           {
            "marker": {
             "pattern": {
              "fillmode": "overlay",
              "size": 10,
              "solidity": 0.2
             }
            },
            "type": "histogram"
           }
          ],
          "histogram2d": [
           {
            "colorbar": {
             "outlinewidth": 0,
             "ticks": ""
            },
            "colorscale": [
             [
              0,
              "#0d0887"
             ],
             [
              0.1111111111111111,
              "#46039f"
             ],
             [
              0.2222222222222222,
              "#7201a8"
             ],
             [
              0.3333333333333333,
              "#9c179e"
             ],
             [
              0.4444444444444444,
              "#bd3786"
             ],
             [
              0.5555555555555556,
              "#d8576b"
             ],
             [
              0.6666666666666666,
              "#ed7953"
             ],
             [
              0.7777777777777778,
              "#fb9f3a"
             ],
             [
              0.8888888888888888,
              "#fdca26"
             ],
             [
              1,
              "#f0f921"
             ]
            ],
            "type": "histogram2d"
           }
          ],
          "histogram2dcontour": [
           {
            "colorbar": {
             "outlinewidth": 0,
             "ticks": ""
            },
            "colorscale": [
             [
              0,
              "#0d0887"
             ],
             [
              0.1111111111111111,
              "#46039f"
             ],
             [
              0.2222222222222222,
              "#7201a8"
             ],
             [
              0.3333333333333333,
              "#9c179e"
             ],
             [
              0.4444444444444444,
              "#bd3786"
             ],
             [
              0.5555555555555556,
              "#d8576b"
             ],
             [
              0.6666666666666666,
              "#ed7953"
             ],
             [
              0.7777777777777778,
              "#fb9f3a"
             ],
             [
              0.8888888888888888,
              "#fdca26"
             ],
             [
              1,
              "#f0f921"
             ]
            ],
            "type": "histogram2dcontour"
           }
          ],
          "mesh3d": [
           {
            "colorbar": {
             "outlinewidth": 0,
             "ticks": ""
            },
            "type": "mesh3d"
           }
          ],
          "parcoords": [
           {
            "line": {
             "colorbar": {
              "outlinewidth": 0,
              "ticks": ""
             }
            },
            "type": "parcoords"
           }
          ],
          "pie": [
           {
            "automargin": true,
            "type": "pie"
           }
          ],
          "scatter": [
           {
            "fillpattern": {
             "fillmode": "overlay",
             "size": 10,
             "solidity": 0.2
            },
            "type": "scatter"
           }
          ],
          "scatter3d": [
           {
            "line": {
             "colorbar": {
              "outlinewidth": 0,
              "ticks": ""
             }
            },
            "marker": {
             "colorbar": {
              "outlinewidth": 0,
              "ticks": ""
             }
            },
            "type": "scatter3d"
           }
          ],
          "scattercarpet": [
           {
            "marker": {
             "colorbar": {
              "outlinewidth": 0,
              "ticks": ""
             }
            },
            "type": "scattercarpet"
           }
          ],
          "scattergeo": [
           {
            "marker": {
             "colorbar": {
              "outlinewidth": 0,
              "ticks": ""
             }
            },
            "type": "scattergeo"
           }
          ],
          "scattergl": [
           {
            "marker": {
             "colorbar": {
              "outlinewidth": 0,
              "ticks": ""
             }
            },
            "type": "scattergl"
           }
          ],
          "scattermapbox": [
           {
            "marker": {
             "colorbar": {
              "outlinewidth": 0,
              "ticks": ""
             }
            },
            "type": "scattermapbox"
           }
          ],
          "scatterpolar": [
           {
            "marker": {
             "colorbar": {
              "outlinewidth": 0,
              "ticks": ""
             }
            },
            "type": "scatterpolar"
           }
          ],
          "scatterpolargl": [
           {
            "marker": {
             "colorbar": {
              "outlinewidth": 0,
              "ticks": ""
             }
            },
            "type": "scatterpolargl"
           }
          ],
          "scatterternary": [
           {
            "marker": {
             "colorbar": {
              "outlinewidth": 0,
              "ticks": ""
             }
            },
            "type": "scatterternary"
           }
          ],
          "surface": [
           {
            "colorbar": {
             "outlinewidth": 0,
             "ticks": ""
            },
            "colorscale": [
             [
              0,
              "#0d0887"
             ],
             [
              0.1111111111111111,
              "#46039f"
             ],
             [
              0.2222222222222222,
              "#7201a8"
             ],
             [
              0.3333333333333333,
              "#9c179e"
             ],
             [
              0.4444444444444444,
              "#bd3786"
             ],
             [
              0.5555555555555556,
              "#d8576b"
             ],
             [
              0.6666666666666666,
              "#ed7953"
             ],
             [
              0.7777777777777778,
              "#fb9f3a"
             ],
             [
              0.8888888888888888,
              "#fdca26"
             ],
             [
              1,
              "#f0f921"
             ]
            ],
            "type": "surface"
           }
          ],
          "table": [
           {
            "cells": {
             "fill": {
              "color": "#EBF0F8"
             },
             "line": {
              "color": "white"
             }
            },
            "header": {
             "fill": {
              "color": "#C8D4E3"
             },
             "line": {
              "color": "white"
             }
            },
            "type": "table"
           }
          ]
         },
         "layout": {
          "annotationdefaults": {
           "arrowcolor": "#2a3f5f",
           "arrowhead": 0,
           "arrowwidth": 1
          },
          "autotypenumbers": "strict",
          "coloraxis": {
           "colorbar": {
            "outlinewidth": 0,
            "ticks": ""
           }
          },
          "colorscale": {
           "diverging": [
            [
             0,
             "#8e0152"
            ],
            [
             0.1,
             "#c51b7d"
            ],
            [
             0.2,
             "#de77ae"
            ],
            [
             0.3,
             "#f1b6da"
            ],
            [
             0.4,
             "#fde0ef"
            ],
            [
             0.5,
             "#f7f7f7"
            ],
            [
             0.6,
             "#e6f5d0"
            ],
            [
             0.7,
             "#b8e186"
            ],
            [
             0.8,
             "#7fbc41"
            ],
            [
             0.9,
             "#4d9221"
            ],
            [
             1,
             "#276419"
            ]
           ],
           "sequential": [
            [
             0,
             "#0d0887"
            ],
            [
             0.1111111111111111,
             "#46039f"
            ],
            [
             0.2222222222222222,
             "#7201a8"
            ],
            [
             0.3333333333333333,
             "#9c179e"
            ],
            [
             0.4444444444444444,
             "#bd3786"
            ],
            [
             0.5555555555555556,
             "#d8576b"
            ],
            [
             0.6666666666666666,
             "#ed7953"
            ],
            [
             0.7777777777777778,
             "#fb9f3a"
            ],
            [
             0.8888888888888888,
             "#fdca26"
            ],
            [
             1,
             "#f0f921"
            ]
           ],
           "sequentialminus": [
            [
             0,
             "#0d0887"
            ],
            [
             0.1111111111111111,
             "#46039f"
            ],
            [
             0.2222222222222222,
             "#7201a8"
            ],
            [
             0.3333333333333333,
             "#9c179e"
            ],
            [
             0.4444444444444444,
             "#bd3786"
            ],
            [
             0.5555555555555556,
             "#d8576b"
            ],
            [
             0.6666666666666666,
             "#ed7953"
            ],
            [
             0.7777777777777778,
             "#fb9f3a"
            ],
            [
             0.8888888888888888,
             "#fdca26"
            ],
            [
             1,
             "#f0f921"
            ]
           ]
          },
          "colorway": [
           "#636efa",
           "#EF553B",
           "#00cc96",
           "#ab63fa",
           "#FFA15A",
           "#19d3f3",
           "#FF6692",
           "#B6E880",
           "#FF97FF",
           "#FECB52"
          ],
          "font": {
           "color": "#2a3f5f"
          },
          "geo": {
           "bgcolor": "white",
           "lakecolor": "white",
           "landcolor": "#E5ECF6",
           "showlakes": true,
           "showland": true,
           "subunitcolor": "white"
          },
          "hoverlabel": {
           "align": "left"
          },
          "hovermode": "closest",
          "mapbox": {
           "style": "light"
          },
          "paper_bgcolor": "white",
          "plot_bgcolor": "#E5ECF6",
          "polar": {
           "angularaxis": {
            "gridcolor": "white",
            "linecolor": "white",
            "ticks": ""
           },
           "bgcolor": "#E5ECF6",
           "radialaxis": {
            "gridcolor": "white",
            "linecolor": "white",
            "ticks": ""
           }
          },
          "scene": {
           "xaxis": {
            "backgroundcolor": "#E5ECF6",
            "gridcolor": "white",
            "gridwidth": 2,
            "linecolor": "white",
            "showbackground": true,
            "ticks": "",
            "zerolinecolor": "white"
           },
           "yaxis": {
            "backgroundcolor": "#E5ECF6",
            "gridcolor": "white",
            "gridwidth": 2,
            "linecolor": "white",
            "showbackground": true,
            "ticks": "",
            "zerolinecolor": "white"
           },
           "zaxis": {
            "backgroundcolor": "#E5ECF6",
            "gridcolor": "white",
            "gridwidth": 2,
            "linecolor": "white",
            "showbackground": true,
            "ticks": "",
            "zerolinecolor": "white"
           }
          },
          "shapedefaults": {
           "line": {
            "color": "#2a3f5f"
           }
          },
          "ternary": {
           "aaxis": {
            "gridcolor": "white",
            "linecolor": "white",
            "ticks": ""
           },
           "baxis": {
            "gridcolor": "white",
            "linecolor": "white",
            "ticks": ""
           },
           "bgcolor": "#E5ECF6",
           "caxis": {
            "gridcolor": "white",
            "linecolor": "white",
            "ticks": ""
           }
          },
          "title": {
           "x": 0.05
          },
          "xaxis": {
           "automargin": true,
           "gridcolor": "white",
           "linecolor": "white",
           "ticks": "",
           "title": {
            "standoff": 15
           },
           "zerolinecolor": "white",
           "zerolinewidth": 2
          },
          "yaxis": {
           "automargin": true,
           "gridcolor": "white",
           "linecolor": "white",
           "ticks": "",
           "title": {
            "standoff": 15
           },
           "zerolinecolor": "white",
           "zerolinewidth": 2
          }
         }
        },
        "xaxis": {
         "anchor": "y",
         "domain": [
          0,
          1
         ],
         "title": {
          "text": "Código"
         }
        },
        "yaxis": {
         "anchor": "x",
         "domain": [
          0,
          1
         ],
         "title": {
          "text": "value"
         }
        }
       }
      },
      "text/html": [
       "<div>                            <div id=\"d59b948a-3c8e-4679-b39a-72bd77865818\" class=\"plotly-graph-div\" style=\"height:525px; width:100%;\"></div>            <script type=\"text/javascript\">                require([\"plotly\"], function(Plotly) {                    window.PLOTLYENV=window.PLOTLYENV || {};                                    if (document.getElementById(\"d59b948a-3c8e-4679-b39a-72bd77865818\")) {                    Plotly.newPlot(                        \"d59b948a-3c8e-4679-b39a-72bd77865818\",                        [{\"alignmentgroup\":\"True\",\"hovertemplate\":\"Genero=Hombre<br>C\\u00f3digo=%{x}<br>value=%{y}<br>Count=%{text}<extra></extra>\",\"legendgroup\":\"Hombre\",\"marker\":{\"color\":\"#636efa\",\"pattern\":{\"shape\":\"\"}},\"name\":\"Hombre\",\"offsetgroup\":\"Hombre\",\"orientation\":\"v\",\"showlegend\":true,\"text\":[977.0,94.0,2395.0,1967.0,56159.0,44106.0,3615.0,10370.0,1654.0],\"textposition\":\"auto\",\"x\":[\"A510\",\"A511\",\"A514\",\"A529\",\"A530\",\"A539\",\"E109\",\"E119\",\"E149\"],\"xaxis\":\"x\",\"y\":[100.0,100.0,91.62,99.85,92.69,93.03,57.58,59.47,58.9],\"yaxis\":\"y\",\"type\":\"bar\"},{\"alignmentgroup\":\"True\",\"hovertemplate\":\"Genero=Mujer<br>C\\u00f3digo=%{x}<br>value=%{y}<br>Count=%{text}<extra></extra>\",\"legendgroup\":\"Mujer\",\"marker\":{\"color\":\"#EF553B\",\"pattern\":{\"shape\":\"\"}},\"name\":\"Mujer\",\"offsetgroup\":\"Mujer\",\"orientation\":\"v\",\"showlegend\":true,\"text\":[219.0,3.0,4427.0,3302.0,2663.0,7067.0,1154.0],\"textposition\":\"auto\",\"x\":[\"A514\",\"A529\",\"A530\",\"A539\",\"E109\",\"E119\",\"E149\"],\"xaxis\":\"x\",\"y\":[8.38,0.15,7.31,6.97,42.42,40.53,41.1],\"yaxis\":\"y\",\"type\":\"bar\"}],                        {\"template\":{\"data\":{\"histogram2dcontour\":[{\"type\":\"histogram2dcontour\",\"colorbar\":{\"outlinewidth\":0,\"ticks\":\"\"},\"colorscale\":[[0.0,\"#0d0887\"],[0.1111111111111111,\"#46039f\"],[0.2222222222222222,\"#7201a8\"],[0.3333333333333333,\"#9c179e\"],[0.4444444444444444,\"#bd3786\"],[0.5555555555555556,\"#d8576b\"],[0.6666666666666666,\"#ed7953\"],[0.7777777777777778,\"#fb9f3a\"],[0.8888888888888888,\"#fdca26\"],[1.0,\"#f0f921\"]]}],\"choropleth\":[{\"type\":\"choropleth\",\"colorbar\":{\"outlinewidth\":0,\"ticks\":\"\"}}],\"histogram2d\":[{\"type\":\"histogram2d\",\"colorbar\":{\"outlinewidth\":0,\"ticks\":\"\"},\"colorscale\":[[0.0,\"#0d0887\"],[0.1111111111111111,\"#46039f\"],[0.2222222222222222,\"#7201a8\"],[0.3333333333333333,\"#9c179e\"],[0.4444444444444444,\"#bd3786\"],[0.5555555555555556,\"#d8576b\"],[0.6666666666666666,\"#ed7953\"],[0.7777777777777778,\"#fb9f3a\"],[0.8888888888888888,\"#fdca26\"],[1.0,\"#f0f921\"]]}],\"heatmap\":[{\"type\":\"heatmap\",\"colorbar\":{\"outlinewidth\":0,\"ticks\":\"\"},\"colorscale\":[[0.0,\"#0d0887\"],[0.1111111111111111,\"#46039f\"],[0.2222222222222222,\"#7201a8\"],[0.3333333333333333,\"#9c179e\"],[0.4444444444444444,\"#bd3786\"],[0.5555555555555556,\"#d8576b\"],[0.6666666666666666,\"#ed7953\"],[0.7777777777777778,\"#fb9f3a\"],[0.8888888888888888,\"#fdca26\"],[1.0,\"#f0f921\"]]}],\"heatmapgl\":[{\"type\":\"heatmapgl\",\"colorbar\":{\"outlinewidth\":0,\"ticks\":\"\"},\"colorscale\":[[0.0,\"#0d0887\"],[0.1111111111111111,\"#46039f\"],[0.2222222222222222,\"#7201a8\"],[0.3333333333333333,\"#9c179e\"],[0.4444444444444444,\"#bd3786\"],[0.5555555555555556,\"#d8576b\"],[0.6666666666666666,\"#ed7953\"],[0.7777777777777778,\"#fb9f3a\"],[0.8888888888888888,\"#fdca26\"],[1.0,\"#f0f921\"]]}],\"contourcarpet\":[{\"type\":\"contourcarpet\",\"colorbar\":{\"outlinewidth\":0,\"ticks\":\"\"}}],\"contour\":[{\"type\":\"contour\",\"colorbar\":{\"outlinewidth\":0,\"ticks\":\"\"},\"colorscale\":[[0.0,\"#0d0887\"],[0.1111111111111111,\"#46039f\"],[0.2222222222222222,\"#7201a8\"],[0.3333333333333333,\"#9c179e\"],[0.4444444444444444,\"#bd3786\"],[0.5555555555555556,\"#d8576b\"],[0.6666666666666666,\"#ed7953\"],[0.7777777777777778,\"#fb9f3a\"],[0.8888888888888888,\"#fdca26\"],[1.0,\"#f0f921\"]]}],\"surface\":[{\"type\":\"surface\",\"colorbar\":{\"outlinewidth\":0,\"ticks\":\"\"},\"colorscale\":[[0.0,\"#0d0887\"],[0.1111111111111111,\"#46039f\"],[0.2222222222222222,\"#7201a8\"],[0.3333333333333333,\"#9c179e\"],[0.4444444444444444,\"#bd3786\"],[0.5555555555555556,\"#d8576b\"],[0.6666666666666666,\"#ed7953\"],[0.7777777777777778,\"#fb9f3a\"],[0.8888888888888888,\"#fdca26\"],[1.0,\"#f0f921\"]]}],\"mesh3d\":[{\"type\":\"mesh3d\",\"colorbar\":{\"outlinewidth\":0,\"ticks\":\"\"}}],\"scatter\":[{\"fillpattern\":{\"fillmode\":\"overlay\",\"size\":10,\"solidity\":0.2},\"type\":\"scatter\"}],\"parcoords\":[{\"type\":\"parcoords\",\"line\":{\"colorbar\":{\"outlinewidth\":0,\"ticks\":\"\"}}}],\"scatterpolargl\":[{\"type\":\"scatterpolargl\",\"marker\":{\"colorbar\":{\"outlinewidth\":0,\"ticks\":\"\"}}}],\"bar\":[{\"error_x\":{\"color\":\"#2a3f5f\"},\"error_y\":{\"color\":\"#2a3f5f\"},\"marker\":{\"line\":{\"color\":\"#E5ECF6\",\"width\":0.5},\"pattern\":{\"fillmode\":\"overlay\",\"size\":10,\"solidity\":0.2}},\"type\":\"bar\"}],\"scattergeo\":[{\"type\":\"scattergeo\",\"marker\":{\"colorbar\":{\"outlinewidth\":0,\"ticks\":\"\"}}}],\"scatterpolar\":[{\"type\":\"scatterpolar\",\"marker\":{\"colorbar\":{\"outlinewidth\":0,\"ticks\":\"\"}}}],\"histogram\":[{\"marker\":{\"pattern\":{\"fillmode\":\"overlay\",\"size\":10,\"solidity\":0.2}},\"type\":\"histogram\"}],\"scattergl\":[{\"type\":\"scattergl\",\"marker\":{\"colorbar\":{\"outlinewidth\":0,\"ticks\":\"\"}}}],\"scatter3d\":[{\"type\":\"scatter3d\",\"line\":{\"colorbar\":{\"outlinewidth\":0,\"ticks\":\"\"}},\"marker\":{\"colorbar\":{\"outlinewidth\":0,\"ticks\":\"\"}}}],\"scattermapbox\":[{\"type\":\"scattermapbox\",\"marker\":{\"colorbar\":{\"outlinewidth\":0,\"ticks\":\"\"}}}],\"scatterternary\":[{\"type\":\"scatterternary\",\"marker\":{\"colorbar\":{\"outlinewidth\":0,\"ticks\":\"\"}}}],\"scattercarpet\":[{\"type\":\"scattercarpet\",\"marker\":{\"colorbar\":{\"outlinewidth\":0,\"ticks\":\"\"}}}],\"carpet\":[{\"aaxis\":{\"endlinecolor\":\"#2a3f5f\",\"gridcolor\":\"white\",\"linecolor\":\"white\",\"minorgridcolor\":\"white\",\"startlinecolor\":\"#2a3f5f\"},\"baxis\":{\"endlinecolor\":\"#2a3f5f\",\"gridcolor\":\"white\",\"linecolor\":\"white\",\"minorgridcolor\":\"white\",\"startlinecolor\":\"#2a3f5f\"},\"type\":\"carpet\"}],\"table\":[{\"cells\":{\"fill\":{\"color\":\"#EBF0F8\"},\"line\":{\"color\":\"white\"}},\"header\":{\"fill\":{\"color\":\"#C8D4E3\"},\"line\":{\"color\":\"white\"}},\"type\":\"table\"}],\"barpolar\":[{\"marker\":{\"line\":{\"color\":\"#E5ECF6\",\"width\":0.5},\"pattern\":{\"fillmode\":\"overlay\",\"size\":10,\"solidity\":0.2}},\"type\":\"barpolar\"}],\"pie\":[{\"automargin\":true,\"type\":\"pie\"}]},\"layout\":{\"autotypenumbers\":\"strict\",\"colorway\":[\"#636efa\",\"#EF553B\",\"#00cc96\",\"#ab63fa\",\"#FFA15A\",\"#19d3f3\",\"#FF6692\",\"#B6E880\",\"#FF97FF\",\"#FECB52\"],\"font\":{\"color\":\"#2a3f5f\"},\"hovermode\":\"closest\",\"hoverlabel\":{\"align\":\"left\"},\"paper_bgcolor\":\"white\",\"plot_bgcolor\":\"#E5ECF6\",\"polar\":{\"bgcolor\":\"#E5ECF6\",\"angularaxis\":{\"gridcolor\":\"white\",\"linecolor\":\"white\",\"ticks\":\"\"},\"radialaxis\":{\"gridcolor\":\"white\",\"linecolor\":\"white\",\"ticks\":\"\"}},\"ternary\":{\"bgcolor\":\"#E5ECF6\",\"aaxis\":{\"gridcolor\":\"white\",\"linecolor\":\"white\",\"ticks\":\"\"},\"baxis\":{\"gridcolor\":\"white\",\"linecolor\":\"white\",\"ticks\":\"\"},\"caxis\":{\"gridcolor\":\"white\",\"linecolor\":\"white\",\"ticks\":\"\"}},\"coloraxis\":{\"colorbar\":{\"outlinewidth\":0,\"ticks\":\"\"}},\"colorscale\":{\"sequential\":[[0.0,\"#0d0887\"],[0.1111111111111111,\"#46039f\"],[0.2222222222222222,\"#7201a8\"],[0.3333333333333333,\"#9c179e\"],[0.4444444444444444,\"#bd3786\"],[0.5555555555555556,\"#d8576b\"],[0.6666666666666666,\"#ed7953\"],[0.7777777777777778,\"#fb9f3a\"],[0.8888888888888888,\"#fdca26\"],[1.0,\"#f0f921\"]],\"sequentialminus\":[[0.0,\"#0d0887\"],[0.1111111111111111,\"#46039f\"],[0.2222222222222222,\"#7201a8\"],[0.3333333333333333,\"#9c179e\"],[0.4444444444444444,\"#bd3786\"],[0.5555555555555556,\"#d8576b\"],[0.6666666666666666,\"#ed7953\"],[0.7777777777777778,\"#fb9f3a\"],[0.8888888888888888,\"#fdca26\"],[1.0,\"#f0f921\"]],\"diverging\":[[0,\"#8e0152\"],[0.1,\"#c51b7d\"],[0.2,\"#de77ae\"],[0.3,\"#f1b6da\"],[0.4,\"#fde0ef\"],[0.5,\"#f7f7f7\"],[0.6,\"#e6f5d0\"],[0.7,\"#b8e186\"],[0.8,\"#7fbc41\"],[0.9,\"#4d9221\"],[1,\"#276419\"]]},\"xaxis\":{\"gridcolor\":\"white\",\"linecolor\":\"white\",\"ticks\":\"\",\"title\":{\"standoff\":15},\"zerolinecolor\":\"white\",\"automargin\":true,\"zerolinewidth\":2},\"yaxis\":{\"gridcolor\":\"white\",\"linecolor\":\"white\",\"ticks\":\"\",\"title\":{\"standoff\":15},\"zerolinecolor\":\"white\",\"automargin\":true,\"zerolinewidth\":2},\"scene\":{\"xaxis\":{\"backgroundcolor\":\"#E5ECF6\",\"gridcolor\":\"white\",\"linecolor\":\"white\",\"showbackground\":true,\"ticks\":\"\",\"zerolinecolor\":\"white\",\"gridwidth\":2},\"yaxis\":{\"backgroundcolor\":\"#E5ECF6\",\"gridcolor\":\"white\",\"linecolor\":\"white\",\"showbackground\":true,\"ticks\":\"\",\"zerolinecolor\":\"white\",\"gridwidth\":2},\"zaxis\":{\"backgroundcolor\":\"#E5ECF6\",\"gridcolor\":\"white\",\"linecolor\":\"white\",\"showbackground\":true,\"ticks\":\"\",\"zerolinecolor\":\"white\",\"gridwidth\":2}},\"shapedefaults\":{\"line\":{\"color\":\"#2a3f5f\"}},\"annotationdefaults\":{\"arrowcolor\":\"#2a3f5f\",\"arrowhead\":0,\"arrowwidth\":1},\"geo\":{\"bgcolor\":\"white\",\"landcolor\":\"#E5ECF6\",\"subunitcolor\":\"white\",\"showland\":true,\"showlakes\":true,\"lakecolor\":\"white\"},\"title\":{\"x\":0.05},\"mapbox\":{\"style\":\"light\"}}},\"xaxis\":{\"anchor\":\"y\",\"domain\":[0.0,1.0],\"title\":{\"text\":\"C\\u00f3digo\"}},\"yaxis\":{\"anchor\":\"x\",\"domain\":[0.0,1.0],\"title\":{\"text\":\"value\"}},\"legend\":{\"title\":{\"text\":\"Genero\"},\"tracegroupgap\":0},\"margin\":{\"t\":60},\"barmode\":\"relative\"},                        {\"responsive\": true}                    ).then(function(){\n",
       "                            \n",
       "var gd = document.getElementById('d59b948a-3c8e-4679-b39a-72bd77865818');\n",
       "var x = new MutationObserver(function (mutations, observer) {{\n",
       "        var display = window.getComputedStyle(gd).display;\n",
       "        if (!display || display === 'none') {{\n",
       "            console.log([gd, 'removed!']);\n",
       "            Plotly.purge(gd);\n",
       "            observer.disconnect();\n",
       "        }}\n",
       "}});\n",
       "\n",
       "// Listen for the removal of the full notebook cells\n",
       "var notebookContainer = gd.closest('#notebook-container');\n",
       "if (notebookContainer) {{\n",
       "    x.observe(notebookContainer, {childList: true});\n",
       "}}\n",
       "\n",
       "// Listen for the clearing of the current output cell\n",
       "var outputEl = gd.closest('.output');\n",
       "if (outputEl) {{\n",
       "    x.observe(outputEl, {childList: true});\n",
       "}}\n",
       "\n",
       "                        })                };                });            </script>        </div>"
      ]
     },
     "metadata": {},
     "output_type": "display_data"
    }
   ],
   "source": [
    "var_of_interest = 'Genero'\n",
    "\n",
    "df_analysis = merged[['Nombre', 'Código', var_of_interest]].value_counts().to_frame('Count')\n",
    "df_analysis['Percentage'] = (df_analysis.Count / sum(df_analysis.Count) * 100).round(2)\n",
    "df_analysis.sort_values(['Código', 'Count'], ascending=False)\n",
    "\n",
    "df_analysis = df_analysis.reset_index()\n",
    "df_analysis['Percentage'] = df_analysis.apply(lambda row: percentage_for_code(df_analysis, row), axis=1)\n",
    "df_analysis = df_analysis.sort_values(['Código'])\n",
    "\n",
    "fig = px.bar(\n",
    "    df_analysis,\n",
    "    x='Código',\n",
    "    y=['Percentage'],\n",
    "    color=var_of_interest,\n",
    "    # text=df_analysis['Percentage'].apply(lambda x: '{0:1.2f}%'.format(x)),\n",
    "    text=df_analysis['Count'],\n",
    "    )\n",
    "# fig.update_layout(height=400, width=800)\n",
    "# fig.update_layout(xaxis={'categoryorder':'total descending'})\n",
    "fig.show()"
   ]
  },
  {
   "cell_type": "code",
   "execution_count": 158,
   "metadata": {},
   "outputs": [
    {
     "data": {
      "application/vnd.plotly.v1+json": {
       "config": {
        "plotlyServerURL": "https://plot.ly"
       },
       "data": [
        {
         "alignmentgroup": "True",
         "hovertemplate": "GrupoEtnico=Indígena<br>Código=%{x}<br>value=%{y}<br>Count=%{text}<extra></extra>",
         "legendgroup": "Indígena",
         "marker": {
          "color": "#636efa",
          "pattern": {
           "shape": ""
          }
         },
         "name": "Indígena",
         "offsetgroup": "Indígena",
         "orientation": "v",
         "showlegend": true,
         "text": [
          1,
          24,
          1,
          709,
          219,
          57,
          8
         ],
         "textposition": "auto",
         "type": "bar",
         "x": [
          "A510",
          "A514",
          "A529",
          "A530",
          "A539",
          "E109",
          "E119"
         ],
         "xaxis": "x",
         "y": [
          0.1,
          0.92,
          0.05,
          1.17,
          0.46,
          0.91,
          0.05
         ],
         "yaxis": "y"
        },
        {
         "alignmentgroup": "True",
         "hovertemplate": "GrupoEtnico=Ninguno de los anteriores<br>Código=%{x}<br>value=%{y}<br>Count=%{text}<extra></extra>",
         "legendgroup": "Ninguno de los anteriores",
         "marker": {
          "color": "#EF553B",
          "pattern": {
           "shape": ""
          }
         },
         "name": "Ninguno de los anteriores",
         "offsetgroup": "Ninguno de los anteriores",
         "orientation": "v",
         "showlegend": true,
         "text": [
          98,
          35,
          25,
          1672,
          2193,
          1103,
          3093,
          842
         ],
         "textposition": "auto",
         "type": "bar",
         "x": [
          "A510",
          "A514",
          "A529",
          "A530",
          "A539",
          "E109",
          "E119",
          "E149"
         ],
         "xaxis": "x",
         "y": [
          10.03,
          1.34,
          1.27,
          2.76,
          4.63,
          17.57,
          17.74,
          29.99
         ],
         "yaxis": "y"
        },
        {
         "alignmentgroup": "True",
         "hovertemplate": "GrupoEtnico=Negro, Mulato, Afrocolombiano o Afro descendiente<br>Código=%{x}<br>value=%{y}<br>Count=%{text}<extra></extra>",
         "legendgroup": "Negro, Mulato, Afrocolombiano o Afro descendiente",
         "marker": {
          "color": "#00cc96",
          "pattern": {
           "shape": ""
          }
         },
         "name": "Negro, Mulato, Afrocolombiano o Afro descendiente",
         "offsetgroup": "Negro, Mulato, Afrocolombiano o Afro descendiente",
         "orientation": "v",
         "showlegend": true,
         "text": [
          30,
          85,
          38,
          3014,
          1241,
          142,
          364,
          78
         ],
         "textposition": "auto",
         "type": "bar",
         "x": [
          "A510",
          "A514",
          "A529",
          "A530",
          "A539",
          "E109",
          "E119",
          "E149"
         ],
         "xaxis": "x",
         "y": [
          3.07,
          3.25,
          1.93,
          4.97,
          2.62,
          2.26,
          2.09,
          2.78
         ],
         "yaxis": "y"
        },
        {
         "alignmentgroup": "True",
         "hovertemplate": "GrupoEtnico=Mestizo<br>Código=%{x}<br>value=%{y}<br>Count=%{text}<extra></extra>",
         "legendgroup": "Mestizo",
         "marker": {
          "color": "#ab63fa",
          "pattern": {
           "shape": ""
          }
         },
         "name": "Mestizo",
         "offsetgroup": "Mestizo",
         "orientation": "v",
         "showlegend": true,
         "text": [
          836,
          94,
          2355,
          1841,
          51810,
          41967,
          4509,
          12746,
          1695
         ],
         "textposition": "auto",
         "type": "bar",
         "x": [
          "A510",
          "A511",
          "A514",
          "A529",
          "A530",
          "A539",
          "E109",
          "E119",
          "E149"
         ],
         "xaxis": "x",
         "y": [
          85.57,
          100,
          90.09,
          93.45,
          85.51,
          88.52,
          71.82,
          73.1,
          60.36
         ],
         "yaxis": "y"
        },
        {
         "alignmentgroup": "True",
         "hovertemplate": "GrupoEtnico=Blanco<br>Código=%{x}<br>value=%{y}<br>Count=%{text}<extra></extra>",
         "legendgroup": "Blanco",
         "marker": {
          "color": "#FFA15A",
          "pattern": {
           "shape": ""
          }
         },
         "name": "Blanco",
         "offsetgroup": "Blanco",
         "orientation": "v",
         "showlegend": true,
         "text": [
          12,
          115,
          65,
          3381,
          1783,
          467,
          1226,
          193
         ],
         "textposition": "auto",
         "type": "bar",
         "x": [
          "A510",
          "A514",
          "A529",
          "A530",
          "A539",
          "E109",
          "E119",
          "E149"
         ],
         "xaxis": "x",
         "y": [
          1.23,
          4.4,
          3.3,
          5.58,
          3.76,
          7.44,
          7.03,
          6.87
         ],
         "yaxis": "y"
        },
        {
         "alignmentgroup": "True",
         "hovertemplate": "GrupoEtnico=Palenquero de San Basilio<br>Código=%{x}<br>value=%{y}<br>Count=%{text}<extra></extra>",
         "legendgroup": "Palenquero de San Basilio",
         "marker": {
          "color": "#19d3f3",
          "pattern": {
           "shape": ""
          }
         },
         "name": "Palenquero de San Basilio",
         "offsetgroup": "Palenquero de San Basilio",
         "orientation": "v",
         "showlegend": true,
         "text": [
          5
         ],
         "textposition": "auto",
         "type": "bar",
         "x": [
          "A539"
         ],
         "xaxis": "x",
         "y": [
          0.01
         ],
         "yaxis": "y"
        }
       ],
       "layout": {
        "barmode": "relative",
        "legend": {
         "title": {
          "text": "GrupoEtnico"
         },
         "tracegroupgap": 0
        },
        "margin": {
         "t": 60
        },
        "template": {
         "data": {
          "bar": [
           {
            "error_x": {
             "color": "#2a3f5f"
            },
            "error_y": {
             "color": "#2a3f5f"
            },
            "marker": {
             "line": {
              "color": "#E5ECF6",
              "width": 0.5
             },
             "pattern": {
              "fillmode": "overlay",
              "size": 10,
              "solidity": 0.2
             }
            },
            "type": "bar"
           }
          ],
          "barpolar": [
           {
            "marker": {
             "line": {
              "color": "#E5ECF6",
              "width": 0.5
             },
             "pattern": {
              "fillmode": "overlay",
              "size": 10,
              "solidity": 0.2
             }
            },
            "type": "barpolar"
           }
          ],
          "carpet": [
           {
            "aaxis": {
             "endlinecolor": "#2a3f5f",
             "gridcolor": "white",
             "linecolor": "white",
             "minorgridcolor": "white",
             "startlinecolor": "#2a3f5f"
            },
            "baxis": {
             "endlinecolor": "#2a3f5f",
             "gridcolor": "white",
             "linecolor": "white",
             "minorgridcolor": "white",
             "startlinecolor": "#2a3f5f"
            },
            "type": "carpet"
           }
          ],
          "choropleth": [
           {
            "colorbar": {
             "outlinewidth": 0,
             "ticks": ""
            },
            "type": "choropleth"
           }
          ],
          "contour": [
           {
            "colorbar": {
             "outlinewidth": 0,
             "ticks": ""
            },
            "colorscale": [
             [
              0,
              "#0d0887"
             ],
             [
              0.1111111111111111,
              "#46039f"
             ],
             [
              0.2222222222222222,
              "#7201a8"
             ],
             [
              0.3333333333333333,
              "#9c179e"
             ],
             [
              0.4444444444444444,
              "#bd3786"
             ],
             [
              0.5555555555555556,
              "#d8576b"
             ],
             [
              0.6666666666666666,
              "#ed7953"
             ],
             [
              0.7777777777777778,
              "#fb9f3a"
             ],
             [
              0.8888888888888888,
              "#fdca26"
             ],
             [
              1,
              "#f0f921"
             ]
            ],
            "type": "contour"
           }
          ],
          "contourcarpet": [
           {
            "colorbar": {
             "outlinewidth": 0,
             "ticks": ""
            },
            "type": "contourcarpet"
           }
          ],
          "heatmap": [
           {
            "colorbar": {
             "outlinewidth": 0,
             "ticks": ""
            },
            "colorscale": [
             [
              0,
              "#0d0887"
             ],
             [
              0.1111111111111111,
              "#46039f"
             ],
             [
              0.2222222222222222,
              "#7201a8"
             ],
             [
              0.3333333333333333,
              "#9c179e"
             ],
             [
              0.4444444444444444,
              "#bd3786"
             ],
             [
              0.5555555555555556,
              "#d8576b"
             ],
             [
              0.6666666666666666,
              "#ed7953"
             ],
             [
              0.7777777777777778,
              "#fb9f3a"
             ],
             [
              0.8888888888888888,
              "#fdca26"
             ],
             [
              1,
              "#f0f921"
             ]
            ],
            "type": "heatmap"
           }
          ],
          "heatmapgl": [
           {
            "colorbar": {
             "outlinewidth": 0,
             "ticks": ""
            },
            "colorscale": [
             [
              0,
              "#0d0887"
             ],
             [
              0.1111111111111111,
              "#46039f"
             ],
             [
              0.2222222222222222,
              "#7201a8"
             ],
             [
              0.3333333333333333,
              "#9c179e"
             ],
             [
              0.4444444444444444,
              "#bd3786"
             ],
             [
              0.5555555555555556,
              "#d8576b"
             ],
             [
              0.6666666666666666,
              "#ed7953"
             ],
             [
              0.7777777777777778,
              "#fb9f3a"
             ],
             [
              0.8888888888888888,
              "#fdca26"
             ],
             [
              1,
              "#f0f921"
             ]
            ],
            "type": "heatmapgl"
           }
          ],
          "histogram": [
           {
            "marker": {
             "pattern": {
              "fillmode": "overlay",
              "size": 10,
              "solidity": 0.2
             }
            },
            "type": "histogram"
           }
          ],
          "histogram2d": [
           {
            "colorbar": {
             "outlinewidth": 0,
             "ticks": ""
            },
            "colorscale": [
             [
              0,
              "#0d0887"
             ],
             [
              0.1111111111111111,
              "#46039f"
             ],
             [
              0.2222222222222222,
              "#7201a8"
             ],
             [
              0.3333333333333333,
              "#9c179e"
             ],
             [
              0.4444444444444444,
              "#bd3786"
             ],
             [
              0.5555555555555556,
              "#d8576b"
             ],
             [
              0.6666666666666666,
              "#ed7953"
             ],
             [
              0.7777777777777778,
              "#fb9f3a"
             ],
             [
              0.8888888888888888,
              "#fdca26"
             ],
             [
              1,
              "#f0f921"
             ]
            ],
            "type": "histogram2d"
           }
          ],
          "histogram2dcontour": [
           {
            "colorbar": {
             "outlinewidth": 0,
             "ticks": ""
            },
            "colorscale": [
             [
              0,
              "#0d0887"
             ],
             [
              0.1111111111111111,
              "#46039f"
             ],
             [
              0.2222222222222222,
              "#7201a8"
             ],
             [
              0.3333333333333333,
              "#9c179e"
             ],
             [
              0.4444444444444444,
              "#bd3786"
             ],
             [
              0.5555555555555556,
              "#d8576b"
             ],
             [
              0.6666666666666666,
              "#ed7953"
             ],
             [
              0.7777777777777778,
              "#fb9f3a"
             ],
             [
              0.8888888888888888,
              "#fdca26"
             ],
             [
              1,
              "#f0f921"
             ]
            ],
            "type": "histogram2dcontour"
           }
          ],
          "mesh3d": [
           {
            "colorbar": {
             "outlinewidth": 0,
             "ticks": ""
            },
            "type": "mesh3d"
           }
          ],
          "parcoords": [
           {
            "line": {
             "colorbar": {
              "outlinewidth": 0,
              "ticks": ""
             }
            },
            "type": "parcoords"
           }
          ],
          "pie": [
           {
            "automargin": true,
            "type": "pie"
           }
          ],
          "scatter": [
           {
            "fillpattern": {
             "fillmode": "overlay",
             "size": 10,
             "solidity": 0.2
            },
            "type": "scatter"
           }
          ],
          "scatter3d": [
           {
            "line": {
             "colorbar": {
              "outlinewidth": 0,
              "ticks": ""
             }
            },
            "marker": {
             "colorbar": {
              "outlinewidth": 0,
              "ticks": ""
             }
            },
            "type": "scatter3d"
           }
          ],
          "scattercarpet": [
           {
            "marker": {
             "colorbar": {
              "outlinewidth": 0,
              "ticks": ""
             }
            },
            "type": "scattercarpet"
           }
          ],
          "scattergeo": [
           {
            "marker": {
             "colorbar": {
              "outlinewidth": 0,
              "ticks": ""
             }
            },
            "type": "scattergeo"
           }
          ],
          "scattergl": [
           {
            "marker": {
             "colorbar": {
              "outlinewidth": 0,
              "ticks": ""
             }
            },
            "type": "scattergl"
           }
          ],
          "scattermapbox": [
           {
            "marker": {
             "colorbar": {
              "outlinewidth": 0,
              "ticks": ""
             }
            },
            "type": "scattermapbox"
           }
          ],
          "scatterpolar": [
           {
            "marker": {
             "colorbar": {
              "outlinewidth": 0,
              "ticks": ""
             }
            },
            "type": "scatterpolar"
           }
          ],
          "scatterpolargl": [
           {
            "marker": {
             "colorbar": {
              "outlinewidth": 0,
              "ticks": ""
             }
            },
            "type": "scatterpolargl"
           }
          ],
          "scatterternary": [
           {
            "marker": {
             "colorbar": {
              "outlinewidth": 0,
              "ticks": ""
             }
            },
            "type": "scatterternary"
           }
          ],
          "surface": [
           {
            "colorbar": {
             "outlinewidth": 0,
             "ticks": ""
            },
            "colorscale": [
             [
              0,
              "#0d0887"
             ],
             [
              0.1111111111111111,
              "#46039f"
             ],
             [
              0.2222222222222222,
              "#7201a8"
             ],
             [
              0.3333333333333333,
              "#9c179e"
             ],
             [
              0.4444444444444444,
              "#bd3786"
             ],
             [
              0.5555555555555556,
              "#d8576b"
             ],
             [
              0.6666666666666666,
              "#ed7953"
             ],
             [
              0.7777777777777778,
              "#fb9f3a"
             ],
             [
              0.8888888888888888,
              "#fdca26"
             ],
             [
              1,
              "#f0f921"
             ]
            ],
            "type": "surface"
           }
          ],
          "table": [
           {
            "cells": {
             "fill": {
              "color": "#EBF0F8"
             },
             "line": {
              "color": "white"
             }
            },
            "header": {
             "fill": {
              "color": "#C8D4E3"
             },
             "line": {
              "color": "white"
             }
            },
            "type": "table"
           }
          ]
         },
         "layout": {
          "annotationdefaults": {
           "arrowcolor": "#2a3f5f",
           "arrowhead": 0,
           "arrowwidth": 1
          },
          "autotypenumbers": "strict",
          "coloraxis": {
           "colorbar": {
            "outlinewidth": 0,
            "ticks": ""
           }
          },
          "colorscale": {
           "diverging": [
            [
             0,
             "#8e0152"
            ],
            [
             0.1,
             "#c51b7d"
            ],
            [
             0.2,
             "#de77ae"
            ],
            [
             0.3,
             "#f1b6da"
            ],
            [
             0.4,
             "#fde0ef"
            ],
            [
             0.5,
             "#f7f7f7"
            ],
            [
             0.6,
             "#e6f5d0"
            ],
            [
             0.7,
             "#b8e186"
            ],
            [
             0.8,
             "#7fbc41"
            ],
            [
             0.9,
             "#4d9221"
            ],
            [
             1,
             "#276419"
            ]
           ],
           "sequential": [
            [
             0,
             "#0d0887"
            ],
            [
             0.1111111111111111,
             "#46039f"
            ],
            [
             0.2222222222222222,
             "#7201a8"
            ],
            [
             0.3333333333333333,
             "#9c179e"
            ],
            [
             0.4444444444444444,
             "#bd3786"
            ],
            [
             0.5555555555555556,
             "#d8576b"
            ],
            [
             0.6666666666666666,
             "#ed7953"
            ],
            [
             0.7777777777777778,
             "#fb9f3a"
            ],
            [
             0.8888888888888888,
             "#fdca26"
            ],
            [
             1,
             "#f0f921"
            ]
           ],
           "sequentialminus": [
            [
             0,
             "#0d0887"
            ],
            [
             0.1111111111111111,
             "#46039f"
            ],
            [
             0.2222222222222222,
             "#7201a8"
            ],
            [
             0.3333333333333333,
             "#9c179e"
            ],
            [
             0.4444444444444444,
             "#bd3786"
            ],
            [
             0.5555555555555556,
             "#d8576b"
            ],
            [
             0.6666666666666666,
             "#ed7953"
            ],
            [
             0.7777777777777778,
             "#fb9f3a"
            ],
            [
             0.8888888888888888,
             "#fdca26"
            ],
            [
             1,
             "#f0f921"
            ]
           ]
          },
          "colorway": [
           "#636efa",
           "#EF553B",
           "#00cc96",
           "#ab63fa",
           "#FFA15A",
           "#19d3f3",
           "#FF6692",
           "#B6E880",
           "#FF97FF",
           "#FECB52"
          ],
          "font": {
           "color": "#2a3f5f"
          },
          "geo": {
           "bgcolor": "white",
           "lakecolor": "white",
           "landcolor": "#E5ECF6",
           "showlakes": true,
           "showland": true,
           "subunitcolor": "white"
          },
          "hoverlabel": {
           "align": "left"
          },
          "hovermode": "closest",
          "mapbox": {
           "style": "light"
          },
          "paper_bgcolor": "white",
          "plot_bgcolor": "#E5ECF6",
          "polar": {
           "angularaxis": {
            "gridcolor": "white",
            "linecolor": "white",
            "ticks": ""
           },
           "bgcolor": "#E5ECF6",
           "radialaxis": {
            "gridcolor": "white",
            "linecolor": "white",
            "ticks": ""
           }
          },
          "scene": {
           "xaxis": {
            "backgroundcolor": "#E5ECF6",
            "gridcolor": "white",
            "gridwidth": 2,
            "linecolor": "white",
            "showbackground": true,
            "ticks": "",
            "zerolinecolor": "white"
           },
           "yaxis": {
            "backgroundcolor": "#E5ECF6",
            "gridcolor": "white",
            "gridwidth": 2,
            "linecolor": "white",
            "showbackground": true,
            "ticks": "",
            "zerolinecolor": "white"
           },
           "zaxis": {
            "backgroundcolor": "#E5ECF6",
            "gridcolor": "white",
            "gridwidth": 2,
            "linecolor": "white",
            "showbackground": true,
            "ticks": "",
            "zerolinecolor": "white"
           }
          },
          "shapedefaults": {
           "line": {
            "color": "#2a3f5f"
           }
          },
          "ternary": {
           "aaxis": {
            "gridcolor": "white",
            "linecolor": "white",
            "ticks": ""
           },
           "baxis": {
            "gridcolor": "white",
            "linecolor": "white",
            "ticks": ""
           },
           "bgcolor": "#E5ECF6",
           "caxis": {
            "gridcolor": "white",
            "linecolor": "white",
            "ticks": ""
           }
          },
          "title": {
           "x": 0.05
          },
          "xaxis": {
           "automargin": true,
           "gridcolor": "white",
           "linecolor": "white",
           "ticks": "",
           "title": {
            "standoff": 15
           },
           "zerolinecolor": "white",
           "zerolinewidth": 2
          },
          "yaxis": {
           "automargin": true,
           "gridcolor": "white",
           "linecolor": "white",
           "ticks": "",
           "title": {
            "standoff": 15
           },
           "zerolinecolor": "white",
           "zerolinewidth": 2
          }
         }
        },
        "xaxis": {
         "anchor": "y",
         "domain": [
          0,
          1
         ],
         "title": {
          "text": "Código"
         }
        },
        "yaxis": {
         "anchor": "x",
         "domain": [
          0,
          1
         ],
         "title": {
          "text": "value"
         }
        }
       }
      },
      "text/html": [
       "<div>                            <div id=\"4518aa15-dfd1-4706-80cd-0726562f72af\" class=\"plotly-graph-div\" style=\"height:525px; width:100%;\"></div>            <script type=\"text/javascript\">                require([\"plotly\"], function(Plotly) {                    window.PLOTLYENV=window.PLOTLYENV || {};                                    if (document.getElementById(\"4518aa15-dfd1-4706-80cd-0726562f72af\")) {                    Plotly.newPlot(                        \"4518aa15-dfd1-4706-80cd-0726562f72af\",                        [{\"alignmentgroup\":\"True\",\"hovertemplate\":\"GrupoEtnico=Ind\\u00edgena<br>C\\u00f3digo=%{x}<br>value=%{y}<br>Count=%{text}<extra></extra>\",\"legendgroup\":\"Ind\\u00edgena\",\"marker\":{\"color\":\"#636efa\",\"pattern\":{\"shape\":\"\"}},\"name\":\"Ind\\u00edgena\",\"offsetgroup\":\"Ind\\u00edgena\",\"orientation\":\"v\",\"showlegend\":true,\"text\":[1.0,24.0,1.0,709.0,219.0,57.0,8.0],\"textposition\":\"auto\",\"x\":[\"A510\",\"A514\",\"A529\",\"A530\",\"A539\",\"E109\",\"E119\"],\"xaxis\":\"x\",\"y\":[0.1,0.92,0.05,1.17,0.46,0.91,0.05],\"yaxis\":\"y\",\"type\":\"bar\"},{\"alignmentgroup\":\"True\",\"hovertemplate\":\"GrupoEtnico=Ninguno de los anteriores<br>C\\u00f3digo=%{x}<br>value=%{y}<br>Count=%{text}<extra></extra>\",\"legendgroup\":\"Ninguno de los anteriores\",\"marker\":{\"color\":\"#EF553B\",\"pattern\":{\"shape\":\"\"}},\"name\":\"Ninguno de los anteriores\",\"offsetgroup\":\"Ninguno de los anteriores\",\"orientation\":\"v\",\"showlegend\":true,\"text\":[98.0,35.0,25.0,1672.0,2193.0,1103.0,3093.0,842.0],\"textposition\":\"auto\",\"x\":[\"A510\",\"A514\",\"A529\",\"A530\",\"A539\",\"E109\",\"E119\",\"E149\"],\"xaxis\":\"x\",\"y\":[10.03,1.34,1.27,2.76,4.63,17.57,17.74,29.99],\"yaxis\":\"y\",\"type\":\"bar\"},{\"alignmentgroup\":\"True\",\"hovertemplate\":\"GrupoEtnico=Negro, Mulato, Afrocolombiano o Afro descendiente<br>C\\u00f3digo=%{x}<br>value=%{y}<br>Count=%{text}<extra></extra>\",\"legendgroup\":\"Negro, Mulato, Afrocolombiano o Afro descendiente\",\"marker\":{\"color\":\"#00cc96\",\"pattern\":{\"shape\":\"\"}},\"name\":\"Negro, Mulato, Afrocolombiano o Afro descendiente\",\"offsetgroup\":\"Negro, Mulato, Afrocolombiano o Afro descendiente\",\"orientation\":\"v\",\"showlegend\":true,\"text\":[30.0,85.0,38.0,3014.0,1241.0,142.0,364.0,78.0],\"textposition\":\"auto\",\"x\":[\"A510\",\"A514\",\"A529\",\"A530\",\"A539\",\"E109\",\"E119\",\"E149\"],\"xaxis\":\"x\",\"y\":[3.07,3.25,1.93,4.97,2.62,2.26,2.09,2.78],\"yaxis\":\"y\",\"type\":\"bar\"},{\"alignmentgroup\":\"True\",\"hovertemplate\":\"GrupoEtnico=Mestizo<br>C\\u00f3digo=%{x}<br>value=%{y}<br>Count=%{text}<extra></extra>\",\"legendgroup\":\"Mestizo\",\"marker\":{\"color\":\"#ab63fa\",\"pattern\":{\"shape\":\"\"}},\"name\":\"Mestizo\",\"offsetgroup\":\"Mestizo\",\"orientation\":\"v\",\"showlegend\":true,\"text\":[836.0,94.0,2355.0,1841.0,51810.0,41967.0,4509.0,12746.0,1695.0],\"textposition\":\"auto\",\"x\":[\"A510\",\"A511\",\"A514\",\"A529\",\"A530\",\"A539\",\"E109\",\"E119\",\"E149\"],\"xaxis\":\"x\",\"y\":[85.57,100.0,90.09,93.45,85.51,88.52,71.82,73.1,60.36],\"yaxis\":\"y\",\"type\":\"bar\"},{\"alignmentgroup\":\"True\",\"hovertemplate\":\"GrupoEtnico=Blanco<br>C\\u00f3digo=%{x}<br>value=%{y}<br>Count=%{text}<extra></extra>\",\"legendgroup\":\"Blanco\",\"marker\":{\"color\":\"#FFA15A\",\"pattern\":{\"shape\":\"\"}},\"name\":\"Blanco\",\"offsetgroup\":\"Blanco\",\"orientation\":\"v\",\"showlegend\":true,\"text\":[12.0,115.0,65.0,3381.0,1783.0,467.0,1226.0,193.0],\"textposition\":\"auto\",\"x\":[\"A510\",\"A514\",\"A529\",\"A530\",\"A539\",\"E109\",\"E119\",\"E149\"],\"xaxis\":\"x\",\"y\":[1.23,4.4,3.3,5.58,3.76,7.44,7.03,6.87],\"yaxis\":\"y\",\"type\":\"bar\"},{\"alignmentgroup\":\"True\",\"hovertemplate\":\"GrupoEtnico=Palenquero de San Basilio<br>C\\u00f3digo=%{x}<br>value=%{y}<br>Count=%{text}<extra></extra>\",\"legendgroup\":\"Palenquero de San Basilio\",\"marker\":{\"color\":\"#19d3f3\",\"pattern\":{\"shape\":\"\"}},\"name\":\"Palenquero de San Basilio\",\"offsetgroup\":\"Palenquero de San Basilio\",\"orientation\":\"v\",\"showlegend\":true,\"text\":[5.0],\"textposition\":\"auto\",\"x\":[\"A539\"],\"xaxis\":\"x\",\"y\":[0.01],\"yaxis\":\"y\",\"type\":\"bar\"}],                        {\"template\":{\"data\":{\"histogram2dcontour\":[{\"type\":\"histogram2dcontour\",\"colorbar\":{\"outlinewidth\":0,\"ticks\":\"\"},\"colorscale\":[[0.0,\"#0d0887\"],[0.1111111111111111,\"#46039f\"],[0.2222222222222222,\"#7201a8\"],[0.3333333333333333,\"#9c179e\"],[0.4444444444444444,\"#bd3786\"],[0.5555555555555556,\"#d8576b\"],[0.6666666666666666,\"#ed7953\"],[0.7777777777777778,\"#fb9f3a\"],[0.8888888888888888,\"#fdca26\"],[1.0,\"#f0f921\"]]}],\"choropleth\":[{\"type\":\"choropleth\",\"colorbar\":{\"outlinewidth\":0,\"ticks\":\"\"}}],\"histogram2d\":[{\"type\":\"histogram2d\",\"colorbar\":{\"outlinewidth\":0,\"ticks\":\"\"},\"colorscale\":[[0.0,\"#0d0887\"],[0.1111111111111111,\"#46039f\"],[0.2222222222222222,\"#7201a8\"],[0.3333333333333333,\"#9c179e\"],[0.4444444444444444,\"#bd3786\"],[0.5555555555555556,\"#d8576b\"],[0.6666666666666666,\"#ed7953\"],[0.7777777777777778,\"#fb9f3a\"],[0.8888888888888888,\"#fdca26\"],[1.0,\"#f0f921\"]]}],\"heatmap\":[{\"type\":\"heatmap\",\"colorbar\":{\"outlinewidth\":0,\"ticks\":\"\"},\"colorscale\":[[0.0,\"#0d0887\"],[0.1111111111111111,\"#46039f\"],[0.2222222222222222,\"#7201a8\"],[0.3333333333333333,\"#9c179e\"],[0.4444444444444444,\"#bd3786\"],[0.5555555555555556,\"#d8576b\"],[0.6666666666666666,\"#ed7953\"],[0.7777777777777778,\"#fb9f3a\"],[0.8888888888888888,\"#fdca26\"],[1.0,\"#f0f921\"]]}],\"heatmapgl\":[{\"type\":\"heatmapgl\",\"colorbar\":{\"outlinewidth\":0,\"ticks\":\"\"},\"colorscale\":[[0.0,\"#0d0887\"],[0.1111111111111111,\"#46039f\"],[0.2222222222222222,\"#7201a8\"],[0.3333333333333333,\"#9c179e\"],[0.4444444444444444,\"#bd3786\"],[0.5555555555555556,\"#d8576b\"],[0.6666666666666666,\"#ed7953\"],[0.7777777777777778,\"#fb9f3a\"],[0.8888888888888888,\"#fdca26\"],[1.0,\"#f0f921\"]]}],\"contourcarpet\":[{\"type\":\"contourcarpet\",\"colorbar\":{\"outlinewidth\":0,\"ticks\":\"\"}}],\"contour\":[{\"type\":\"contour\",\"colorbar\":{\"outlinewidth\":0,\"ticks\":\"\"},\"colorscale\":[[0.0,\"#0d0887\"],[0.1111111111111111,\"#46039f\"],[0.2222222222222222,\"#7201a8\"],[0.3333333333333333,\"#9c179e\"],[0.4444444444444444,\"#bd3786\"],[0.5555555555555556,\"#d8576b\"],[0.6666666666666666,\"#ed7953\"],[0.7777777777777778,\"#fb9f3a\"],[0.8888888888888888,\"#fdca26\"],[1.0,\"#f0f921\"]]}],\"surface\":[{\"type\":\"surface\",\"colorbar\":{\"outlinewidth\":0,\"ticks\":\"\"},\"colorscale\":[[0.0,\"#0d0887\"],[0.1111111111111111,\"#46039f\"],[0.2222222222222222,\"#7201a8\"],[0.3333333333333333,\"#9c179e\"],[0.4444444444444444,\"#bd3786\"],[0.5555555555555556,\"#d8576b\"],[0.6666666666666666,\"#ed7953\"],[0.7777777777777778,\"#fb9f3a\"],[0.8888888888888888,\"#fdca26\"],[1.0,\"#f0f921\"]]}],\"mesh3d\":[{\"type\":\"mesh3d\",\"colorbar\":{\"outlinewidth\":0,\"ticks\":\"\"}}],\"scatter\":[{\"fillpattern\":{\"fillmode\":\"overlay\",\"size\":10,\"solidity\":0.2},\"type\":\"scatter\"}],\"parcoords\":[{\"type\":\"parcoords\",\"line\":{\"colorbar\":{\"outlinewidth\":0,\"ticks\":\"\"}}}],\"scatterpolargl\":[{\"type\":\"scatterpolargl\",\"marker\":{\"colorbar\":{\"outlinewidth\":0,\"ticks\":\"\"}}}],\"bar\":[{\"error_x\":{\"color\":\"#2a3f5f\"},\"error_y\":{\"color\":\"#2a3f5f\"},\"marker\":{\"line\":{\"color\":\"#E5ECF6\",\"width\":0.5},\"pattern\":{\"fillmode\":\"overlay\",\"size\":10,\"solidity\":0.2}},\"type\":\"bar\"}],\"scattergeo\":[{\"type\":\"scattergeo\",\"marker\":{\"colorbar\":{\"outlinewidth\":0,\"ticks\":\"\"}}}],\"scatterpolar\":[{\"type\":\"scatterpolar\",\"marker\":{\"colorbar\":{\"outlinewidth\":0,\"ticks\":\"\"}}}],\"histogram\":[{\"marker\":{\"pattern\":{\"fillmode\":\"overlay\",\"size\":10,\"solidity\":0.2}},\"type\":\"histogram\"}],\"scattergl\":[{\"type\":\"scattergl\",\"marker\":{\"colorbar\":{\"outlinewidth\":0,\"ticks\":\"\"}}}],\"scatter3d\":[{\"type\":\"scatter3d\",\"line\":{\"colorbar\":{\"outlinewidth\":0,\"ticks\":\"\"}},\"marker\":{\"colorbar\":{\"outlinewidth\":0,\"ticks\":\"\"}}}],\"scattermapbox\":[{\"type\":\"scattermapbox\",\"marker\":{\"colorbar\":{\"outlinewidth\":0,\"ticks\":\"\"}}}],\"scatterternary\":[{\"type\":\"scatterternary\",\"marker\":{\"colorbar\":{\"outlinewidth\":0,\"ticks\":\"\"}}}],\"scattercarpet\":[{\"type\":\"scattercarpet\",\"marker\":{\"colorbar\":{\"outlinewidth\":0,\"ticks\":\"\"}}}],\"carpet\":[{\"aaxis\":{\"endlinecolor\":\"#2a3f5f\",\"gridcolor\":\"white\",\"linecolor\":\"white\",\"minorgridcolor\":\"white\",\"startlinecolor\":\"#2a3f5f\"},\"baxis\":{\"endlinecolor\":\"#2a3f5f\",\"gridcolor\":\"white\",\"linecolor\":\"white\",\"minorgridcolor\":\"white\",\"startlinecolor\":\"#2a3f5f\"},\"type\":\"carpet\"}],\"table\":[{\"cells\":{\"fill\":{\"color\":\"#EBF0F8\"},\"line\":{\"color\":\"white\"}},\"header\":{\"fill\":{\"color\":\"#C8D4E3\"},\"line\":{\"color\":\"white\"}},\"type\":\"table\"}],\"barpolar\":[{\"marker\":{\"line\":{\"color\":\"#E5ECF6\",\"width\":0.5},\"pattern\":{\"fillmode\":\"overlay\",\"size\":10,\"solidity\":0.2}},\"type\":\"barpolar\"}],\"pie\":[{\"automargin\":true,\"type\":\"pie\"}]},\"layout\":{\"autotypenumbers\":\"strict\",\"colorway\":[\"#636efa\",\"#EF553B\",\"#00cc96\",\"#ab63fa\",\"#FFA15A\",\"#19d3f3\",\"#FF6692\",\"#B6E880\",\"#FF97FF\",\"#FECB52\"],\"font\":{\"color\":\"#2a3f5f\"},\"hovermode\":\"closest\",\"hoverlabel\":{\"align\":\"left\"},\"paper_bgcolor\":\"white\",\"plot_bgcolor\":\"#E5ECF6\",\"polar\":{\"bgcolor\":\"#E5ECF6\",\"angularaxis\":{\"gridcolor\":\"white\",\"linecolor\":\"white\",\"ticks\":\"\"},\"radialaxis\":{\"gridcolor\":\"white\",\"linecolor\":\"white\",\"ticks\":\"\"}},\"ternary\":{\"bgcolor\":\"#E5ECF6\",\"aaxis\":{\"gridcolor\":\"white\",\"linecolor\":\"white\",\"ticks\":\"\"},\"baxis\":{\"gridcolor\":\"white\",\"linecolor\":\"white\",\"ticks\":\"\"},\"caxis\":{\"gridcolor\":\"white\",\"linecolor\":\"white\",\"ticks\":\"\"}},\"coloraxis\":{\"colorbar\":{\"outlinewidth\":0,\"ticks\":\"\"}},\"colorscale\":{\"sequential\":[[0.0,\"#0d0887\"],[0.1111111111111111,\"#46039f\"],[0.2222222222222222,\"#7201a8\"],[0.3333333333333333,\"#9c179e\"],[0.4444444444444444,\"#bd3786\"],[0.5555555555555556,\"#d8576b\"],[0.6666666666666666,\"#ed7953\"],[0.7777777777777778,\"#fb9f3a\"],[0.8888888888888888,\"#fdca26\"],[1.0,\"#f0f921\"]],\"sequentialminus\":[[0.0,\"#0d0887\"],[0.1111111111111111,\"#46039f\"],[0.2222222222222222,\"#7201a8\"],[0.3333333333333333,\"#9c179e\"],[0.4444444444444444,\"#bd3786\"],[0.5555555555555556,\"#d8576b\"],[0.6666666666666666,\"#ed7953\"],[0.7777777777777778,\"#fb9f3a\"],[0.8888888888888888,\"#fdca26\"],[1.0,\"#f0f921\"]],\"diverging\":[[0,\"#8e0152\"],[0.1,\"#c51b7d\"],[0.2,\"#de77ae\"],[0.3,\"#f1b6da\"],[0.4,\"#fde0ef\"],[0.5,\"#f7f7f7\"],[0.6,\"#e6f5d0\"],[0.7,\"#b8e186\"],[0.8,\"#7fbc41\"],[0.9,\"#4d9221\"],[1,\"#276419\"]]},\"xaxis\":{\"gridcolor\":\"white\",\"linecolor\":\"white\",\"ticks\":\"\",\"title\":{\"standoff\":15},\"zerolinecolor\":\"white\",\"automargin\":true,\"zerolinewidth\":2},\"yaxis\":{\"gridcolor\":\"white\",\"linecolor\":\"white\",\"ticks\":\"\",\"title\":{\"standoff\":15},\"zerolinecolor\":\"white\",\"automargin\":true,\"zerolinewidth\":2},\"scene\":{\"xaxis\":{\"backgroundcolor\":\"#E5ECF6\",\"gridcolor\":\"white\",\"linecolor\":\"white\",\"showbackground\":true,\"ticks\":\"\",\"zerolinecolor\":\"white\",\"gridwidth\":2},\"yaxis\":{\"backgroundcolor\":\"#E5ECF6\",\"gridcolor\":\"white\",\"linecolor\":\"white\",\"showbackground\":true,\"ticks\":\"\",\"zerolinecolor\":\"white\",\"gridwidth\":2},\"zaxis\":{\"backgroundcolor\":\"#E5ECF6\",\"gridcolor\":\"white\",\"linecolor\":\"white\",\"showbackground\":true,\"ticks\":\"\",\"zerolinecolor\":\"white\",\"gridwidth\":2}},\"shapedefaults\":{\"line\":{\"color\":\"#2a3f5f\"}},\"annotationdefaults\":{\"arrowcolor\":\"#2a3f5f\",\"arrowhead\":0,\"arrowwidth\":1},\"geo\":{\"bgcolor\":\"white\",\"landcolor\":\"#E5ECF6\",\"subunitcolor\":\"white\",\"showland\":true,\"showlakes\":true,\"lakecolor\":\"white\"},\"title\":{\"x\":0.05},\"mapbox\":{\"style\":\"light\"}}},\"xaxis\":{\"anchor\":\"y\",\"domain\":[0.0,1.0],\"title\":{\"text\":\"C\\u00f3digo\"}},\"yaxis\":{\"anchor\":\"x\",\"domain\":[0.0,1.0],\"title\":{\"text\":\"value\"}},\"legend\":{\"title\":{\"text\":\"GrupoEtnico\"},\"tracegroupgap\":0},\"margin\":{\"t\":60},\"barmode\":\"relative\"},                        {\"responsive\": true}                    ).then(function(){\n",
       "                            \n",
       "var gd = document.getElementById('4518aa15-dfd1-4706-80cd-0726562f72af');\n",
       "var x = new MutationObserver(function (mutations, observer) {{\n",
       "        var display = window.getComputedStyle(gd).display;\n",
       "        if (!display || display === 'none') {{\n",
       "            console.log([gd, 'removed!']);\n",
       "            Plotly.purge(gd);\n",
       "            observer.disconnect();\n",
       "        }}\n",
       "}});\n",
       "\n",
       "// Listen for the removal of the full notebook cells\n",
       "var notebookContainer = gd.closest('#notebook-container');\n",
       "if (notebookContainer) {{\n",
       "    x.observe(notebookContainer, {childList: true});\n",
       "}}\n",
       "\n",
       "// Listen for the clearing of the current output cell\n",
       "var outputEl = gd.closest('.output');\n",
       "if (outputEl) {{\n",
       "    x.observe(outputEl, {childList: true});\n",
       "}}\n",
       "\n",
       "                        })                };                });            </script>        </div>"
      ]
     },
     "metadata": {},
     "output_type": "display_data"
    }
   ],
   "source": [
    "var_of_interest = 'GrupoEtnico'\n",
    "\n",
    "df_analysis = merged[['Nombre', 'Código', var_of_interest]].value_counts().to_frame('Count')\n",
    "df_analysis['Percentage'] = (df_analysis.Count / sum(df_analysis.Count) * 100).round(2)\n",
    "df_analysis.sort_values(['Código', 'Count'], ascending=False)\n",
    "\n",
    "df_analysis = df_analysis.reset_index()\n",
    "df_analysis['Percentage'] = df_analysis.apply(lambda row: percentage_for_code(df_analysis, row), axis=1)\n",
    "df_analysis = df_analysis.sort_values(['Código'])\n",
    "\n",
    "fig = px.bar(\n",
    "    df_analysis,\n",
    "    x='Código',\n",
    "    y=['Percentage'],\n",
    "    color=var_of_interest,\n",
    "    # text=df_analysis['Percentage'].apply(lambda x: '{0:1.2f}%'.format(x)),\n",
    "    text=df_analysis['Count'],\n",
    "    )\n",
    "# fig.update_layout(height=400, width=800)\n",
    "# fig.update_layout(xaxis={'categoryorder':'total descending'})\n",
    "fig.show()"
   ]
  },
  {
   "cell_type": "code",
   "execution_count": 159,
   "metadata": {},
   "outputs": [
    {
     "data": {
      "application/vnd.plotly.v1+json": {
       "config": {
        "plotlyServerURL": "https://plot.ly"
       },
       "data": [
        {
         "alignmentgroup": "True",
         "hovertemplate": "AreaResidencial=Zona Rural<br>Código=%{x}<br>value=%{y}<br>Count=%{text}<extra></extra>",
         "legendgroup": "Zona Rural",
         "marker": {
          "color": "#636efa",
          "pattern": {
           "shape": ""
          }
         },
         "name": "Zona Rural",
         "offsetgroup": "Zona Rural",
         "orientation": "v",
         "showlegend": true,
         "text": [
          78,
          84,
          155,
          3858,
          2438,
          82,
          542,
          164
         ],
         "textposition": "auto",
         "type": "bar",
         "x": [
          "A510",
          "A514",
          "A529",
          "A530",
          "A539",
          "E109",
          "E119",
          "E149"
         ],
         "xaxis": "x",
         "y": [
          7.98,
          3.21,
          7.87,
          6.37,
          5.14,
          1.31,
          3.11,
          5.84
         ],
         "yaxis": "y"
        },
        {
         "alignmentgroup": "True",
         "hovertemplate": "AreaResidencial=Zona Urbana<br>Código=%{x}<br>value=%{y}<br>Count=%{text}<extra></extra>",
         "legendgroup": "Zona Urbana",
         "marker": {
          "color": "#EF553B",
          "pattern": {
           "shape": ""
          }
         },
         "name": "Zona Urbana",
         "offsetgroup": "Zona Urbana",
         "orientation": "v",
         "showlegend": true,
         "text": [
          899,
          94,
          2530,
          1815,
          56728,
          44970,
          6196,
          16895,
          2644
         ],
         "textposition": "auto",
         "type": "bar",
         "x": [
          "A510",
          "A511",
          "A514",
          "A529",
          "A530",
          "A539",
          "E109",
          "E119",
          "E149"
         ],
         "xaxis": "x",
         "y": [
          92.02,
          100,
          96.79,
          92.13,
          93.63,
          94.86,
          98.69,
          96.89,
          94.16
         ],
         "yaxis": "y"
        }
       ],
       "layout": {
        "barmode": "relative",
        "legend": {
         "title": {
          "text": "AreaResidencial"
         },
         "tracegroupgap": 0
        },
        "margin": {
         "t": 60
        },
        "template": {
         "data": {
          "bar": [
           {
            "error_x": {
             "color": "#2a3f5f"
            },
            "error_y": {
             "color": "#2a3f5f"
            },
            "marker": {
             "line": {
              "color": "#E5ECF6",
              "width": 0.5
             },
             "pattern": {
              "fillmode": "overlay",
              "size": 10,
              "solidity": 0.2
             }
            },
            "type": "bar"
           }
          ],
          "barpolar": [
           {
            "marker": {
             "line": {
              "color": "#E5ECF6",
              "width": 0.5
             },
             "pattern": {
              "fillmode": "overlay",
              "size": 10,
              "solidity": 0.2
             }
            },
            "type": "barpolar"
           }
          ],
          "carpet": [
           {
            "aaxis": {
             "endlinecolor": "#2a3f5f",
             "gridcolor": "white",
             "linecolor": "white",
             "minorgridcolor": "white",
             "startlinecolor": "#2a3f5f"
            },
            "baxis": {
             "endlinecolor": "#2a3f5f",
             "gridcolor": "white",
             "linecolor": "white",
             "minorgridcolor": "white",
             "startlinecolor": "#2a3f5f"
            },
            "type": "carpet"
           }
          ],
          "choropleth": [
           {
            "colorbar": {
             "outlinewidth": 0,
             "ticks": ""
            },
            "type": "choropleth"
           }
          ],
          "contour": [
           {
            "colorbar": {
             "outlinewidth": 0,
             "ticks": ""
            },
            "colorscale": [
             [
              0,
              "#0d0887"
             ],
             [
              0.1111111111111111,
              "#46039f"
             ],
             [
              0.2222222222222222,
              "#7201a8"
             ],
             [
              0.3333333333333333,
              "#9c179e"
             ],
             [
              0.4444444444444444,
              "#bd3786"
             ],
             [
              0.5555555555555556,
              "#d8576b"
             ],
             [
              0.6666666666666666,
              "#ed7953"
             ],
             [
              0.7777777777777778,
              "#fb9f3a"
             ],
             [
              0.8888888888888888,
              "#fdca26"
             ],
             [
              1,
              "#f0f921"
             ]
            ],
            "type": "contour"
           }
          ],
          "contourcarpet": [
           {
            "colorbar": {
             "outlinewidth": 0,
             "ticks": ""
            },
            "type": "contourcarpet"
           }
          ],
          "heatmap": [
           {
            "colorbar": {
             "outlinewidth": 0,
             "ticks": ""
            },
            "colorscale": [
             [
              0,
              "#0d0887"
             ],
             [
              0.1111111111111111,
              "#46039f"
             ],
             [
              0.2222222222222222,
              "#7201a8"
             ],
             [
              0.3333333333333333,
              "#9c179e"
             ],
             [
              0.4444444444444444,
              "#bd3786"
             ],
             [
              0.5555555555555556,
              "#d8576b"
             ],
             [
              0.6666666666666666,
              "#ed7953"
             ],
             [
              0.7777777777777778,
              "#fb9f3a"
             ],
             [
              0.8888888888888888,
              "#fdca26"
             ],
             [
              1,
              "#f0f921"
             ]
            ],
            "type": "heatmap"
           }
          ],
          "heatmapgl": [
           {
            "colorbar": {
             "outlinewidth": 0,
             "ticks": ""
            },
            "colorscale": [
             [
              0,
              "#0d0887"
             ],
             [
              0.1111111111111111,
              "#46039f"
             ],
             [
              0.2222222222222222,
              "#7201a8"
             ],
             [
              0.3333333333333333,
              "#9c179e"
             ],
             [
              0.4444444444444444,
              "#bd3786"
             ],
             [
              0.5555555555555556,
              "#d8576b"
             ],
             [
              0.6666666666666666,
              "#ed7953"
             ],
             [
              0.7777777777777778,
              "#fb9f3a"
             ],
             [
              0.8888888888888888,
              "#fdca26"
             ],
             [
              1,
              "#f0f921"
             ]
            ],
            "type": "heatmapgl"
           }
          ],
          "histogram": [
           {
            "marker": {
             "pattern": {
              "fillmode": "overlay",
              "size": 10,
              "solidity": 0.2
             }
            },
            "type": "histogram"
           }
          ],
          "histogram2d": [
           {
            "colorbar": {
             "outlinewidth": 0,
             "ticks": ""
            },
            "colorscale": [
             [
              0,
              "#0d0887"
             ],
             [
              0.1111111111111111,
              "#46039f"
             ],
             [
              0.2222222222222222,
              "#7201a8"
             ],
             [
              0.3333333333333333,
              "#9c179e"
             ],
             [
              0.4444444444444444,
              "#bd3786"
             ],
             [
              0.5555555555555556,
              "#d8576b"
             ],
             [
              0.6666666666666666,
              "#ed7953"
             ],
             [
              0.7777777777777778,
              "#fb9f3a"
             ],
             [
              0.8888888888888888,
              "#fdca26"
             ],
             [
              1,
              "#f0f921"
             ]
            ],
            "type": "histogram2d"
           }
          ],
          "histogram2dcontour": [
           {
            "colorbar": {
             "outlinewidth": 0,
             "ticks": ""
            },
            "colorscale": [
             [
              0,
              "#0d0887"
             ],
             [
              0.1111111111111111,
              "#46039f"
             ],
             [
              0.2222222222222222,
              "#7201a8"
             ],
             [
              0.3333333333333333,
              "#9c179e"
             ],
             [
              0.4444444444444444,
              "#bd3786"
             ],
             [
              0.5555555555555556,
              "#d8576b"
             ],
             [
              0.6666666666666666,
              "#ed7953"
             ],
             [
              0.7777777777777778,
              "#fb9f3a"
             ],
             [
              0.8888888888888888,
              "#fdca26"
             ],
             [
              1,
              "#f0f921"
             ]
            ],
            "type": "histogram2dcontour"
           }
          ],
          "mesh3d": [
           {
            "colorbar": {
             "outlinewidth": 0,
             "ticks": ""
            },
            "type": "mesh3d"
           }
          ],
          "parcoords": [
           {
            "line": {
             "colorbar": {
              "outlinewidth": 0,
              "ticks": ""
             }
            },
            "type": "parcoords"
           }
          ],
          "pie": [
           {
            "automargin": true,
            "type": "pie"
           }
          ],
          "scatter": [
           {
            "fillpattern": {
             "fillmode": "overlay",
             "size": 10,
             "solidity": 0.2
            },
            "type": "scatter"
           }
          ],
          "scatter3d": [
           {
            "line": {
             "colorbar": {
              "outlinewidth": 0,
              "ticks": ""
             }
            },
            "marker": {
             "colorbar": {
              "outlinewidth": 0,
              "ticks": ""
             }
            },
            "type": "scatter3d"
           }
          ],
          "scattercarpet": [
           {
            "marker": {
             "colorbar": {
              "outlinewidth": 0,
              "ticks": ""
             }
            },
            "type": "scattercarpet"
           }
          ],
          "scattergeo": [
           {
            "marker": {
             "colorbar": {
              "outlinewidth": 0,
              "ticks": ""
             }
            },
            "type": "scattergeo"
           }
          ],
          "scattergl": [
           {
            "marker": {
             "colorbar": {
              "outlinewidth": 0,
              "ticks": ""
             }
            },
            "type": "scattergl"
           }
          ],
          "scattermapbox": [
           {
            "marker": {
             "colorbar": {
              "outlinewidth": 0,
              "ticks": ""
             }
            },
            "type": "scattermapbox"
           }
          ],
          "scatterpolar": [
           {
            "marker": {
             "colorbar": {
              "outlinewidth": 0,
              "ticks": ""
             }
            },
            "type": "scatterpolar"
           }
          ],
          "scatterpolargl": [
           {
            "marker": {
             "colorbar": {
              "outlinewidth": 0,
              "ticks": ""
             }
            },
            "type": "scatterpolargl"
           }
          ],
          "scatterternary": [
           {
            "marker": {
             "colorbar": {
              "outlinewidth": 0,
              "ticks": ""
             }
            },
            "type": "scatterternary"
           }
          ],
          "surface": [
           {
            "colorbar": {
             "outlinewidth": 0,
             "ticks": ""
            },
            "colorscale": [
             [
              0,
              "#0d0887"
             ],
             [
              0.1111111111111111,
              "#46039f"
             ],
             [
              0.2222222222222222,
              "#7201a8"
             ],
             [
              0.3333333333333333,
              "#9c179e"
             ],
             [
              0.4444444444444444,
              "#bd3786"
             ],
             [
              0.5555555555555556,
              "#d8576b"
             ],
             [
              0.6666666666666666,
              "#ed7953"
             ],
             [
              0.7777777777777778,
              "#fb9f3a"
             ],
             [
              0.8888888888888888,
              "#fdca26"
             ],
             [
              1,
              "#f0f921"
             ]
            ],
            "type": "surface"
           }
          ],
          "table": [
           {
            "cells": {
             "fill": {
              "color": "#EBF0F8"
             },
             "line": {
              "color": "white"
             }
            },
            "header": {
             "fill": {
              "color": "#C8D4E3"
             },
             "line": {
              "color": "white"
             }
            },
            "type": "table"
           }
          ]
         },
         "layout": {
          "annotationdefaults": {
           "arrowcolor": "#2a3f5f",
           "arrowhead": 0,
           "arrowwidth": 1
          },
          "autotypenumbers": "strict",
          "coloraxis": {
           "colorbar": {
            "outlinewidth": 0,
            "ticks": ""
           }
          },
          "colorscale": {
           "diverging": [
            [
             0,
             "#8e0152"
            ],
            [
             0.1,
             "#c51b7d"
            ],
            [
             0.2,
             "#de77ae"
            ],
            [
             0.3,
             "#f1b6da"
            ],
            [
             0.4,
             "#fde0ef"
            ],
            [
             0.5,
             "#f7f7f7"
            ],
            [
             0.6,
             "#e6f5d0"
            ],
            [
             0.7,
             "#b8e186"
            ],
            [
             0.8,
             "#7fbc41"
            ],
            [
             0.9,
             "#4d9221"
            ],
            [
             1,
             "#276419"
            ]
           ],
           "sequential": [
            [
             0,
             "#0d0887"
            ],
            [
             0.1111111111111111,
             "#46039f"
            ],
            [
             0.2222222222222222,
             "#7201a8"
            ],
            [
             0.3333333333333333,
             "#9c179e"
            ],
            [
             0.4444444444444444,
             "#bd3786"
            ],
            [
             0.5555555555555556,
             "#d8576b"
            ],
            [
             0.6666666666666666,
             "#ed7953"
            ],
            [
             0.7777777777777778,
             "#fb9f3a"
            ],
            [
             0.8888888888888888,
             "#fdca26"
            ],
            [
             1,
             "#f0f921"
            ]
           ],
           "sequentialminus": [
            [
             0,
             "#0d0887"
            ],
            [
             0.1111111111111111,
             "#46039f"
            ],
            [
             0.2222222222222222,
             "#7201a8"
            ],
            [
             0.3333333333333333,
             "#9c179e"
            ],
            [
             0.4444444444444444,
             "#bd3786"
            ],
            [
             0.5555555555555556,
             "#d8576b"
            ],
            [
             0.6666666666666666,
             "#ed7953"
            ],
            [
             0.7777777777777778,
             "#fb9f3a"
            ],
            [
             0.8888888888888888,
             "#fdca26"
            ],
            [
             1,
             "#f0f921"
            ]
           ]
          },
          "colorway": [
           "#636efa",
           "#EF553B",
           "#00cc96",
           "#ab63fa",
           "#FFA15A",
           "#19d3f3",
           "#FF6692",
           "#B6E880",
           "#FF97FF",
           "#FECB52"
          ],
          "font": {
           "color": "#2a3f5f"
          },
          "geo": {
           "bgcolor": "white",
           "lakecolor": "white",
           "landcolor": "#E5ECF6",
           "showlakes": true,
           "showland": true,
           "subunitcolor": "white"
          },
          "hoverlabel": {
           "align": "left"
          },
          "hovermode": "closest",
          "mapbox": {
           "style": "light"
          },
          "paper_bgcolor": "white",
          "plot_bgcolor": "#E5ECF6",
          "polar": {
           "angularaxis": {
            "gridcolor": "white",
            "linecolor": "white",
            "ticks": ""
           },
           "bgcolor": "#E5ECF6",
           "radialaxis": {
            "gridcolor": "white",
            "linecolor": "white",
            "ticks": ""
           }
          },
          "scene": {
           "xaxis": {
            "backgroundcolor": "#E5ECF6",
            "gridcolor": "white",
            "gridwidth": 2,
            "linecolor": "white",
            "showbackground": true,
            "ticks": "",
            "zerolinecolor": "white"
           },
           "yaxis": {
            "backgroundcolor": "#E5ECF6",
            "gridcolor": "white",
            "gridwidth": 2,
            "linecolor": "white",
            "showbackground": true,
            "ticks": "",
            "zerolinecolor": "white"
           },
           "zaxis": {
            "backgroundcolor": "#E5ECF6",
            "gridcolor": "white",
            "gridwidth": 2,
            "linecolor": "white",
            "showbackground": true,
            "ticks": "",
            "zerolinecolor": "white"
           }
          },
          "shapedefaults": {
           "line": {
            "color": "#2a3f5f"
           }
          },
          "ternary": {
           "aaxis": {
            "gridcolor": "white",
            "linecolor": "white",
            "ticks": ""
           },
           "baxis": {
            "gridcolor": "white",
            "linecolor": "white",
            "ticks": ""
           },
           "bgcolor": "#E5ECF6",
           "caxis": {
            "gridcolor": "white",
            "linecolor": "white",
            "ticks": ""
           }
          },
          "title": {
           "x": 0.05
          },
          "xaxis": {
           "automargin": true,
           "gridcolor": "white",
           "linecolor": "white",
           "ticks": "",
           "title": {
            "standoff": 15
           },
           "zerolinecolor": "white",
           "zerolinewidth": 2
          },
          "yaxis": {
           "automargin": true,
           "gridcolor": "white",
           "linecolor": "white",
           "ticks": "",
           "title": {
            "standoff": 15
           },
           "zerolinecolor": "white",
           "zerolinewidth": 2
          }
         }
        },
        "xaxis": {
         "anchor": "y",
         "domain": [
          0,
          1
         ],
         "title": {
          "text": "Código"
         }
        },
        "yaxis": {
         "anchor": "x",
         "domain": [
          0,
          1
         ],
         "title": {
          "text": "value"
         }
        }
       }
      },
      "text/html": [
       "<div>                            <div id=\"78c8f561-e4f6-4ff4-bc37-47d5966974bb\" class=\"plotly-graph-div\" style=\"height:525px; width:100%;\"></div>            <script type=\"text/javascript\">                require([\"plotly\"], function(Plotly) {                    window.PLOTLYENV=window.PLOTLYENV || {};                                    if (document.getElementById(\"78c8f561-e4f6-4ff4-bc37-47d5966974bb\")) {                    Plotly.newPlot(                        \"78c8f561-e4f6-4ff4-bc37-47d5966974bb\",                        [{\"alignmentgroup\":\"True\",\"hovertemplate\":\"AreaResidencial=Zona Rural<br>C\\u00f3digo=%{x}<br>value=%{y}<br>Count=%{text}<extra></extra>\",\"legendgroup\":\"Zona Rural\",\"marker\":{\"color\":\"#636efa\",\"pattern\":{\"shape\":\"\"}},\"name\":\"Zona Rural\",\"offsetgroup\":\"Zona Rural\",\"orientation\":\"v\",\"showlegend\":true,\"text\":[78.0,84.0,155.0,3858.0,2438.0,82.0,542.0,164.0],\"textposition\":\"auto\",\"x\":[\"A510\",\"A514\",\"A529\",\"A530\",\"A539\",\"E109\",\"E119\",\"E149\"],\"xaxis\":\"x\",\"y\":[7.98,3.21,7.87,6.37,5.14,1.31,3.11,5.84],\"yaxis\":\"y\",\"type\":\"bar\"},{\"alignmentgroup\":\"True\",\"hovertemplate\":\"AreaResidencial=Zona Urbana<br>C\\u00f3digo=%{x}<br>value=%{y}<br>Count=%{text}<extra></extra>\",\"legendgroup\":\"Zona Urbana\",\"marker\":{\"color\":\"#EF553B\",\"pattern\":{\"shape\":\"\"}},\"name\":\"Zona Urbana\",\"offsetgroup\":\"Zona Urbana\",\"orientation\":\"v\",\"showlegend\":true,\"text\":[899.0,94.0,2530.0,1815.0,56728.0,44970.0,6196.0,16895.0,2644.0],\"textposition\":\"auto\",\"x\":[\"A510\",\"A511\",\"A514\",\"A529\",\"A530\",\"A539\",\"E109\",\"E119\",\"E149\"],\"xaxis\":\"x\",\"y\":[92.02,100.0,96.79,92.13,93.63,94.86,98.69,96.89,94.16],\"yaxis\":\"y\",\"type\":\"bar\"}],                        {\"template\":{\"data\":{\"histogram2dcontour\":[{\"type\":\"histogram2dcontour\",\"colorbar\":{\"outlinewidth\":0,\"ticks\":\"\"},\"colorscale\":[[0.0,\"#0d0887\"],[0.1111111111111111,\"#46039f\"],[0.2222222222222222,\"#7201a8\"],[0.3333333333333333,\"#9c179e\"],[0.4444444444444444,\"#bd3786\"],[0.5555555555555556,\"#d8576b\"],[0.6666666666666666,\"#ed7953\"],[0.7777777777777778,\"#fb9f3a\"],[0.8888888888888888,\"#fdca26\"],[1.0,\"#f0f921\"]]}],\"choropleth\":[{\"type\":\"choropleth\",\"colorbar\":{\"outlinewidth\":0,\"ticks\":\"\"}}],\"histogram2d\":[{\"type\":\"histogram2d\",\"colorbar\":{\"outlinewidth\":0,\"ticks\":\"\"},\"colorscale\":[[0.0,\"#0d0887\"],[0.1111111111111111,\"#46039f\"],[0.2222222222222222,\"#7201a8\"],[0.3333333333333333,\"#9c179e\"],[0.4444444444444444,\"#bd3786\"],[0.5555555555555556,\"#d8576b\"],[0.6666666666666666,\"#ed7953\"],[0.7777777777777778,\"#fb9f3a\"],[0.8888888888888888,\"#fdca26\"],[1.0,\"#f0f921\"]]}],\"heatmap\":[{\"type\":\"heatmap\",\"colorbar\":{\"outlinewidth\":0,\"ticks\":\"\"},\"colorscale\":[[0.0,\"#0d0887\"],[0.1111111111111111,\"#46039f\"],[0.2222222222222222,\"#7201a8\"],[0.3333333333333333,\"#9c179e\"],[0.4444444444444444,\"#bd3786\"],[0.5555555555555556,\"#d8576b\"],[0.6666666666666666,\"#ed7953\"],[0.7777777777777778,\"#fb9f3a\"],[0.8888888888888888,\"#fdca26\"],[1.0,\"#f0f921\"]]}],\"heatmapgl\":[{\"type\":\"heatmapgl\",\"colorbar\":{\"outlinewidth\":0,\"ticks\":\"\"},\"colorscale\":[[0.0,\"#0d0887\"],[0.1111111111111111,\"#46039f\"],[0.2222222222222222,\"#7201a8\"],[0.3333333333333333,\"#9c179e\"],[0.4444444444444444,\"#bd3786\"],[0.5555555555555556,\"#d8576b\"],[0.6666666666666666,\"#ed7953\"],[0.7777777777777778,\"#fb9f3a\"],[0.8888888888888888,\"#fdca26\"],[1.0,\"#f0f921\"]]}],\"contourcarpet\":[{\"type\":\"contourcarpet\",\"colorbar\":{\"outlinewidth\":0,\"ticks\":\"\"}}],\"contour\":[{\"type\":\"contour\",\"colorbar\":{\"outlinewidth\":0,\"ticks\":\"\"},\"colorscale\":[[0.0,\"#0d0887\"],[0.1111111111111111,\"#46039f\"],[0.2222222222222222,\"#7201a8\"],[0.3333333333333333,\"#9c179e\"],[0.4444444444444444,\"#bd3786\"],[0.5555555555555556,\"#d8576b\"],[0.6666666666666666,\"#ed7953\"],[0.7777777777777778,\"#fb9f3a\"],[0.8888888888888888,\"#fdca26\"],[1.0,\"#f0f921\"]]}],\"surface\":[{\"type\":\"surface\",\"colorbar\":{\"outlinewidth\":0,\"ticks\":\"\"},\"colorscale\":[[0.0,\"#0d0887\"],[0.1111111111111111,\"#46039f\"],[0.2222222222222222,\"#7201a8\"],[0.3333333333333333,\"#9c179e\"],[0.4444444444444444,\"#bd3786\"],[0.5555555555555556,\"#d8576b\"],[0.6666666666666666,\"#ed7953\"],[0.7777777777777778,\"#fb9f3a\"],[0.8888888888888888,\"#fdca26\"],[1.0,\"#f0f921\"]]}],\"mesh3d\":[{\"type\":\"mesh3d\",\"colorbar\":{\"outlinewidth\":0,\"ticks\":\"\"}}],\"scatter\":[{\"fillpattern\":{\"fillmode\":\"overlay\",\"size\":10,\"solidity\":0.2},\"type\":\"scatter\"}],\"parcoords\":[{\"type\":\"parcoords\",\"line\":{\"colorbar\":{\"outlinewidth\":0,\"ticks\":\"\"}}}],\"scatterpolargl\":[{\"type\":\"scatterpolargl\",\"marker\":{\"colorbar\":{\"outlinewidth\":0,\"ticks\":\"\"}}}],\"bar\":[{\"error_x\":{\"color\":\"#2a3f5f\"},\"error_y\":{\"color\":\"#2a3f5f\"},\"marker\":{\"line\":{\"color\":\"#E5ECF6\",\"width\":0.5},\"pattern\":{\"fillmode\":\"overlay\",\"size\":10,\"solidity\":0.2}},\"type\":\"bar\"}],\"scattergeo\":[{\"type\":\"scattergeo\",\"marker\":{\"colorbar\":{\"outlinewidth\":0,\"ticks\":\"\"}}}],\"scatterpolar\":[{\"type\":\"scatterpolar\",\"marker\":{\"colorbar\":{\"outlinewidth\":0,\"ticks\":\"\"}}}],\"histogram\":[{\"marker\":{\"pattern\":{\"fillmode\":\"overlay\",\"size\":10,\"solidity\":0.2}},\"type\":\"histogram\"}],\"scattergl\":[{\"type\":\"scattergl\",\"marker\":{\"colorbar\":{\"outlinewidth\":0,\"ticks\":\"\"}}}],\"scatter3d\":[{\"type\":\"scatter3d\",\"line\":{\"colorbar\":{\"outlinewidth\":0,\"ticks\":\"\"}},\"marker\":{\"colorbar\":{\"outlinewidth\":0,\"ticks\":\"\"}}}],\"scattermapbox\":[{\"type\":\"scattermapbox\",\"marker\":{\"colorbar\":{\"outlinewidth\":0,\"ticks\":\"\"}}}],\"scatterternary\":[{\"type\":\"scatterternary\",\"marker\":{\"colorbar\":{\"outlinewidth\":0,\"ticks\":\"\"}}}],\"scattercarpet\":[{\"type\":\"scattercarpet\",\"marker\":{\"colorbar\":{\"outlinewidth\":0,\"ticks\":\"\"}}}],\"carpet\":[{\"aaxis\":{\"endlinecolor\":\"#2a3f5f\",\"gridcolor\":\"white\",\"linecolor\":\"white\",\"minorgridcolor\":\"white\",\"startlinecolor\":\"#2a3f5f\"},\"baxis\":{\"endlinecolor\":\"#2a3f5f\",\"gridcolor\":\"white\",\"linecolor\":\"white\",\"minorgridcolor\":\"white\",\"startlinecolor\":\"#2a3f5f\"},\"type\":\"carpet\"}],\"table\":[{\"cells\":{\"fill\":{\"color\":\"#EBF0F8\"},\"line\":{\"color\":\"white\"}},\"header\":{\"fill\":{\"color\":\"#C8D4E3\"},\"line\":{\"color\":\"white\"}},\"type\":\"table\"}],\"barpolar\":[{\"marker\":{\"line\":{\"color\":\"#E5ECF6\",\"width\":0.5},\"pattern\":{\"fillmode\":\"overlay\",\"size\":10,\"solidity\":0.2}},\"type\":\"barpolar\"}],\"pie\":[{\"automargin\":true,\"type\":\"pie\"}]},\"layout\":{\"autotypenumbers\":\"strict\",\"colorway\":[\"#636efa\",\"#EF553B\",\"#00cc96\",\"#ab63fa\",\"#FFA15A\",\"#19d3f3\",\"#FF6692\",\"#B6E880\",\"#FF97FF\",\"#FECB52\"],\"font\":{\"color\":\"#2a3f5f\"},\"hovermode\":\"closest\",\"hoverlabel\":{\"align\":\"left\"},\"paper_bgcolor\":\"white\",\"plot_bgcolor\":\"#E5ECF6\",\"polar\":{\"bgcolor\":\"#E5ECF6\",\"angularaxis\":{\"gridcolor\":\"white\",\"linecolor\":\"white\",\"ticks\":\"\"},\"radialaxis\":{\"gridcolor\":\"white\",\"linecolor\":\"white\",\"ticks\":\"\"}},\"ternary\":{\"bgcolor\":\"#E5ECF6\",\"aaxis\":{\"gridcolor\":\"white\",\"linecolor\":\"white\",\"ticks\":\"\"},\"baxis\":{\"gridcolor\":\"white\",\"linecolor\":\"white\",\"ticks\":\"\"},\"caxis\":{\"gridcolor\":\"white\",\"linecolor\":\"white\",\"ticks\":\"\"}},\"coloraxis\":{\"colorbar\":{\"outlinewidth\":0,\"ticks\":\"\"}},\"colorscale\":{\"sequential\":[[0.0,\"#0d0887\"],[0.1111111111111111,\"#46039f\"],[0.2222222222222222,\"#7201a8\"],[0.3333333333333333,\"#9c179e\"],[0.4444444444444444,\"#bd3786\"],[0.5555555555555556,\"#d8576b\"],[0.6666666666666666,\"#ed7953\"],[0.7777777777777778,\"#fb9f3a\"],[0.8888888888888888,\"#fdca26\"],[1.0,\"#f0f921\"]],\"sequentialminus\":[[0.0,\"#0d0887\"],[0.1111111111111111,\"#46039f\"],[0.2222222222222222,\"#7201a8\"],[0.3333333333333333,\"#9c179e\"],[0.4444444444444444,\"#bd3786\"],[0.5555555555555556,\"#d8576b\"],[0.6666666666666666,\"#ed7953\"],[0.7777777777777778,\"#fb9f3a\"],[0.8888888888888888,\"#fdca26\"],[1.0,\"#f0f921\"]],\"diverging\":[[0,\"#8e0152\"],[0.1,\"#c51b7d\"],[0.2,\"#de77ae\"],[0.3,\"#f1b6da\"],[0.4,\"#fde0ef\"],[0.5,\"#f7f7f7\"],[0.6,\"#e6f5d0\"],[0.7,\"#b8e186\"],[0.8,\"#7fbc41\"],[0.9,\"#4d9221\"],[1,\"#276419\"]]},\"xaxis\":{\"gridcolor\":\"white\",\"linecolor\":\"white\",\"ticks\":\"\",\"title\":{\"standoff\":15},\"zerolinecolor\":\"white\",\"automargin\":true,\"zerolinewidth\":2},\"yaxis\":{\"gridcolor\":\"white\",\"linecolor\":\"white\",\"ticks\":\"\",\"title\":{\"standoff\":15},\"zerolinecolor\":\"white\",\"automargin\":true,\"zerolinewidth\":2},\"scene\":{\"xaxis\":{\"backgroundcolor\":\"#E5ECF6\",\"gridcolor\":\"white\",\"linecolor\":\"white\",\"showbackground\":true,\"ticks\":\"\",\"zerolinecolor\":\"white\",\"gridwidth\":2},\"yaxis\":{\"backgroundcolor\":\"#E5ECF6\",\"gridcolor\":\"white\",\"linecolor\":\"white\",\"showbackground\":true,\"ticks\":\"\",\"zerolinecolor\":\"white\",\"gridwidth\":2},\"zaxis\":{\"backgroundcolor\":\"#E5ECF6\",\"gridcolor\":\"white\",\"linecolor\":\"white\",\"showbackground\":true,\"ticks\":\"\",\"zerolinecolor\":\"white\",\"gridwidth\":2}},\"shapedefaults\":{\"line\":{\"color\":\"#2a3f5f\"}},\"annotationdefaults\":{\"arrowcolor\":\"#2a3f5f\",\"arrowhead\":0,\"arrowwidth\":1},\"geo\":{\"bgcolor\":\"white\",\"landcolor\":\"#E5ECF6\",\"subunitcolor\":\"white\",\"showland\":true,\"showlakes\":true,\"lakecolor\":\"white\"},\"title\":{\"x\":0.05},\"mapbox\":{\"style\":\"light\"}}},\"xaxis\":{\"anchor\":\"y\",\"domain\":[0.0,1.0],\"title\":{\"text\":\"C\\u00f3digo\"}},\"yaxis\":{\"anchor\":\"x\",\"domain\":[0.0,1.0],\"title\":{\"text\":\"value\"}},\"legend\":{\"title\":{\"text\":\"AreaResidencial\"},\"tracegroupgap\":0},\"margin\":{\"t\":60},\"barmode\":\"relative\"},                        {\"responsive\": true}                    ).then(function(){\n",
       "                            \n",
       "var gd = document.getElementById('78c8f561-e4f6-4ff4-bc37-47d5966974bb');\n",
       "var x = new MutationObserver(function (mutations, observer) {{\n",
       "        var display = window.getComputedStyle(gd).display;\n",
       "        if (!display || display === 'none') {{\n",
       "            console.log([gd, 'removed!']);\n",
       "            Plotly.purge(gd);\n",
       "            observer.disconnect();\n",
       "        }}\n",
       "}});\n",
       "\n",
       "// Listen for the removal of the full notebook cells\n",
       "var notebookContainer = gd.closest('#notebook-container');\n",
       "if (notebookContainer) {{\n",
       "    x.observe(notebookContainer, {childList: true});\n",
       "}}\n",
       "\n",
       "// Listen for the clearing of the current output cell\n",
       "var outputEl = gd.closest('.output');\n",
       "if (outputEl) {{\n",
       "    x.observe(outputEl, {childList: true});\n",
       "}}\n",
       "\n",
       "                        })                };                });            </script>        </div>"
      ]
     },
     "metadata": {},
     "output_type": "display_data"
    }
   ],
   "source": [
    "var_of_interest = 'AreaResidencial'\n",
    "\n",
    "df_analysis = merged[['Nombre', 'Código', var_of_interest]].value_counts().to_frame('Count')\n",
    "df_analysis['Percentage'] = (df_analysis.Count / sum(df_analysis.Count) * 100).round(2)\n",
    "df_analysis.sort_values(['Código', 'Count'], ascending=False)\n",
    "\n",
    "df_analysis = df_analysis.reset_index()\n",
    "df_analysis['Percentage'] = df_analysis.apply(lambda row: percentage_for_code(df_analysis, row), axis=1)\n",
    "df_analysis = df_analysis.sort_values(['Código'])\n",
    "\n",
    "fig = px.bar(\n",
    "    df_analysis,\n",
    "    x='Código',\n",
    "    y=['Percentage'],\n",
    "    color=var_of_interest,\n",
    "    # text=df_analysis['Percentage'].apply(lambda x: '{0:1.2f}%'.format(x)),\n",
    "    text=df_analysis['Count'],\n",
    "    )\n",
    "# fig.update_layout(height=400, width=800)\n",
    "# fig.update_layout(xaxis={'categoryorder':'total descending'})\n",
    "fig.show()"
   ]
  },
  {
   "cell_type": "code",
   "execution_count": 160,
   "metadata": {},
   "outputs": [
    {
     "data": {
      "application/vnd.plotly.v1+json": {
       "config": {
        "plotlyServerURL": "https://plot.ly"
       },
       "data": [
        {
         "alignmentgroup": "True",
         "hovertemplate": "EstadoCivil=Casado<br>Código=%{x}<br>value=%{y}<br>Count=%{text}<extra></extra>",
         "legendgroup": "Casado",
         "marker": {
          "color": "#636efa",
          "pattern": {
           "shape": ""
          }
         },
         "name": "Casado",
         "offsetgroup": "Casado",
         "orientation": "v",
         "showlegend": true,
         "text": [
          42,
          49,
          24,
          2289,
          1825,
          1716,
          4027,
          466
         ],
         "textposition": "auto",
         "type": "bar",
         "x": [
          "A510",
          "A514",
          "A529",
          "A530",
          "A539",
          "E109",
          "E119",
          "E149"
         ],
         "xaxis": "x",
         "y": [
          4.53,
          1.92,
          1.27,
          3.83,
          3.98,
          28.15,
          23.67,
          17.01
         ],
         "yaxis": "y"
        },
        {
         "alignmentgroup": "True",
         "hovertemplate": "EstadoCivil=Unión libre<br>Código=%{x}<br>value=%{y}<br>Count=%{text}<extra></extra>",
         "legendgroup": "Unión libre",
         "marker": {
          "color": "#EF553B",
          "pattern": {
           "shape": ""
          }
         },
         "name": "Unión libre",
         "offsetgroup": "Unión libre",
         "orientation": "v",
         "showlegend": true,
         "text": [
          60,
          159,
          35,
          4069,
          3105,
          359,
          1258,
          197
         ],
         "textposition": "auto",
         "type": "bar",
         "x": [
          "A510",
          "A514",
          "A529",
          "A530",
          "A539",
          "E109",
          "E119",
          "E149"
         ],
         "xaxis": "x",
         "y": [
          6.47,
          6.23,
          1.86,
          6.81,
          6.77,
          5.89,
          7.39,
          7.19
         ],
         "yaxis": "y"
        },
        {
         "alignmentgroup": "True",
         "hovertemplate": "EstadoCivil=Desconocido<br>Código=%{x}<br>value=%{y}<br>Count=%{text}<extra></extra>",
         "legendgroup": "Desconocido",
         "marker": {
          "color": "#00cc96",
          "pattern": {
           "shape": ""
          }
         },
         "name": "Desconocido",
         "offsetgroup": "Desconocido",
         "orientation": "v",
         "showlegend": true,
         "text": [
          210,
          666,
          417,
          11190,
          9212,
          635,
          2154,
          526
         ],
         "textposition": "auto",
         "type": "bar",
         "x": [
          "A510",
          "A514",
          "A529",
          "A530",
          "A539",
          "E109",
          "E119",
          "E149"
         ],
         "xaxis": "x",
         "y": [
          22.65,
          26.09,
          22.15,
          18.72,
          20.09,
          10.42,
          12.66,
          19.2
         ],
         "yaxis": "y"
        },
        {
         "alignmentgroup": "True",
         "hovertemplate": "EstadoCivil=Separado<br>Código=%{x}<br>value=%{y}<br>Count=%{text}<extra></extra>",
         "legendgroup": "Separado",
         "marker": {
          "color": "#ab63fa",
          "pattern": {
           "shape": ""
          }
         },
         "name": "Separado",
         "offsetgroup": "Separado",
         "orientation": "v",
         "showlegend": true,
         "text": [
          1,
          30,
          32,
          1756,
          1465,
          187,
          671,
          205
         ],
         "textposition": "auto",
         "type": "bar",
         "x": [
          "A510",
          "A514",
          "A529",
          "A530",
          "A539",
          "E109",
          "E119",
          "E149"
         ],
         "xaxis": "x",
         "y": [
          0.11,
          1.18,
          1.7,
          2.94,
          3.2,
          3.07,
          3.94,
          7.48
         ],
         "yaxis": "y"
        },
        {
         "alignmentgroup": "True",
         "hovertemplate": "EstadoCivil=No reportado<br>Código=%{x}<br>value=%{y}<br>Count=%{text}<extra></extra>",
         "legendgroup": "No reportado",
         "marker": {
          "color": "#FFA15A",
          "pattern": {
           "shape": ""
          }
         },
         "name": "No reportado",
         "offsetgroup": "No reportado",
         "orientation": "v",
         "showlegend": true,
         "text": [
          23,
          137,
          111,
          1505,
          1880,
          687,
          1300,
          250
         ],
         "textposition": "auto",
         "type": "bar",
         "x": [
          "A510",
          "A514",
          "A529",
          "A530",
          "A539",
          "E109",
          "E119",
          "E149"
         ],
         "xaxis": "x",
         "y": [
          2.48,
          5.37,
          5.89,
          2.52,
          4.1,
          11.27,
          7.64,
          9.13
         ],
         "yaxis": "y"
        },
        {
         "alignmentgroup": "True",
         "hovertemplate": "EstadoCivil=Soltero<br>Código=%{x}<br>value=%{y}<br>Count=%{text}<extra></extra>",
         "legendgroup": "Soltero",
         "marker": {
          "color": "#19d3f3",
          "pattern": {
           "shape": ""
          }
         },
         "name": "Soltero",
         "offsetgroup": "Soltero",
         "orientation": "v",
         "showlegend": true,
         "text": [
          591,
          94,
          1477,
          1257,
          38472,
          27935,
          1694,
          5287,
          732
         ],
         "textposition": "auto",
         "type": "bar",
         "x": [
          "A510",
          "A511",
          "A514",
          "A529",
          "A530",
          "A539",
          "E109",
          "E119",
          "E149"
         ],
         "xaxis": "x",
         "y": [
          63.75,
          100,
          57.85,
          66.76,
          64.35,
          60.93,
          27.79,
          31.07,
          26.73
         ],
         "yaxis": "y"
        },
        {
         "alignmentgroup": "True",
         "hovertemplate": "EstadoCivil=Viudo/a<br>Código=%{x}<br>value=%{y}<br>Count=%{text}<extra></extra>",
         "legendgroup": "Viudo/a",
         "marker": {
          "color": "#FF6692",
          "pattern": {
           "shape": ""
          }
         },
         "name": "Viudo/a",
         "offsetgroup": "Viudo/a",
         "orientation": "v",
         "showlegend": true,
         "text": [
          35,
          457,
          326,
          777,
          2233,
          362
         ],
         "textposition": "auto",
         "type": "bar",
         "x": [
          "A514",
          "A530",
          "A539",
          "E109",
          "E119",
          "E149"
         ],
         "xaxis": "x",
         "y": [
          1.37,
          0.76,
          0.71,
          12.75,
          13.12,
          13.22
         ],
         "yaxis": "y"
        },
        {
         "alignmentgroup": "True",
         "hovertemplate": "EstadoCivil=Divorciado<br>Código=%{x}<br>value=%{y}<br>Count=%{text}<extra></extra>",
         "legendgroup": "Divorciado",
         "marker": {
          "color": "#B6E880",
          "pattern": {
           "shape": ""
          }
         },
         "name": "Divorciado",
         "offsetgroup": "Divorciado",
         "orientation": "v",
         "showlegend": true,
         "text": [
          7,
          44,
          97,
          41,
          84,
          1
         ],
         "textposition": "auto",
         "type": "bar",
         "x": [
          "A529",
          "A530",
          "A539",
          "E109",
          "E119",
          "E149"
         ],
         "xaxis": "x",
         "y": [
          0.37,
          0.07,
          0.21,
          0.67,
          0.49,
          0.04
         ],
         "yaxis": "y"
        }
       ],
       "layout": {
        "barmode": "relative",
        "legend": {
         "title": {
          "text": "EstadoCivil"
         },
         "tracegroupgap": 0
        },
        "margin": {
         "t": 60
        },
        "template": {
         "data": {
          "bar": [
           {
            "error_x": {
             "color": "#2a3f5f"
            },
            "error_y": {
             "color": "#2a3f5f"
            },
            "marker": {
             "line": {
              "color": "#E5ECF6",
              "width": 0.5
             },
             "pattern": {
              "fillmode": "overlay",
              "size": 10,
              "solidity": 0.2
             }
            },
            "type": "bar"
           }
          ],
          "barpolar": [
           {
            "marker": {
             "line": {
              "color": "#E5ECF6",
              "width": 0.5
             },
             "pattern": {
              "fillmode": "overlay",
              "size": 10,
              "solidity": 0.2
             }
            },
            "type": "barpolar"
           }
          ],
          "carpet": [
           {
            "aaxis": {
             "endlinecolor": "#2a3f5f",
             "gridcolor": "white",
             "linecolor": "white",
             "minorgridcolor": "white",
             "startlinecolor": "#2a3f5f"
            },
            "baxis": {
             "endlinecolor": "#2a3f5f",
             "gridcolor": "white",
             "linecolor": "white",
             "minorgridcolor": "white",
             "startlinecolor": "#2a3f5f"
            },
            "type": "carpet"
           }
          ],
          "choropleth": [
           {
            "colorbar": {
             "outlinewidth": 0,
             "ticks": ""
            },
            "type": "choropleth"
           }
          ],
          "contour": [
           {
            "colorbar": {
             "outlinewidth": 0,
             "ticks": ""
            },
            "colorscale": [
             [
              0,
              "#0d0887"
             ],
             [
              0.1111111111111111,
              "#46039f"
             ],
             [
              0.2222222222222222,
              "#7201a8"
             ],
             [
              0.3333333333333333,
              "#9c179e"
             ],
             [
              0.4444444444444444,
              "#bd3786"
             ],
             [
              0.5555555555555556,
              "#d8576b"
             ],
             [
              0.6666666666666666,
              "#ed7953"
             ],
             [
              0.7777777777777778,
              "#fb9f3a"
             ],
             [
              0.8888888888888888,
              "#fdca26"
             ],
             [
              1,
              "#f0f921"
             ]
            ],
            "type": "contour"
           }
          ],
          "contourcarpet": [
           {
            "colorbar": {
             "outlinewidth": 0,
             "ticks": ""
            },
            "type": "contourcarpet"
           }
          ],
          "heatmap": [
           {
            "colorbar": {
             "outlinewidth": 0,
             "ticks": ""
            },
            "colorscale": [
             [
              0,
              "#0d0887"
             ],
             [
              0.1111111111111111,
              "#46039f"
             ],
             [
              0.2222222222222222,
              "#7201a8"
             ],
             [
              0.3333333333333333,
              "#9c179e"
             ],
             [
              0.4444444444444444,
              "#bd3786"
             ],
             [
              0.5555555555555556,
              "#d8576b"
             ],
             [
              0.6666666666666666,
              "#ed7953"
             ],
             [
              0.7777777777777778,
              "#fb9f3a"
             ],
             [
              0.8888888888888888,
              "#fdca26"
             ],
             [
              1,
              "#f0f921"
             ]
            ],
            "type": "heatmap"
           }
          ],
          "heatmapgl": [
           {
            "colorbar": {
             "outlinewidth": 0,
             "ticks": ""
            },
            "colorscale": [
             [
              0,
              "#0d0887"
             ],
             [
              0.1111111111111111,
              "#46039f"
             ],
             [
              0.2222222222222222,
              "#7201a8"
             ],
             [
              0.3333333333333333,
              "#9c179e"
             ],
             [
              0.4444444444444444,
              "#bd3786"
             ],
             [
              0.5555555555555556,
              "#d8576b"
             ],
             [
              0.6666666666666666,
              "#ed7953"
             ],
             [
              0.7777777777777778,
              "#fb9f3a"
             ],
             [
              0.8888888888888888,
              "#fdca26"
             ],
             [
              1,
              "#f0f921"
             ]
            ],
            "type": "heatmapgl"
           }
          ],
          "histogram": [
           {
            "marker": {
             "pattern": {
              "fillmode": "overlay",
              "size": 10,
              "solidity": 0.2
             }
            },
            "type": "histogram"
           }
          ],
          "histogram2d": [
           {
            "colorbar": {
             "outlinewidth": 0,
             "ticks": ""
            },
            "colorscale": [
             [
              0,
              "#0d0887"
             ],
             [
              0.1111111111111111,
              "#46039f"
             ],
             [
              0.2222222222222222,
              "#7201a8"
             ],
             [
              0.3333333333333333,
              "#9c179e"
             ],
             [
              0.4444444444444444,
              "#bd3786"
             ],
             [
              0.5555555555555556,
              "#d8576b"
             ],
             [
              0.6666666666666666,
              "#ed7953"
             ],
             [
              0.7777777777777778,
              "#fb9f3a"
             ],
             [
              0.8888888888888888,
              "#fdca26"
             ],
             [
              1,
              "#f0f921"
             ]
            ],
            "type": "histogram2d"
           }
          ],
          "histogram2dcontour": [
           {
            "colorbar": {
             "outlinewidth": 0,
             "ticks": ""
            },
            "colorscale": [
             [
              0,
              "#0d0887"
             ],
             [
              0.1111111111111111,
              "#46039f"
             ],
             [
              0.2222222222222222,
              "#7201a8"
             ],
             [
              0.3333333333333333,
              "#9c179e"
             ],
             [
              0.4444444444444444,
              "#bd3786"
             ],
             [
              0.5555555555555556,
              "#d8576b"
             ],
             [
              0.6666666666666666,
              "#ed7953"
             ],
             [
              0.7777777777777778,
              "#fb9f3a"
             ],
             [
              0.8888888888888888,
              "#fdca26"
             ],
             [
              1,
              "#f0f921"
             ]
            ],
            "type": "histogram2dcontour"
           }
          ],
          "mesh3d": [
           {
            "colorbar": {
             "outlinewidth": 0,
             "ticks": ""
            },
            "type": "mesh3d"
           }
          ],
          "parcoords": [
           {
            "line": {
             "colorbar": {
              "outlinewidth": 0,
              "ticks": ""
             }
            },
            "type": "parcoords"
           }
          ],
          "pie": [
           {
            "automargin": true,
            "type": "pie"
           }
          ],
          "scatter": [
           {
            "fillpattern": {
             "fillmode": "overlay",
             "size": 10,
             "solidity": 0.2
            },
            "type": "scatter"
           }
          ],
          "scatter3d": [
           {
            "line": {
             "colorbar": {
              "outlinewidth": 0,
              "ticks": ""
             }
            },
            "marker": {
             "colorbar": {
              "outlinewidth": 0,
              "ticks": ""
             }
            },
            "type": "scatter3d"
           }
          ],
          "scattercarpet": [
           {
            "marker": {
             "colorbar": {
              "outlinewidth": 0,
              "ticks": ""
             }
            },
            "type": "scattercarpet"
           }
          ],
          "scattergeo": [
           {
            "marker": {
             "colorbar": {
              "outlinewidth": 0,
              "ticks": ""
             }
            },
            "type": "scattergeo"
           }
          ],
          "scattergl": [
           {
            "marker": {
             "colorbar": {
              "outlinewidth": 0,
              "ticks": ""
             }
            },
            "type": "scattergl"
           }
          ],
          "scattermapbox": [
           {
            "marker": {
             "colorbar": {
              "outlinewidth": 0,
              "ticks": ""
             }
            },
            "type": "scattermapbox"
           }
          ],
          "scatterpolar": [
           {
            "marker": {
             "colorbar": {
              "outlinewidth": 0,
              "ticks": ""
             }
            },
            "type": "scatterpolar"
           }
          ],
          "scatterpolargl": [
           {
            "marker": {
             "colorbar": {
              "outlinewidth": 0,
              "ticks": ""
             }
            },
            "type": "scatterpolargl"
           }
          ],
          "scatterternary": [
           {
            "marker": {
             "colorbar": {
              "outlinewidth": 0,
              "ticks": ""
             }
            },
            "type": "scatterternary"
           }
          ],
          "surface": [
           {
            "colorbar": {
             "outlinewidth": 0,
             "ticks": ""
            },
            "colorscale": [
             [
              0,
              "#0d0887"
             ],
             [
              0.1111111111111111,
              "#46039f"
             ],
             [
              0.2222222222222222,
              "#7201a8"
             ],
             [
              0.3333333333333333,
              "#9c179e"
             ],
             [
              0.4444444444444444,
              "#bd3786"
             ],
             [
              0.5555555555555556,
              "#d8576b"
             ],
             [
              0.6666666666666666,
              "#ed7953"
             ],
             [
              0.7777777777777778,
              "#fb9f3a"
             ],
             [
              0.8888888888888888,
              "#fdca26"
             ],
             [
              1,
              "#f0f921"
             ]
            ],
            "type": "surface"
           }
          ],
          "table": [
           {
            "cells": {
             "fill": {
              "color": "#EBF0F8"
             },
             "line": {
              "color": "white"
             }
            },
            "header": {
             "fill": {
              "color": "#C8D4E3"
             },
             "line": {
              "color": "white"
             }
            },
            "type": "table"
           }
          ]
         },
         "layout": {
          "annotationdefaults": {
           "arrowcolor": "#2a3f5f",
           "arrowhead": 0,
           "arrowwidth": 1
          },
          "autotypenumbers": "strict",
          "coloraxis": {
           "colorbar": {
            "outlinewidth": 0,
            "ticks": ""
           }
          },
          "colorscale": {
           "diverging": [
            [
             0,
             "#8e0152"
            ],
            [
             0.1,
             "#c51b7d"
            ],
            [
             0.2,
             "#de77ae"
            ],
            [
             0.3,
             "#f1b6da"
            ],
            [
             0.4,
             "#fde0ef"
            ],
            [
             0.5,
             "#f7f7f7"
            ],
            [
             0.6,
             "#e6f5d0"
            ],
            [
             0.7,
             "#b8e186"
            ],
            [
             0.8,
             "#7fbc41"
            ],
            [
             0.9,
             "#4d9221"
            ],
            [
             1,
             "#276419"
            ]
           ],
           "sequential": [
            [
             0,
             "#0d0887"
            ],
            [
             0.1111111111111111,
             "#46039f"
            ],
            [
             0.2222222222222222,
             "#7201a8"
            ],
            [
             0.3333333333333333,
             "#9c179e"
            ],
            [
             0.4444444444444444,
             "#bd3786"
            ],
            [
             0.5555555555555556,
             "#d8576b"
            ],
            [
             0.6666666666666666,
             "#ed7953"
            ],
            [
             0.7777777777777778,
             "#fb9f3a"
            ],
            [
             0.8888888888888888,
             "#fdca26"
            ],
            [
             1,
             "#f0f921"
            ]
           ],
           "sequentialminus": [
            [
             0,
             "#0d0887"
            ],
            [
             0.1111111111111111,
             "#46039f"
            ],
            [
             0.2222222222222222,
             "#7201a8"
            ],
            [
             0.3333333333333333,
             "#9c179e"
            ],
            [
             0.4444444444444444,
             "#bd3786"
            ],
            [
             0.5555555555555556,
             "#d8576b"
            ],
            [
             0.6666666666666666,
             "#ed7953"
            ],
            [
             0.7777777777777778,
             "#fb9f3a"
            ],
            [
             0.8888888888888888,
             "#fdca26"
            ],
            [
             1,
             "#f0f921"
            ]
           ]
          },
          "colorway": [
           "#636efa",
           "#EF553B",
           "#00cc96",
           "#ab63fa",
           "#FFA15A",
           "#19d3f3",
           "#FF6692",
           "#B6E880",
           "#FF97FF",
           "#FECB52"
          ],
          "font": {
           "color": "#2a3f5f"
          },
          "geo": {
           "bgcolor": "white",
           "lakecolor": "white",
           "landcolor": "#E5ECF6",
           "showlakes": true,
           "showland": true,
           "subunitcolor": "white"
          },
          "hoverlabel": {
           "align": "left"
          },
          "hovermode": "closest",
          "mapbox": {
           "style": "light"
          },
          "paper_bgcolor": "white",
          "plot_bgcolor": "#E5ECF6",
          "polar": {
           "angularaxis": {
            "gridcolor": "white",
            "linecolor": "white",
            "ticks": ""
           },
           "bgcolor": "#E5ECF6",
           "radialaxis": {
            "gridcolor": "white",
            "linecolor": "white",
            "ticks": ""
           }
          },
          "scene": {
           "xaxis": {
            "backgroundcolor": "#E5ECF6",
            "gridcolor": "white",
            "gridwidth": 2,
            "linecolor": "white",
            "showbackground": true,
            "ticks": "",
            "zerolinecolor": "white"
           },
           "yaxis": {
            "backgroundcolor": "#E5ECF6",
            "gridcolor": "white",
            "gridwidth": 2,
            "linecolor": "white",
            "showbackground": true,
            "ticks": "",
            "zerolinecolor": "white"
           },
           "zaxis": {
            "backgroundcolor": "#E5ECF6",
            "gridcolor": "white",
            "gridwidth": 2,
            "linecolor": "white",
            "showbackground": true,
            "ticks": "",
            "zerolinecolor": "white"
           }
          },
          "shapedefaults": {
           "line": {
            "color": "#2a3f5f"
           }
          },
          "ternary": {
           "aaxis": {
            "gridcolor": "white",
            "linecolor": "white",
            "ticks": ""
           },
           "baxis": {
            "gridcolor": "white",
            "linecolor": "white",
            "ticks": ""
           },
           "bgcolor": "#E5ECF6",
           "caxis": {
            "gridcolor": "white",
            "linecolor": "white",
            "ticks": ""
           }
          },
          "title": {
           "x": 0.05
          },
          "xaxis": {
           "automargin": true,
           "gridcolor": "white",
           "linecolor": "white",
           "ticks": "",
           "title": {
            "standoff": 15
           },
           "zerolinecolor": "white",
           "zerolinewidth": 2
          },
          "yaxis": {
           "automargin": true,
           "gridcolor": "white",
           "linecolor": "white",
           "ticks": "",
           "title": {
            "standoff": 15
           },
           "zerolinecolor": "white",
           "zerolinewidth": 2
          }
         }
        },
        "xaxis": {
         "anchor": "y",
         "domain": [
          0,
          1
         ],
         "title": {
          "text": "Código"
         }
        },
        "yaxis": {
         "anchor": "x",
         "domain": [
          0,
          1
         ],
         "title": {
          "text": "value"
         }
        }
       }
      },
      "text/html": [
       "<div>                            <div id=\"6e9e88ab-fda3-4ab7-8c18-1df1a15bb2e9\" class=\"plotly-graph-div\" style=\"height:525px; width:100%;\"></div>            <script type=\"text/javascript\">                require([\"plotly\"], function(Plotly) {                    window.PLOTLYENV=window.PLOTLYENV || {};                                    if (document.getElementById(\"6e9e88ab-fda3-4ab7-8c18-1df1a15bb2e9\")) {                    Plotly.newPlot(                        \"6e9e88ab-fda3-4ab7-8c18-1df1a15bb2e9\",                        [{\"alignmentgroup\":\"True\",\"hovertemplate\":\"EstadoCivil=Casado<br>C\\u00f3digo=%{x}<br>value=%{y}<br>Count=%{text}<extra></extra>\",\"legendgroup\":\"Casado\",\"marker\":{\"color\":\"#636efa\",\"pattern\":{\"shape\":\"\"}},\"name\":\"Casado\",\"offsetgroup\":\"Casado\",\"orientation\":\"v\",\"showlegend\":true,\"text\":[42.0,49.0,24.0,2289.0,1825.0,1716.0,4027.0,466.0],\"textposition\":\"auto\",\"x\":[\"A510\",\"A514\",\"A529\",\"A530\",\"A539\",\"E109\",\"E119\",\"E149\"],\"xaxis\":\"x\",\"y\":[4.53,1.92,1.27,3.83,3.98,28.15,23.67,17.01],\"yaxis\":\"y\",\"type\":\"bar\"},{\"alignmentgroup\":\"True\",\"hovertemplate\":\"EstadoCivil=Uni\\u00f3n libre<br>C\\u00f3digo=%{x}<br>value=%{y}<br>Count=%{text}<extra></extra>\",\"legendgroup\":\"Uni\\u00f3n libre\",\"marker\":{\"color\":\"#EF553B\",\"pattern\":{\"shape\":\"\"}},\"name\":\"Uni\\u00f3n libre\",\"offsetgroup\":\"Uni\\u00f3n libre\",\"orientation\":\"v\",\"showlegend\":true,\"text\":[60.0,159.0,35.0,4069.0,3105.0,359.0,1258.0,197.0],\"textposition\":\"auto\",\"x\":[\"A510\",\"A514\",\"A529\",\"A530\",\"A539\",\"E109\",\"E119\",\"E149\"],\"xaxis\":\"x\",\"y\":[6.47,6.23,1.86,6.81,6.77,5.89,7.39,7.19],\"yaxis\":\"y\",\"type\":\"bar\"},{\"alignmentgroup\":\"True\",\"hovertemplate\":\"EstadoCivil=Desconocido<br>C\\u00f3digo=%{x}<br>value=%{y}<br>Count=%{text}<extra></extra>\",\"legendgroup\":\"Desconocido\",\"marker\":{\"color\":\"#00cc96\",\"pattern\":{\"shape\":\"\"}},\"name\":\"Desconocido\",\"offsetgroup\":\"Desconocido\",\"orientation\":\"v\",\"showlegend\":true,\"text\":[210.0,666.0,417.0,11190.0,9212.0,635.0,2154.0,526.0],\"textposition\":\"auto\",\"x\":[\"A510\",\"A514\",\"A529\",\"A530\",\"A539\",\"E109\",\"E119\",\"E149\"],\"xaxis\":\"x\",\"y\":[22.65,26.09,22.15,18.72,20.09,10.42,12.66,19.2],\"yaxis\":\"y\",\"type\":\"bar\"},{\"alignmentgroup\":\"True\",\"hovertemplate\":\"EstadoCivil=Separado<br>C\\u00f3digo=%{x}<br>value=%{y}<br>Count=%{text}<extra></extra>\",\"legendgroup\":\"Separado\",\"marker\":{\"color\":\"#ab63fa\",\"pattern\":{\"shape\":\"\"}},\"name\":\"Separado\",\"offsetgroup\":\"Separado\",\"orientation\":\"v\",\"showlegend\":true,\"text\":[1.0,30.0,32.0,1756.0,1465.0,187.0,671.0,205.0],\"textposition\":\"auto\",\"x\":[\"A510\",\"A514\",\"A529\",\"A530\",\"A539\",\"E109\",\"E119\",\"E149\"],\"xaxis\":\"x\",\"y\":[0.11,1.18,1.7,2.94,3.2,3.07,3.94,7.48],\"yaxis\":\"y\",\"type\":\"bar\"},{\"alignmentgroup\":\"True\",\"hovertemplate\":\"EstadoCivil=No reportado<br>C\\u00f3digo=%{x}<br>value=%{y}<br>Count=%{text}<extra></extra>\",\"legendgroup\":\"No reportado\",\"marker\":{\"color\":\"#FFA15A\",\"pattern\":{\"shape\":\"\"}},\"name\":\"No reportado\",\"offsetgroup\":\"No reportado\",\"orientation\":\"v\",\"showlegend\":true,\"text\":[23.0,137.0,111.0,1505.0,1880.0,687.0,1300.0,250.0],\"textposition\":\"auto\",\"x\":[\"A510\",\"A514\",\"A529\",\"A530\",\"A539\",\"E109\",\"E119\",\"E149\"],\"xaxis\":\"x\",\"y\":[2.48,5.37,5.89,2.52,4.1,11.27,7.64,9.13],\"yaxis\":\"y\",\"type\":\"bar\"},{\"alignmentgroup\":\"True\",\"hovertemplate\":\"EstadoCivil=Soltero<br>C\\u00f3digo=%{x}<br>value=%{y}<br>Count=%{text}<extra></extra>\",\"legendgroup\":\"Soltero\",\"marker\":{\"color\":\"#19d3f3\",\"pattern\":{\"shape\":\"\"}},\"name\":\"Soltero\",\"offsetgroup\":\"Soltero\",\"orientation\":\"v\",\"showlegend\":true,\"text\":[591.0,94.0,1477.0,1257.0,38472.0,27935.0,1694.0,5287.0,732.0],\"textposition\":\"auto\",\"x\":[\"A510\",\"A511\",\"A514\",\"A529\",\"A530\",\"A539\",\"E109\",\"E119\",\"E149\"],\"xaxis\":\"x\",\"y\":[63.75,100.0,57.85,66.76,64.35,60.93,27.79,31.07,26.73],\"yaxis\":\"y\",\"type\":\"bar\"},{\"alignmentgroup\":\"True\",\"hovertemplate\":\"EstadoCivil=Viudo/a<br>C\\u00f3digo=%{x}<br>value=%{y}<br>Count=%{text}<extra></extra>\",\"legendgroup\":\"Viudo/a\",\"marker\":{\"color\":\"#FF6692\",\"pattern\":{\"shape\":\"\"}},\"name\":\"Viudo/a\",\"offsetgroup\":\"Viudo/a\",\"orientation\":\"v\",\"showlegend\":true,\"text\":[35.0,457.0,326.0,777.0,2233.0,362.0],\"textposition\":\"auto\",\"x\":[\"A514\",\"A530\",\"A539\",\"E109\",\"E119\",\"E149\"],\"xaxis\":\"x\",\"y\":[1.37,0.76,0.71,12.75,13.12,13.22],\"yaxis\":\"y\",\"type\":\"bar\"},{\"alignmentgroup\":\"True\",\"hovertemplate\":\"EstadoCivil=Divorciado<br>C\\u00f3digo=%{x}<br>value=%{y}<br>Count=%{text}<extra></extra>\",\"legendgroup\":\"Divorciado\",\"marker\":{\"color\":\"#B6E880\",\"pattern\":{\"shape\":\"\"}},\"name\":\"Divorciado\",\"offsetgroup\":\"Divorciado\",\"orientation\":\"v\",\"showlegend\":true,\"text\":[7.0,44.0,97.0,41.0,84.0,1.0],\"textposition\":\"auto\",\"x\":[\"A529\",\"A530\",\"A539\",\"E109\",\"E119\",\"E149\"],\"xaxis\":\"x\",\"y\":[0.37,0.07,0.21,0.67,0.49,0.04],\"yaxis\":\"y\",\"type\":\"bar\"}],                        {\"template\":{\"data\":{\"histogram2dcontour\":[{\"type\":\"histogram2dcontour\",\"colorbar\":{\"outlinewidth\":0,\"ticks\":\"\"},\"colorscale\":[[0.0,\"#0d0887\"],[0.1111111111111111,\"#46039f\"],[0.2222222222222222,\"#7201a8\"],[0.3333333333333333,\"#9c179e\"],[0.4444444444444444,\"#bd3786\"],[0.5555555555555556,\"#d8576b\"],[0.6666666666666666,\"#ed7953\"],[0.7777777777777778,\"#fb9f3a\"],[0.8888888888888888,\"#fdca26\"],[1.0,\"#f0f921\"]]}],\"choropleth\":[{\"type\":\"choropleth\",\"colorbar\":{\"outlinewidth\":0,\"ticks\":\"\"}}],\"histogram2d\":[{\"type\":\"histogram2d\",\"colorbar\":{\"outlinewidth\":0,\"ticks\":\"\"},\"colorscale\":[[0.0,\"#0d0887\"],[0.1111111111111111,\"#46039f\"],[0.2222222222222222,\"#7201a8\"],[0.3333333333333333,\"#9c179e\"],[0.4444444444444444,\"#bd3786\"],[0.5555555555555556,\"#d8576b\"],[0.6666666666666666,\"#ed7953\"],[0.7777777777777778,\"#fb9f3a\"],[0.8888888888888888,\"#fdca26\"],[1.0,\"#f0f921\"]]}],\"heatmap\":[{\"type\":\"heatmap\",\"colorbar\":{\"outlinewidth\":0,\"ticks\":\"\"},\"colorscale\":[[0.0,\"#0d0887\"],[0.1111111111111111,\"#46039f\"],[0.2222222222222222,\"#7201a8\"],[0.3333333333333333,\"#9c179e\"],[0.4444444444444444,\"#bd3786\"],[0.5555555555555556,\"#d8576b\"],[0.6666666666666666,\"#ed7953\"],[0.7777777777777778,\"#fb9f3a\"],[0.8888888888888888,\"#fdca26\"],[1.0,\"#f0f921\"]]}],\"heatmapgl\":[{\"type\":\"heatmapgl\",\"colorbar\":{\"outlinewidth\":0,\"ticks\":\"\"},\"colorscale\":[[0.0,\"#0d0887\"],[0.1111111111111111,\"#46039f\"],[0.2222222222222222,\"#7201a8\"],[0.3333333333333333,\"#9c179e\"],[0.4444444444444444,\"#bd3786\"],[0.5555555555555556,\"#d8576b\"],[0.6666666666666666,\"#ed7953\"],[0.7777777777777778,\"#fb9f3a\"],[0.8888888888888888,\"#fdca26\"],[1.0,\"#f0f921\"]]}],\"contourcarpet\":[{\"type\":\"contourcarpet\",\"colorbar\":{\"outlinewidth\":0,\"ticks\":\"\"}}],\"contour\":[{\"type\":\"contour\",\"colorbar\":{\"outlinewidth\":0,\"ticks\":\"\"},\"colorscale\":[[0.0,\"#0d0887\"],[0.1111111111111111,\"#46039f\"],[0.2222222222222222,\"#7201a8\"],[0.3333333333333333,\"#9c179e\"],[0.4444444444444444,\"#bd3786\"],[0.5555555555555556,\"#d8576b\"],[0.6666666666666666,\"#ed7953\"],[0.7777777777777778,\"#fb9f3a\"],[0.8888888888888888,\"#fdca26\"],[1.0,\"#f0f921\"]]}],\"surface\":[{\"type\":\"surface\",\"colorbar\":{\"outlinewidth\":0,\"ticks\":\"\"},\"colorscale\":[[0.0,\"#0d0887\"],[0.1111111111111111,\"#46039f\"],[0.2222222222222222,\"#7201a8\"],[0.3333333333333333,\"#9c179e\"],[0.4444444444444444,\"#bd3786\"],[0.5555555555555556,\"#d8576b\"],[0.6666666666666666,\"#ed7953\"],[0.7777777777777778,\"#fb9f3a\"],[0.8888888888888888,\"#fdca26\"],[1.0,\"#f0f921\"]]}],\"mesh3d\":[{\"type\":\"mesh3d\",\"colorbar\":{\"outlinewidth\":0,\"ticks\":\"\"}}],\"scatter\":[{\"fillpattern\":{\"fillmode\":\"overlay\",\"size\":10,\"solidity\":0.2},\"type\":\"scatter\"}],\"parcoords\":[{\"type\":\"parcoords\",\"line\":{\"colorbar\":{\"outlinewidth\":0,\"ticks\":\"\"}}}],\"scatterpolargl\":[{\"type\":\"scatterpolargl\",\"marker\":{\"colorbar\":{\"outlinewidth\":0,\"ticks\":\"\"}}}],\"bar\":[{\"error_x\":{\"color\":\"#2a3f5f\"},\"error_y\":{\"color\":\"#2a3f5f\"},\"marker\":{\"line\":{\"color\":\"#E5ECF6\",\"width\":0.5},\"pattern\":{\"fillmode\":\"overlay\",\"size\":10,\"solidity\":0.2}},\"type\":\"bar\"}],\"scattergeo\":[{\"type\":\"scattergeo\",\"marker\":{\"colorbar\":{\"outlinewidth\":0,\"ticks\":\"\"}}}],\"scatterpolar\":[{\"type\":\"scatterpolar\",\"marker\":{\"colorbar\":{\"outlinewidth\":0,\"ticks\":\"\"}}}],\"histogram\":[{\"marker\":{\"pattern\":{\"fillmode\":\"overlay\",\"size\":10,\"solidity\":0.2}},\"type\":\"histogram\"}],\"scattergl\":[{\"type\":\"scattergl\",\"marker\":{\"colorbar\":{\"outlinewidth\":0,\"ticks\":\"\"}}}],\"scatter3d\":[{\"type\":\"scatter3d\",\"line\":{\"colorbar\":{\"outlinewidth\":0,\"ticks\":\"\"}},\"marker\":{\"colorbar\":{\"outlinewidth\":0,\"ticks\":\"\"}}}],\"scattermapbox\":[{\"type\":\"scattermapbox\",\"marker\":{\"colorbar\":{\"outlinewidth\":0,\"ticks\":\"\"}}}],\"scatterternary\":[{\"type\":\"scatterternary\",\"marker\":{\"colorbar\":{\"outlinewidth\":0,\"ticks\":\"\"}}}],\"scattercarpet\":[{\"type\":\"scattercarpet\",\"marker\":{\"colorbar\":{\"outlinewidth\":0,\"ticks\":\"\"}}}],\"carpet\":[{\"aaxis\":{\"endlinecolor\":\"#2a3f5f\",\"gridcolor\":\"white\",\"linecolor\":\"white\",\"minorgridcolor\":\"white\",\"startlinecolor\":\"#2a3f5f\"},\"baxis\":{\"endlinecolor\":\"#2a3f5f\",\"gridcolor\":\"white\",\"linecolor\":\"white\",\"minorgridcolor\":\"white\",\"startlinecolor\":\"#2a3f5f\"},\"type\":\"carpet\"}],\"table\":[{\"cells\":{\"fill\":{\"color\":\"#EBF0F8\"},\"line\":{\"color\":\"white\"}},\"header\":{\"fill\":{\"color\":\"#C8D4E3\"},\"line\":{\"color\":\"white\"}},\"type\":\"table\"}],\"barpolar\":[{\"marker\":{\"line\":{\"color\":\"#E5ECF6\",\"width\":0.5},\"pattern\":{\"fillmode\":\"overlay\",\"size\":10,\"solidity\":0.2}},\"type\":\"barpolar\"}],\"pie\":[{\"automargin\":true,\"type\":\"pie\"}]},\"layout\":{\"autotypenumbers\":\"strict\",\"colorway\":[\"#636efa\",\"#EF553B\",\"#00cc96\",\"#ab63fa\",\"#FFA15A\",\"#19d3f3\",\"#FF6692\",\"#B6E880\",\"#FF97FF\",\"#FECB52\"],\"font\":{\"color\":\"#2a3f5f\"},\"hovermode\":\"closest\",\"hoverlabel\":{\"align\":\"left\"},\"paper_bgcolor\":\"white\",\"plot_bgcolor\":\"#E5ECF6\",\"polar\":{\"bgcolor\":\"#E5ECF6\",\"angularaxis\":{\"gridcolor\":\"white\",\"linecolor\":\"white\",\"ticks\":\"\"},\"radialaxis\":{\"gridcolor\":\"white\",\"linecolor\":\"white\",\"ticks\":\"\"}},\"ternary\":{\"bgcolor\":\"#E5ECF6\",\"aaxis\":{\"gridcolor\":\"white\",\"linecolor\":\"white\",\"ticks\":\"\"},\"baxis\":{\"gridcolor\":\"white\",\"linecolor\":\"white\",\"ticks\":\"\"},\"caxis\":{\"gridcolor\":\"white\",\"linecolor\":\"white\",\"ticks\":\"\"}},\"coloraxis\":{\"colorbar\":{\"outlinewidth\":0,\"ticks\":\"\"}},\"colorscale\":{\"sequential\":[[0.0,\"#0d0887\"],[0.1111111111111111,\"#46039f\"],[0.2222222222222222,\"#7201a8\"],[0.3333333333333333,\"#9c179e\"],[0.4444444444444444,\"#bd3786\"],[0.5555555555555556,\"#d8576b\"],[0.6666666666666666,\"#ed7953\"],[0.7777777777777778,\"#fb9f3a\"],[0.8888888888888888,\"#fdca26\"],[1.0,\"#f0f921\"]],\"sequentialminus\":[[0.0,\"#0d0887\"],[0.1111111111111111,\"#46039f\"],[0.2222222222222222,\"#7201a8\"],[0.3333333333333333,\"#9c179e\"],[0.4444444444444444,\"#bd3786\"],[0.5555555555555556,\"#d8576b\"],[0.6666666666666666,\"#ed7953\"],[0.7777777777777778,\"#fb9f3a\"],[0.8888888888888888,\"#fdca26\"],[1.0,\"#f0f921\"]],\"diverging\":[[0,\"#8e0152\"],[0.1,\"#c51b7d\"],[0.2,\"#de77ae\"],[0.3,\"#f1b6da\"],[0.4,\"#fde0ef\"],[0.5,\"#f7f7f7\"],[0.6,\"#e6f5d0\"],[0.7,\"#b8e186\"],[0.8,\"#7fbc41\"],[0.9,\"#4d9221\"],[1,\"#276419\"]]},\"xaxis\":{\"gridcolor\":\"white\",\"linecolor\":\"white\",\"ticks\":\"\",\"title\":{\"standoff\":15},\"zerolinecolor\":\"white\",\"automargin\":true,\"zerolinewidth\":2},\"yaxis\":{\"gridcolor\":\"white\",\"linecolor\":\"white\",\"ticks\":\"\",\"title\":{\"standoff\":15},\"zerolinecolor\":\"white\",\"automargin\":true,\"zerolinewidth\":2},\"scene\":{\"xaxis\":{\"backgroundcolor\":\"#E5ECF6\",\"gridcolor\":\"white\",\"linecolor\":\"white\",\"showbackground\":true,\"ticks\":\"\",\"zerolinecolor\":\"white\",\"gridwidth\":2},\"yaxis\":{\"backgroundcolor\":\"#E5ECF6\",\"gridcolor\":\"white\",\"linecolor\":\"white\",\"showbackground\":true,\"ticks\":\"\",\"zerolinecolor\":\"white\",\"gridwidth\":2},\"zaxis\":{\"backgroundcolor\":\"#E5ECF6\",\"gridcolor\":\"white\",\"linecolor\":\"white\",\"showbackground\":true,\"ticks\":\"\",\"zerolinecolor\":\"white\",\"gridwidth\":2}},\"shapedefaults\":{\"line\":{\"color\":\"#2a3f5f\"}},\"annotationdefaults\":{\"arrowcolor\":\"#2a3f5f\",\"arrowhead\":0,\"arrowwidth\":1},\"geo\":{\"bgcolor\":\"white\",\"landcolor\":\"#E5ECF6\",\"subunitcolor\":\"white\",\"showland\":true,\"showlakes\":true,\"lakecolor\":\"white\"},\"title\":{\"x\":0.05},\"mapbox\":{\"style\":\"light\"}}},\"xaxis\":{\"anchor\":\"y\",\"domain\":[0.0,1.0],\"title\":{\"text\":\"C\\u00f3digo\"}},\"yaxis\":{\"anchor\":\"x\",\"domain\":[0.0,1.0],\"title\":{\"text\":\"value\"}},\"legend\":{\"title\":{\"text\":\"EstadoCivil\"},\"tracegroupgap\":0},\"margin\":{\"t\":60},\"barmode\":\"relative\"},                        {\"responsive\": true}                    ).then(function(){\n",
       "                            \n",
       "var gd = document.getElementById('6e9e88ab-fda3-4ab7-8c18-1df1a15bb2e9');\n",
       "var x = new MutationObserver(function (mutations, observer) {{\n",
       "        var display = window.getComputedStyle(gd).display;\n",
       "        if (!display || display === 'none') {{\n",
       "            console.log([gd, 'removed!']);\n",
       "            Plotly.purge(gd);\n",
       "            observer.disconnect();\n",
       "        }}\n",
       "}});\n",
       "\n",
       "// Listen for the removal of the full notebook cells\n",
       "var notebookContainer = gd.closest('#notebook-container');\n",
       "if (notebookContainer) {{\n",
       "    x.observe(notebookContainer, {childList: true});\n",
       "}}\n",
       "\n",
       "// Listen for the clearing of the current output cell\n",
       "var outputEl = gd.closest('.output');\n",
       "if (outputEl) {{\n",
       "    x.observe(outputEl, {childList: true});\n",
       "}}\n",
       "\n",
       "                        })                };                });            </script>        </div>"
      ]
     },
     "metadata": {},
     "output_type": "display_data"
    }
   ],
   "source": [
    "var_of_interest = 'EstadoCivil'\n",
    "\n",
    "df_analysis = merged[['Nombre', 'Código', var_of_interest]].value_counts().to_frame('Count')\n",
    "df_analysis['Percentage'] = (df_analysis.Count / sum(df_analysis.Count) * 100).round(2)\n",
    "df_analysis.sort_values(['Código', 'Count'], ascending=False)\n",
    "\n",
    "df_analysis = df_analysis.reset_index()\n",
    "df_analysis['Percentage'] = df_analysis.apply(lambda row: percentage_for_code(df_analysis, row), axis=1)\n",
    "df_analysis = df_analysis.sort_values(['Código'])\n",
    "\n",
    "fig = px.bar(\n",
    "    df_analysis,\n",
    "    x='Código',\n",
    "    y=['Percentage'],\n",
    "    color=var_of_interest,\n",
    "    # text=df_analysis['Percentage'].apply(lambda x: '{0:1.2f}%'.format(x)),\n",
    "    text=df_analysis['Count'],\n",
    "    )\n",
    "# fig.update_layout(height=400, width=800)\n",
    "# fig.update_layout(xaxis={'categoryorder':'total descending'})\n",
    "fig.show()"
   ]
  },
  {
   "cell_type": "markdown",
   "metadata": {},
   "source": [
    "# Taget Feature Class Distribution"
   ]
  },
  {
   "cell_type": "markdown",
   "metadata": {},
   "source": [
    "Let's check our taget feature distribution"
   ]
  },
  {
   "cell_type": "code",
   "execution_count": 8,
   "metadata": {},
   "outputs": [
    {
     "data": {
      "text/html": [
       "<div>\n",
       "<style scoped>\n",
       "    .dataframe tbody tr th:only-of-type {\n",
       "        vertical-align: middle;\n",
       "    }\n",
       "\n",
       "    .dataframe tbody tr th {\n",
       "        vertical-align: top;\n",
       "    }\n",
       "\n",
       "    .dataframe thead th {\n",
       "        text-align: right;\n",
       "    }\n",
       "</style>\n",
       "<table border=\"1\" class=\"dataframe\">\n",
       "  <thead>\n",
       "    <tr style=\"text-align: right;\">\n",
       "      <th></th>\n",
       "      <th></th>\n",
       "      <th>Count</th>\n",
       "      <th>Percentage</th>\n",
       "    </tr>\n",
       "    <tr>\n",
       "      <th>Nombre</th>\n",
       "      <th>Código</th>\n",
       "      <th></th>\n",
       "      <th></th>\n",
       "    </tr>\n",
       "  </thead>\n",
       "  <tbody>\n",
       "    <tr>\n",
       "      <th>SIFILIS LATENTE, NO ESPECIFICADA COMO PRECOZ O TARDIA</th>\n",
       "      <th>A530</th>\n",
       "      <td>60587</td>\n",
       "      <td>43.22</td>\n",
       "    </tr>\n",
       "    <tr>\n",
       "      <th>SIFILIS, NO ESPECIFICADA</th>\n",
       "      <th>A539</th>\n",
       "      <td>47408</td>\n",
       "      <td>33.82</td>\n",
       "    </tr>\n",
       "    <tr>\n",
       "      <th>DIABETES MELLITUS NOINSULINODEPENDIENTE SIN MENCION DE COMPLICACION</th>\n",
       "      <th>E119</th>\n",
       "      <td>17439</td>\n",
       "      <td>12.44</td>\n",
       "    </tr>\n",
       "    <tr>\n",
       "      <th>DIABETES MELLITUSINSULINODEPENDIENTE SIN MENCION DE COMPLICACION</th>\n",
       "      <th>E109</th>\n",
       "      <td>6278</td>\n",
       "      <td>4.48</td>\n",
       "    </tr>\n",
       "    <tr>\n",
       "      <th>DIABETES MELLITUS, NO ESPECIFICADA SIN MENCION DE COMPLICACION</th>\n",
       "      <th>E149</th>\n",
       "      <td>2808</td>\n",
       "      <td>2.00</td>\n",
       "    </tr>\n",
       "    <tr>\n",
       "      <th>OTRAS SIFILIS SECUNDARIAS</th>\n",
       "      <th>A514</th>\n",
       "      <td>2614</td>\n",
       "      <td>1.86</td>\n",
       "    </tr>\n",
       "    <tr>\n",
       "      <th>SIFILIS TARDIA, NO ESPECIFICADA</th>\n",
       "      <th>A529</th>\n",
       "      <td>1970</td>\n",
       "      <td>1.41</td>\n",
       "    </tr>\n",
       "    <tr>\n",
       "      <th>SIFILIS GENITAL PRIMARIA</th>\n",
       "      <th>A510</th>\n",
       "      <td>977</td>\n",
       "      <td>0.70</td>\n",
       "    </tr>\n",
       "    <tr>\n",
       "      <th>SIFILIS PRIMARIA ANAL</th>\n",
       "      <th>A511</th>\n",
       "      <td>94</td>\n",
       "      <td>0.07</td>\n",
       "    </tr>\n",
       "  </tbody>\n",
       "</table>\n",
       "</div>"
      ],
      "text/plain": [
       "                                                           Count  Percentage\n",
       "Nombre                                             Código                   \n",
       "SIFILIS LATENTE, NO ESPECIFICADA COMO PRECOZ O ... A530    60587       43.22\n",
       "SIFILIS, NO ESPECIFICADA                           A539    47408       33.82\n",
       "DIABETES MELLITUS NOINSULINODEPENDIENTE SIN MEN... E119    17439       12.44\n",
       "DIABETES MELLITUSINSULINODEPENDIENTE SIN MENCIO... E109     6278        4.48\n",
       "DIABETES MELLITUS, NO ESPECIFICADA SIN MENCION ... E149     2808        2.00\n",
       "OTRAS SIFILIS SECUNDARIAS                          A514     2614        1.86\n",
       "SIFILIS TARDIA, NO ESPECIFICADA                    A529     1970        1.41\n",
       "SIFILIS GENITAL PRIMARIA                           A510      977        0.70\n",
       "SIFILIS PRIMARIA ANAL                              A511       94        0.07"
      ]
     },
     "execution_count": 8,
     "metadata": {},
     "output_type": "execute_result"
    }
   ],
   "source": [
    "name = notas[['Nombre', 'Código']].value_counts().to_frame('Count')\n",
    "name['Percentage'] = (name.Count / sum(name.Count) * 100).round(2)\n",
    "name"
   ]
  },
  {
   "cell_type": "markdown",
   "metadata": {},
   "source": [
    "After the data cleanup, we only have less than 1% for two of the 9 classes, representing a total of ~1000 samples of the ~150,000 in our dataset.\n",
    "We can't easily create a prediction algorithm out of these small number of samples, so let's either drop them or merge them into similar categories."
   ]
  },
  {
   "cell_type": "markdown",
   "metadata": {},
   "source": [
    "## Classes merge"
   ]
  },
  {
   "cell_type": "markdown",
   "metadata": {},
   "source": [
    "Let's try merging A510 and A511 with A514, as they all belong to the [A51 Early syphilis](https://icd.who.int/browse10/2019/en#/A51) ICD-10 denomination, indicating they share symptoms. The equivalent Spanish name for this category is [Sífilis precoz](http://ais.paho.org/classifications/chapters/CAP01.html?zoom_highlight=a51).\n",
    "\n",
    "We could also treat A529 as part of A539, in order to reduce the number of classes without losing track of the important subcategories we already have."
   ]
  },
  {
   "cell_type": "code",
   "execution_count": 9,
   "metadata": {},
   "outputs": [
    {
     "data": {
      "text/html": [
       "<div>\n",
       "<style scoped>\n",
       "    .dataframe tbody tr th:only-of-type {\n",
       "        vertical-align: middle;\n",
       "    }\n",
       "\n",
       "    .dataframe tbody tr th {\n",
       "        vertical-align: top;\n",
       "    }\n",
       "\n",
       "    .dataframe thead th {\n",
       "        text-align: right;\n",
       "    }\n",
       "</style>\n",
       "<table border=\"1\" class=\"dataframe\">\n",
       "  <thead>\n",
       "    <tr style=\"text-align: right;\">\n",
       "      <th></th>\n",
       "      <th></th>\n",
       "      <th>Count</th>\n",
       "      <th>Percentage</th>\n",
       "    </tr>\n",
       "    <tr>\n",
       "      <th>Nombre</th>\n",
       "      <th>Código</th>\n",
       "      <th></th>\n",
       "      <th></th>\n",
       "    </tr>\n",
       "  </thead>\n",
       "  <tbody>\n",
       "    <tr>\n",
       "      <th>SIFILIS LATENTE, NO ESPECIFICADA COMO PRECOZ O TARDIA</th>\n",
       "      <th>A530</th>\n",
       "      <td>60587</td>\n",
       "      <td>43.22</td>\n",
       "    </tr>\n",
       "    <tr>\n",
       "      <th>SIFILIS, NO ESPECIFICADA</th>\n",
       "      <th>A539</th>\n",
       "      <td>49378</td>\n",
       "      <td>35.23</td>\n",
       "    </tr>\n",
       "    <tr>\n",
       "      <th>DIABETES MELLITUS NOINSULINODEPENDIENTE SIN MENCION DE COMPLICACION</th>\n",
       "      <th>E119</th>\n",
       "      <td>17439</td>\n",
       "      <td>12.44</td>\n",
       "    </tr>\n",
       "    <tr>\n",
       "      <th>DIABETES MELLITUSINSULINODEPENDIENTE SIN MENCION DE COMPLICACION</th>\n",
       "      <th>E109</th>\n",
       "      <td>6278</td>\n",
       "      <td>4.48</td>\n",
       "    </tr>\n",
       "    <tr>\n",
       "      <th>SIFILIS PRECOZ</th>\n",
       "      <th>A51</th>\n",
       "      <td>3685</td>\n",
       "      <td>2.63</td>\n",
       "    </tr>\n",
       "    <tr>\n",
       "      <th>DIABETES MELLITUS, NO ESPECIFICADA SIN MENCION DE COMPLICACION</th>\n",
       "      <th>E149</th>\n",
       "      <td>2808</td>\n",
       "      <td>2.00</td>\n",
       "    </tr>\n",
       "  </tbody>\n",
       "</table>\n",
       "</div>"
      ],
      "text/plain": [
       "                                                           Count  Percentage\n",
       "Nombre                                             Código                   \n",
       "SIFILIS LATENTE, NO ESPECIFICADA COMO PRECOZ O ... A530    60587       43.22\n",
       "SIFILIS, NO ESPECIFICADA                           A539    49378       35.23\n",
       "DIABETES MELLITUS NOINSULINODEPENDIENTE SIN MEN... E119    17439       12.44\n",
       "DIABETES MELLITUSINSULINODEPENDIENTE SIN MENCIO... E109     6278        4.48\n",
       "SIFILIS PRECOZ                                     A51      3685        2.63\n",
       "DIABETES MELLITUS, NO ESPECIFICADA SIN MENCION ... E149     2808        2.00"
      ]
     },
     "execution_count": 9,
     "metadata": {},
     "output_type": "execute_result"
    }
   ],
   "source": [
    "from utils.preprocessing_utils import merge_classes\n",
    "\n",
    "notas = merge_classes(notas)\n",
    "name = notas[['Nombre', 'Código']].value_counts().to_frame('Count')\n",
    "name['Percentage'] = (name.Count / sum(name.Count) * 100).round(2)\n",
    "name"
   ]
  },
  {
   "cell_type": "markdown",
   "metadata": {},
   "source": [
    "# Feature Engineering"
   ]
  },
  {
   "cell_type": "markdown",
   "metadata": {},
   "source": [
    "## Word count"
   ]
  },
  {
   "cell_type": "markdown",
   "metadata": {},
   "source": [
    "According to the [CDC](https://www.cdc.gov/std/syphilis/stdfact-syphilis-detailed.htm), primary syphilis is characterized by a chancre mark where the disease enters the body. There is also a possibility of having extra sores in your body, but there does not seem to be any difference per se in the development of its condition based on where the disease started. Another clear indication of syphilis is Saber shin (pierna/tibia en sable).\n",
    "There is also a reduction in cognitive abilities for patients who have been suffering of syphilis for some time, and this can be tested for using a simple test called the [Clock Drawing Test](https://www2.gov.bc.ca/assets/gov/health/practitioner-pro/bc-guidelines/cogimp-clock-drawing-test.pdf), or [Test del Reloj](https://www.sanitas.es/sanitas/seguros/es/particulares/biblioteca-de-salud/tercera-edad/demencias/test-reloj.html) in Spanish.\n",
    "\n",
    "Additionally, a main characteristic of primary syphilis seems to be chancres, as well as sores for both Primary and Secondary Syphilis, making a case for creating a new numerical variable called \"chancres\". Another main characteristic of Syphilis is the push to use preservatives in order to reduce the possibility of other people being infected as well, which could help differentiate between Syphilis and Diabetes.\n",
    "\n",
    "Other related keywords we can try is genital, skin (lesions), headache, HIV, serology, hepatitis, and specific tests performed on the patients."
   ]
  },
  {
   "cell_type": "code",
   "execution_count": 13,
   "metadata": {},
   "outputs": [
    {
     "data": {
      "text/html": [
       "<div>\n",
       "<style scoped>\n",
       "    .dataframe tbody tr th:only-of-type {\n",
       "        vertical-align: middle;\n",
       "    }\n",
       "\n",
       "    .dataframe tbody tr th {\n",
       "        vertical-align: top;\n",
       "    }\n",
       "\n",
       "    .dataframe thead tr th {\n",
       "        text-align: left;\n",
       "    }\n",
       "\n",
       "    .dataframe thead tr:last-of-type th {\n",
       "        text-align: right;\n",
       "    }\n",
       "</style>\n",
       "<table border=\"1\" class=\"dataframe\">\n",
       "  <thead>\n",
       "    <tr>\n",
       "      <th></th>\n",
       "      <th></th>\n",
       "      <th colspan=\"2\" halign=\"left\">(test.*reloj)</th>\n",
       "      <th colspan=\"2\" halign=\"left\">FTA-ABS</th>\n",
       "      <th>Nombre</th>\n",
       "      <th colspan=\"2\" halign=\"left\">RPR</th>\n",
       "      <th colspan=\"2\" halign=\"left\">VDRL</th>\n",
       "      <th colspan=\"2\" halign=\"left\">antibio</th>\n",
       "      <th colspan=\"2\" halign=\"left\">asintoma</th>\n",
       "      <th colspan=\"2\" halign=\"left\">cabeza</th>\n",
       "      <th colspan=\"2\" halign=\"left\">chancro</th>\n",
       "      <th colspan=\"2\" halign=\"left\">genital</th>\n",
       "      <th colspan=\"2\" halign=\"left\">hepatitis</th>\n",
       "      <th colspan=\"2\" halign=\"left\">lesion</th>\n",
       "      <th colspan=\"2\" halign=\"left\">llaga</th>\n",
       "      <th colspan=\"2\" halign=\"left\">macula</th>\n",
       "      <th colspan=\"2\" halign=\"left\">penici</th>\n",
       "      <th colspan=\"2\" halign=\"left\">piel</th>\n",
       "      <th colspan=\"2\" halign=\"left\">placa</th>\n",
       "      <th colspan=\"2\" halign=\"left\">preservativo</th>\n",
       "      <th colspan=\"2\" halign=\"left\">sable</th>\n",
       "      <th colspan=\"2\" halign=\"left\">serolo</th>\n",
       "      <th colspan=\"2\" halign=\"left\">sifili</th>\n",
       "      <th colspan=\"2\" halign=\"left\">vih</th>\n",
       "    </tr>\n",
       "    <tr>\n",
       "      <th></th>\n",
       "      <th></th>\n",
       "      <th>%</th>\n",
       "      <th>sum</th>\n",
       "      <th>%</th>\n",
       "      <th>sum</th>\n",
       "      <th>count</th>\n",
       "      <th>%</th>\n",
       "      <th>sum</th>\n",
       "      <th>%</th>\n",
       "      <th>sum</th>\n",
       "      <th>%</th>\n",
       "      <th>sum</th>\n",
       "      <th>%</th>\n",
       "      <th>sum</th>\n",
       "      <th>%</th>\n",
       "      <th>sum</th>\n",
       "      <th>%</th>\n",
       "      <th>sum</th>\n",
       "      <th>%</th>\n",
       "      <th>sum</th>\n",
       "      <th>%</th>\n",
       "      <th>sum</th>\n",
       "      <th>%</th>\n",
       "      <th>sum</th>\n",
       "      <th>%</th>\n",
       "      <th>sum</th>\n",
       "      <th>%</th>\n",
       "      <th>sum</th>\n",
       "      <th>%</th>\n",
       "      <th>sum</th>\n",
       "      <th>%</th>\n",
       "      <th>sum</th>\n",
       "      <th>%</th>\n",
       "      <th>sum</th>\n",
       "      <th>%</th>\n",
       "      <th>sum</th>\n",
       "      <th>%</th>\n",
       "      <th>sum</th>\n",
       "      <th>%</th>\n",
       "      <th>sum</th>\n",
       "      <th>%</th>\n",
       "      <th>sum</th>\n",
       "      <th>%</th>\n",
       "      <th>sum</th>\n",
       "    </tr>\n",
       "    <tr>\n",
       "      <th>Nombre</th>\n",
       "      <th>Código</th>\n",
       "      <th></th>\n",
       "      <th></th>\n",
       "      <th></th>\n",
       "      <th></th>\n",
       "      <th></th>\n",
       "      <th></th>\n",
       "      <th></th>\n",
       "      <th></th>\n",
       "      <th></th>\n",
       "      <th></th>\n",
       "      <th></th>\n",
       "      <th></th>\n",
       "      <th></th>\n",
       "      <th></th>\n",
       "      <th></th>\n",
       "      <th></th>\n",
       "      <th></th>\n",
       "      <th></th>\n",
       "      <th></th>\n",
       "      <th></th>\n",
       "      <th></th>\n",
       "      <th></th>\n",
       "      <th></th>\n",
       "      <th></th>\n",
       "      <th></th>\n",
       "      <th></th>\n",
       "      <th></th>\n",
       "      <th></th>\n",
       "      <th></th>\n",
       "      <th></th>\n",
       "      <th></th>\n",
       "      <th></th>\n",
       "      <th></th>\n",
       "      <th></th>\n",
       "      <th></th>\n",
       "      <th></th>\n",
       "      <th></th>\n",
       "      <th></th>\n",
       "      <th></th>\n",
       "      <th></th>\n",
       "      <th></th>\n",
       "      <th></th>\n",
       "      <th></th>\n",
       "    </tr>\n",
       "  </thead>\n",
       "  <tbody>\n",
       "    <tr>\n",
       "      <th>SIFILIS PRECOZ</th>\n",
       "      <th>A51</th>\n",
       "      <td>4.91</td>\n",
       "      <td>181</td>\n",
       "      <td>0.00</td>\n",
       "      <td>0</td>\n",
       "      <td>3685</td>\n",
       "      <td>8.06</td>\n",
       "      <td>297</td>\n",
       "      <td>0.54</td>\n",
       "      <td>20</td>\n",
       "      <td>0.11</td>\n",
       "      <td>4</td>\n",
       "      <td>5.37</td>\n",
       "      <td>198</td>\n",
       "      <td>26.08</td>\n",
       "      <td>961</td>\n",
       "      <td>0.03</td>\n",
       "      <td>1</td>\n",
       "      <td>0.65</td>\n",
       "      <td>24</td>\n",
       "      <td>7.63</td>\n",
       "      <td>281</td>\n",
       "      <td>2.74</td>\n",
       "      <td>101</td>\n",
       "      <td>0.00</td>\n",
       "      <td>0</td>\n",
       "      <td>0.00</td>\n",
       "      <td>0</td>\n",
       "      <td>3.01</td>\n",
       "      <td>111</td>\n",
       "      <td>1.38</td>\n",
       "      <td>51</td>\n",
       "      <td>0.14</td>\n",
       "      <td>5</td>\n",
       "      <td>52.81</td>\n",
       "      <td>1946</td>\n",
       "      <td>15.20</td>\n",
       "      <td>560</td>\n",
       "      <td>2.17</td>\n",
       "      <td>80</td>\n",
       "      <td>3.66</td>\n",
       "      <td>135</td>\n",
       "      <td>8.49</td>\n",
       "      <td>313</td>\n",
       "    </tr>\n",
       "    <tr>\n",
       "      <th>SIFILIS LATENTE, NO ESPECIFICADA COMO PRECOZ O TARDIA</th>\n",
       "      <th>A530</th>\n",
       "      <td>2.91</td>\n",
       "      <td>1761</td>\n",
       "      <td>0.02</td>\n",
       "      <td>11</td>\n",
       "      <td>60587</td>\n",
       "      <td>8.74</td>\n",
       "      <td>5295</td>\n",
       "      <td>0.78</td>\n",
       "      <td>475</td>\n",
       "      <td>0.10</td>\n",
       "      <td>58</td>\n",
       "      <td>3.07</td>\n",
       "      <td>1861</td>\n",
       "      <td>18.07</td>\n",
       "      <td>10950</td>\n",
       "      <td>0.00</td>\n",
       "      <td>1</td>\n",
       "      <td>1.18</td>\n",
       "      <td>717</td>\n",
       "      <td>6.99</td>\n",
       "      <td>4236</td>\n",
       "      <td>3.16</td>\n",
       "      <td>1915</td>\n",
       "      <td>0.01</td>\n",
       "      <td>4</td>\n",
       "      <td>0.02</td>\n",
       "      <td>12</td>\n",
       "      <td>2.95</td>\n",
       "      <td>1785</td>\n",
       "      <td>1.52</td>\n",
       "      <td>922</td>\n",
       "      <td>1.14</td>\n",
       "      <td>691</td>\n",
       "      <td>49.07</td>\n",
       "      <td>29732</td>\n",
       "      <td>9.24</td>\n",
       "      <td>5596</td>\n",
       "      <td>2.27</td>\n",
       "      <td>1373</td>\n",
       "      <td>3.67</td>\n",
       "      <td>2225</td>\n",
       "      <td>7.63</td>\n",
       "      <td>4622</td>\n",
       "    </tr>\n",
       "    <tr>\n",
       "      <th>SIFILIS, NO ESPECIFICADA</th>\n",
       "      <th>A539</th>\n",
       "      <td>1.71</td>\n",
       "      <td>845</td>\n",
       "      <td>0.06</td>\n",
       "      <td>29</td>\n",
       "      <td>49378</td>\n",
       "      <td>18.17</td>\n",
       "      <td>8971</td>\n",
       "      <td>0.67</td>\n",
       "      <td>329</td>\n",
       "      <td>0.06</td>\n",
       "      <td>28</td>\n",
       "      <td>1.51</td>\n",
       "      <td>748</td>\n",
       "      <td>9.17</td>\n",
       "      <td>4529</td>\n",
       "      <td>0.00</td>\n",
       "      <td>2</td>\n",
       "      <td>0.67</td>\n",
       "      <td>333</td>\n",
       "      <td>21.37</td>\n",
       "      <td>10554</td>\n",
       "      <td>8.53</td>\n",
       "      <td>4213</td>\n",
       "      <td>0.00</td>\n",
       "      <td>2</td>\n",
       "      <td>0.05</td>\n",
       "      <td>27</td>\n",
       "      <td>4.65</td>\n",
       "      <td>2295</td>\n",
       "      <td>1.12</td>\n",
       "      <td>553</td>\n",
       "      <td>0.60</td>\n",
       "      <td>297</td>\n",
       "      <td>37.07</td>\n",
       "      <td>18302</td>\n",
       "      <td>5.44</td>\n",
       "      <td>2684</td>\n",
       "      <td>8.26</td>\n",
       "      <td>4081</td>\n",
       "      <td>16.33</td>\n",
       "      <td>8065</td>\n",
       "      <td>7.29</td>\n",
       "      <td>3601</td>\n",
       "    </tr>\n",
       "    <tr>\n",
       "      <th>DIABETES MELLITUSINSULINODEPENDIENTE SIN MENCION DE COMPLICACION</th>\n",
       "      <th>E109</th>\n",
       "      <td>1.47</td>\n",
       "      <td>92</td>\n",
       "      <td>0.02</td>\n",
       "      <td>1</td>\n",
       "      <td>6278</td>\n",
       "      <td>4.64</td>\n",
       "      <td>291</td>\n",
       "      <td>0.33</td>\n",
       "      <td>21</td>\n",
       "      <td>2.80</td>\n",
       "      <td>176</td>\n",
       "      <td>1.85</td>\n",
       "      <td>116</td>\n",
       "      <td>14.45</td>\n",
       "      <td>907</td>\n",
       "      <td>0.00</td>\n",
       "      <td>0</td>\n",
       "      <td>0.56</td>\n",
       "      <td>35</td>\n",
       "      <td>6.15</td>\n",
       "      <td>386</td>\n",
       "      <td>4.25</td>\n",
       "      <td>267</td>\n",
       "      <td>0.02</td>\n",
       "      <td>1</td>\n",
       "      <td>0.00</td>\n",
       "      <td>0</td>\n",
       "      <td>0.33</td>\n",
       "      <td>21</td>\n",
       "      <td>6.20</td>\n",
       "      <td>389</td>\n",
       "      <td>0.57</td>\n",
       "      <td>36</td>\n",
       "      <td>22.35</td>\n",
       "      <td>1403</td>\n",
       "      <td>5.35</td>\n",
       "      <td>336</td>\n",
       "      <td>0.43</td>\n",
       "      <td>27</td>\n",
       "      <td>2.63</td>\n",
       "      <td>165</td>\n",
       "      <td>4.71</td>\n",
       "      <td>296</td>\n",
       "    </tr>\n",
       "    <tr>\n",
       "      <th>DIABETES MELLITUS NOINSULINODEPENDIENTE SIN MENCION DE COMPLICACION</th>\n",
       "      <th>E119</th>\n",
       "      <td>1.32</td>\n",
       "      <td>230</td>\n",
       "      <td>0.00</td>\n",
       "      <td>0</td>\n",
       "      <td>17439</td>\n",
       "      <td>2.92</td>\n",
       "      <td>510</td>\n",
       "      <td>0.23</td>\n",
       "      <td>40</td>\n",
       "      <td>2.99</td>\n",
       "      <td>522</td>\n",
       "      <td>2.44</td>\n",
       "      <td>426</td>\n",
       "      <td>12.81</td>\n",
       "      <td>2234</td>\n",
       "      <td>0.00</td>\n",
       "      <td>0</td>\n",
       "      <td>0.67</td>\n",
       "      <td>117</td>\n",
       "      <td>4.17</td>\n",
       "      <td>728</td>\n",
       "      <td>2.83</td>\n",
       "      <td>494</td>\n",
       "      <td>0.00</td>\n",
       "      <td>0</td>\n",
       "      <td>0.01</td>\n",
       "      <td>2</td>\n",
       "      <td>0.19</td>\n",
       "      <td>33</td>\n",
       "      <td>4.91</td>\n",
       "      <td>856</td>\n",
       "      <td>0.63</td>\n",
       "      <td>110</td>\n",
       "      <td>26.40</td>\n",
       "      <td>4604</td>\n",
       "      <td>5.05</td>\n",
       "      <td>880</td>\n",
       "      <td>0.57</td>\n",
       "      <td>99</td>\n",
       "      <td>0.88</td>\n",
       "      <td>154</td>\n",
       "      <td>4.51</td>\n",
       "      <td>787</td>\n",
       "    </tr>\n",
       "    <tr>\n",
       "      <th>DIABETES MELLITUS, NO ESPECIFICADA SIN MENCION DE COMPLICACION</th>\n",
       "      <th>E149</th>\n",
       "      <td>1.28</td>\n",
       "      <td>36</td>\n",
       "      <td>0.00</td>\n",
       "      <td>0</td>\n",
       "      <td>2808</td>\n",
       "      <td>3.95</td>\n",
       "      <td>111</td>\n",
       "      <td>0.28</td>\n",
       "      <td>8</td>\n",
       "      <td>5.38</td>\n",
       "      <td>151</td>\n",
       "      <td>2.35</td>\n",
       "      <td>66</td>\n",
       "      <td>11.97</td>\n",
       "      <td>336</td>\n",
       "      <td>0.00</td>\n",
       "      <td>0</td>\n",
       "      <td>0.53</td>\n",
       "      <td>15</td>\n",
       "      <td>5.95</td>\n",
       "      <td>167</td>\n",
       "      <td>3.03</td>\n",
       "      <td>85</td>\n",
       "      <td>0.00</td>\n",
       "      <td>0</td>\n",
       "      <td>0.00</td>\n",
       "      <td>0</td>\n",
       "      <td>0.21</td>\n",
       "      <td>6</td>\n",
       "      <td>6.20</td>\n",
       "      <td>174</td>\n",
       "      <td>0.36</td>\n",
       "      <td>10</td>\n",
       "      <td>20.55</td>\n",
       "      <td>577</td>\n",
       "      <td>5.02</td>\n",
       "      <td>141</td>\n",
       "      <td>1.18</td>\n",
       "      <td>33</td>\n",
       "      <td>2.81</td>\n",
       "      <td>79</td>\n",
       "      <td>5.02</td>\n",
       "      <td>141</td>\n",
       "    </tr>\n",
       "  </tbody>\n",
       "</table>\n",
       "</div>"
      ],
      "text/plain": [
       "                                                          (test.*reloj)        \\\n",
       "                                                                      %   sum   \n",
       "Nombre                                             Código                       \n",
       "SIFILIS PRECOZ                                     A51             4.91   181   \n",
       "SIFILIS LATENTE, NO ESPECIFICADA COMO PRECOZ O ... A530            2.91  1761   \n",
       "SIFILIS, NO ESPECIFICADA                           A539            1.71   845   \n",
       "DIABETES MELLITUSINSULINODEPENDIENTE SIN MENCIO... E109            1.47    92   \n",
       "DIABETES MELLITUS NOINSULINODEPENDIENTE SIN MEN... E119            1.32   230   \n",
       "DIABETES MELLITUS, NO ESPECIFICADA SIN MENCION ... E149            1.28    36   \n",
       "\n",
       "                                                          FTA-ABS     Nombre  \\\n",
       "                                                                % sum  count   \n",
       "Nombre                                             Código                      \n",
       "SIFILIS PRECOZ                                     A51       0.00   0   3685   \n",
       "SIFILIS LATENTE, NO ESPECIFICADA COMO PRECOZ O ... A530      0.02  11  60587   \n",
       "SIFILIS, NO ESPECIFICADA                           A539      0.06  29  49378   \n",
       "DIABETES MELLITUSINSULINODEPENDIENTE SIN MENCIO... E109      0.02   1   6278   \n",
       "DIABETES MELLITUS NOINSULINODEPENDIENTE SIN MEN... E119      0.00   0  17439   \n",
       "DIABETES MELLITUS, NO ESPECIFICADA SIN MENCION ... E149      0.00   0   2808   \n",
       "\n",
       "                                                             RPR        VDRL  \\\n",
       "                                                               %   sum     %   \n",
       "Nombre                                             Código                      \n",
       "SIFILIS PRECOZ                                     A51      8.06   297  0.54   \n",
       "SIFILIS LATENTE, NO ESPECIFICADA COMO PRECOZ O ... A530     8.74  5295  0.78   \n",
       "SIFILIS, NO ESPECIFICADA                           A539    18.17  8971  0.67   \n",
       "DIABETES MELLITUSINSULINODEPENDIENTE SIN MENCIO... E109     4.64   291  0.33   \n",
       "DIABETES MELLITUS NOINSULINODEPENDIENTE SIN MEN... E119     2.92   510  0.23   \n",
       "DIABETES MELLITUS, NO ESPECIFICADA SIN MENCION ... E149     3.95   111  0.28   \n",
       "\n",
       "                                                               antibio       \\\n",
       "                                                           sum       %  sum   \n",
       "Nombre                                             Código                     \n",
       "SIFILIS PRECOZ                                     A51      20    0.11    4   \n",
       "SIFILIS LATENTE, NO ESPECIFICADA COMO PRECOZ O ... A530    475    0.10   58   \n",
       "SIFILIS, NO ESPECIFICADA                           A539    329    0.06   28   \n",
       "DIABETES MELLITUSINSULINODEPENDIENTE SIN MENCIO... E109     21    2.80  176   \n",
       "DIABETES MELLITUS NOINSULINODEPENDIENTE SIN MEN... E119     40    2.99  522   \n",
       "DIABETES MELLITUS, NO ESPECIFICADA SIN MENCION ... E149      8    5.38  151   \n",
       "\n",
       "                                                          asintoma        \\\n",
       "                                                                 %   sum   \n",
       "Nombre                                             Código                  \n",
       "SIFILIS PRECOZ                                     A51        5.37   198   \n",
       "SIFILIS LATENTE, NO ESPECIFICADA COMO PRECOZ O ... A530       3.07  1861   \n",
       "SIFILIS, NO ESPECIFICADA                           A539       1.51   748   \n",
       "DIABETES MELLITUSINSULINODEPENDIENTE SIN MENCIO... E109       1.85   116   \n",
       "DIABETES MELLITUS NOINSULINODEPENDIENTE SIN MEN... E119       2.44   426   \n",
       "DIABETES MELLITUS, NO ESPECIFICADA SIN MENCION ... E149       2.35    66   \n",
       "\n",
       "                                                          cabeza         \\\n",
       "                                                               %    sum   \n",
       "Nombre                                             Código                 \n",
       "SIFILIS PRECOZ                                     A51     26.08    961   \n",
       "SIFILIS LATENTE, NO ESPECIFICADA COMO PRECOZ O ... A530    18.07  10950   \n",
       "SIFILIS, NO ESPECIFICADA                           A539     9.17   4529   \n",
       "DIABETES MELLITUSINSULINODEPENDIENTE SIN MENCIO... E109    14.45    907   \n",
       "DIABETES MELLITUS NOINSULINODEPENDIENTE SIN MEN... E119    12.81   2234   \n",
       "DIABETES MELLITUS, NO ESPECIFICADA SIN MENCION ... E149    11.97    336   \n",
       "\n",
       "                                                          chancro     genital  \\\n",
       "                                                                % sum       %   \n",
       "Nombre                                             Código                       \n",
       "SIFILIS PRECOZ                                     A51       0.03   1    0.65   \n",
       "SIFILIS LATENTE, NO ESPECIFICADA COMO PRECOZ O ... A530      0.00   1    1.18   \n",
       "SIFILIS, NO ESPECIFICADA                           A539      0.00   2    0.67   \n",
       "DIABETES MELLITUSINSULINODEPENDIENTE SIN MENCIO... E109      0.00   0    0.56   \n",
       "DIABETES MELLITUS NOINSULINODEPENDIENTE SIN MEN... E119      0.00   0    0.67   \n",
       "DIABETES MELLITUS, NO ESPECIFICADA SIN MENCION ... E149      0.00   0    0.53   \n",
       "\n",
       "                                                               hepatitis  \\\n",
       "                                                           sum         %   \n",
       "Nombre                                             Código                  \n",
       "SIFILIS PRECOZ                                     A51      24      7.63   \n",
       "SIFILIS LATENTE, NO ESPECIFICADA COMO PRECOZ O ... A530    717      6.99   \n",
       "SIFILIS, NO ESPECIFICADA                           A539    333     21.37   \n",
       "DIABETES MELLITUSINSULINODEPENDIENTE SIN MENCIO... E109     35      6.15   \n",
       "DIABETES MELLITUS NOINSULINODEPENDIENTE SIN MEN... E119    117      4.17   \n",
       "DIABETES MELLITUS, NO ESPECIFICADA SIN MENCION ... E149     15      5.95   \n",
       "\n",
       "                                                                 lesion        \\\n",
       "                                                             sum      %   sum   \n",
       "Nombre                                             Código                       \n",
       "SIFILIS PRECOZ                                     A51       281   2.74   101   \n",
       "SIFILIS LATENTE, NO ESPECIFICADA COMO PRECOZ O ... A530     4236   3.16  1915   \n",
       "SIFILIS, NO ESPECIFICADA                           A539    10554   8.53  4213   \n",
       "DIABETES MELLITUSINSULINODEPENDIENTE SIN MENCIO... E109      386   4.25   267   \n",
       "DIABETES MELLITUS NOINSULINODEPENDIENTE SIN MEN... E119      728   2.83   494   \n",
       "DIABETES MELLITUS, NO ESPECIFICADA SIN MENCION ... E149      167   3.03    85   \n",
       "\n",
       "                                                          llaga     macula  \\\n",
       "                                                              % sum      %   \n",
       "Nombre                                             Código                    \n",
       "SIFILIS PRECOZ                                     A51     0.00   0   0.00   \n",
       "SIFILIS LATENTE, NO ESPECIFICADA COMO PRECOZ O ... A530    0.01   4   0.02   \n",
       "SIFILIS, NO ESPECIFICADA                           A539    0.00   2   0.05   \n",
       "DIABETES MELLITUSINSULINODEPENDIENTE SIN MENCIO... E109    0.02   1   0.00   \n",
       "DIABETES MELLITUS NOINSULINODEPENDIENTE SIN MEN... E119    0.00   0   0.01   \n",
       "DIABETES MELLITUS, NO ESPECIFICADA SIN MENCION ... E149    0.00   0   0.00   \n",
       "\n",
       "                                                              penici        \\\n",
       "                                                          sum      %   sum   \n",
       "Nombre                                             Código                    \n",
       "SIFILIS PRECOZ                                     A51      0   3.01   111   \n",
       "SIFILIS LATENTE, NO ESPECIFICADA COMO PRECOZ O ... A530    12   2.95  1785   \n",
       "SIFILIS, NO ESPECIFICADA                           A539    27   4.65  2295   \n",
       "DIABETES MELLITUSINSULINODEPENDIENTE SIN MENCIO... E109     0   0.33    21   \n",
       "DIABETES MELLITUS NOINSULINODEPENDIENTE SIN MEN... E119     2   0.19    33   \n",
       "DIABETES MELLITUS, NO ESPECIFICADA SIN MENCION ... E149     0   0.21     6   \n",
       "\n",
       "                                                           piel      placa  \\\n",
       "                                                              %  sum     %   \n",
       "Nombre                                             Código                    \n",
       "SIFILIS PRECOZ                                     A51     1.38   51  0.14   \n",
       "SIFILIS LATENTE, NO ESPECIFICADA COMO PRECOZ O ... A530    1.52  922  1.14   \n",
       "SIFILIS, NO ESPECIFICADA                           A539    1.12  553  0.60   \n",
       "DIABETES MELLITUSINSULINODEPENDIENTE SIN MENCIO... E109    6.20  389  0.57   \n",
       "DIABETES MELLITUS NOINSULINODEPENDIENTE SIN MEN... E119    4.91  856  0.63   \n",
       "DIABETES MELLITUS, NO ESPECIFICADA SIN MENCION ... E149    6.20  174  0.36   \n",
       "\n",
       "                                                               preservativo  \\\n",
       "                                                           sum            %   \n",
       "Nombre                                             Código                     \n",
       "SIFILIS PRECOZ                                     A51       5        52.81   \n",
       "SIFILIS LATENTE, NO ESPECIFICADA COMO PRECOZ O ... A530    691        49.07   \n",
       "SIFILIS, NO ESPECIFICADA                           A539    297        37.07   \n",
       "DIABETES MELLITUSINSULINODEPENDIENTE SIN MENCIO... E109     36        22.35   \n",
       "DIABETES MELLITUS NOINSULINODEPENDIENTE SIN MEN... E119    110        26.40   \n",
       "DIABETES MELLITUS, NO ESPECIFICADA SIN MENCION ... E149     10        20.55   \n",
       "\n",
       "                                                                  sable        \\\n",
       "                                                             sum      %   sum   \n",
       "Nombre                                             Código                       \n",
       "SIFILIS PRECOZ                                     A51      1946  15.20   560   \n",
       "SIFILIS LATENTE, NO ESPECIFICADA COMO PRECOZ O ... A530    29732   9.24  5596   \n",
       "SIFILIS, NO ESPECIFICADA                           A539    18302   5.44  2684   \n",
       "DIABETES MELLITUSINSULINODEPENDIENTE SIN MENCIO... E109     1403   5.35   336   \n",
       "DIABETES MELLITUS NOINSULINODEPENDIENTE SIN MEN... E119     4604   5.05   880   \n",
       "DIABETES MELLITUS, NO ESPECIFICADA SIN MENCION ... E149      577   5.02   141   \n",
       "\n",
       "                                                          serolo       sifili  \\\n",
       "                                                               %   sum      %   \n",
       "Nombre                                             Código                       \n",
       "SIFILIS PRECOZ                                     A51      2.17    80   3.66   \n",
       "SIFILIS LATENTE, NO ESPECIFICADA COMO PRECOZ O ... A530     2.27  1373   3.67   \n",
       "SIFILIS, NO ESPECIFICADA                           A539     8.26  4081  16.33   \n",
       "DIABETES MELLITUSINSULINODEPENDIENTE SIN MENCIO... E109     0.43    27   2.63   \n",
       "DIABETES MELLITUS NOINSULINODEPENDIENTE SIN MEN... E119     0.57    99   0.88   \n",
       "DIABETES MELLITUS, NO ESPECIFICADA SIN MENCION ... E149     1.18    33   2.81   \n",
       "\n",
       "                                                                  vih        \n",
       "                                                            sum     %   sum  \n",
       "Nombre                                             Código                    \n",
       "SIFILIS PRECOZ                                     A51      135  8.49   313  \n",
       "SIFILIS LATENTE, NO ESPECIFICADA COMO PRECOZ O ... A530    2225  7.63  4622  \n",
       "SIFILIS, NO ESPECIFICADA                           A539    8065  7.29  3601  \n",
       "DIABETES MELLITUSINSULINODEPENDIENTE SIN MENCIO... E109     165  4.71   296  \n",
       "DIABETES MELLITUS NOINSULINODEPENDIENTE SIN MEN... E119     154  4.51   787  \n",
       "DIABETES MELLITUS, NO ESPECIFICADA SIN MENCION ... E149      79  5.02   141  "
      ]
     },
     "metadata": {},
     "output_type": "display_data"
    }
   ],
   "source": [
    "\n",
    "notas_eda = notas.copy()\n",
    "words_to_check = [\n",
    "    'chancro',\n",
    "    'llaga',\n",
    "    'preservativo',\n",
    "    'sifili',\n",
    "    'asintoma',\n",
    "    'placa',\n",
    "    r'(test.*reloj)',\n",
    "    'sable',\n",
    "    'penici',\n",
    "    'antibio',\n",
    "    'genital',\n",
    "    'piel',\n",
    "    'lesion',\n",
    "    'macula',\n",
    "    'cabeza',\n",
    "    'vih',\n",
    "    'FTA-ABS',\n",
    "    'serolo',\n",
    "    'hepatitis',\n",
    "    'VDRL',\n",
    "    'RPR',\n",
    "    ]\n",
    "aggregate_dict = {}\n",
    "for word in words_to_check:\n",
    "    notas_eda[word] = notas_eda.Plan.str.lower().str.count(word.lower())\n",
    "    notas_eda.loc[notas_eda[word] > 1, word] = 1\n",
    "    aggregate_dict[word] = ['sum']\n",
    "aggregate_dict['Nombre'] = ['count']\n",
    "notas_eda = notas_eda.groupby(['Nombre', 'Código'])[words_to_check + ['Nombre']].aggregate(aggregate_dict)\n",
    "\n",
    "for word in words_to_check:\n",
    "    notas_eda.loc(axis=1)[word, '%'] = (notas_eda.loc(axis=1)[word, 'sum'] / notas_eda.loc(axis=1)['Nombre', 'count'] * 100).round(2)\n",
    "with pd.option_context('display.max_columns', None):\n",
    "    display(notas_eda.sort_index(axis=1).sort_values(by=['Código']))"
   ]
  },
  {
   "cell_type": "markdown",
   "metadata": {},
   "source": [
    "For diabetes, we tried adding insulin and glucose as words of interest. Ketoacidosis is another relevant word which we can separate into keto and acido to see if we can capture more information.\n",
    "\n",
    "Other keywords associated with diabetes are: obesity, carbohydrates, overweight, polyphagia, polydipsia, polyurea"
   ]
  },
  {
   "cell_type": "code",
   "execution_count": 11,
   "metadata": {},
   "outputs": [
    {
     "data": {
      "text/html": [
       "<div>\n",
       "<style scoped>\n",
       "    .dataframe tbody tr th:only-of-type {\n",
       "        vertical-align: middle;\n",
       "    }\n",
       "\n",
       "    .dataframe tbody tr th {\n",
       "        vertical-align: top;\n",
       "    }\n",
       "\n",
       "    .dataframe thead tr th {\n",
       "        text-align: left;\n",
       "    }\n",
       "\n",
       "    .dataframe thead tr:last-of-type th {\n",
       "        text-align: right;\n",
       "    }\n",
       "</style>\n",
       "<table border=\"1\" class=\"dataframe\">\n",
       "  <thead>\n",
       "    <tr>\n",
       "      <th></th>\n",
       "      <th></th>\n",
       "      <th>Nombre</th>\n",
       "      <th colspan=\"2\" halign=\"left\">acido</th>\n",
       "      <th colspan=\"2\" halign=\"left\">ampolla</th>\n",
       "      <th colspan=\"2\" halign=\"left\">carbo</th>\n",
       "      <th colspan=\"2\" halign=\"left\">dependiente</th>\n",
       "      <th colspan=\"2\" halign=\"left\">diabet</th>\n",
       "      <th colspan=\"2\" halign=\"left\">diet</th>\n",
       "      <th colspan=\"2\" halign=\"left\">gluco</th>\n",
       "      <th colspan=\"2\" halign=\"left\">insulin</th>\n",
       "      <th colspan=\"2\" halign=\"left\">keto</th>\n",
       "      <th colspan=\"2\" halign=\"left\">nutri</th>\n",
       "      <th colspan=\"2\" halign=\"left\">obes</th>\n",
       "      <th colspan=\"2\" halign=\"left\">polidipsia</th>\n",
       "      <th colspan=\"2\" halign=\"left\">polifagia</th>\n",
       "      <th colspan=\"2\" halign=\"left\">poliurea</th>\n",
       "      <th colspan=\"2\" halign=\"left\">sobrepeso</th>\n",
       "    </tr>\n",
       "    <tr>\n",
       "      <th></th>\n",
       "      <th></th>\n",
       "      <th>count</th>\n",
       "      <th>%</th>\n",
       "      <th>sum</th>\n",
       "      <th>%</th>\n",
       "      <th>sum</th>\n",
       "      <th>%</th>\n",
       "      <th>sum</th>\n",
       "      <th>%</th>\n",
       "      <th>sum</th>\n",
       "      <th>%</th>\n",
       "      <th>sum</th>\n",
       "      <th>%</th>\n",
       "      <th>sum</th>\n",
       "      <th>%</th>\n",
       "      <th>sum</th>\n",
       "      <th>%</th>\n",
       "      <th>sum</th>\n",
       "      <th>%</th>\n",
       "      <th>sum</th>\n",
       "      <th>%</th>\n",
       "      <th>sum</th>\n",
       "      <th>%</th>\n",
       "      <th>sum</th>\n",
       "      <th>%</th>\n",
       "      <th>sum</th>\n",
       "      <th>%</th>\n",
       "      <th>sum</th>\n",
       "      <th>%</th>\n",
       "      <th>sum</th>\n",
       "      <th>%</th>\n",
       "      <th>sum</th>\n",
       "    </tr>\n",
       "    <tr>\n",
       "      <th>Nombre</th>\n",
       "      <th>Código</th>\n",
       "      <th></th>\n",
       "      <th></th>\n",
       "      <th></th>\n",
       "      <th></th>\n",
       "      <th></th>\n",
       "      <th></th>\n",
       "      <th></th>\n",
       "      <th></th>\n",
       "      <th></th>\n",
       "      <th></th>\n",
       "      <th></th>\n",
       "      <th></th>\n",
       "      <th></th>\n",
       "      <th></th>\n",
       "      <th></th>\n",
       "      <th></th>\n",
       "      <th></th>\n",
       "      <th></th>\n",
       "      <th></th>\n",
       "      <th></th>\n",
       "      <th></th>\n",
       "      <th></th>\n",
       "      <th></th>\n",
       "      <th></th>\n",
       "      <th></th>\n",
       "      <th></th>\n",
       "      <th></th>\n",
       "      <th></th>\n",
       "      <th></th>\n",
       "      <th></th>\n",
       "      <th></th>\n",
       "    </tr>\n",
       "  </thead>\n",
       "  <tbody>\n",
       "    <tr>\n",
       "      <th>SIFILIS PRECOZ</th>\n",
       "      <th>A51</th>\n",
       "      <td>3685</td>\n",
       "      <td>0.41</td>\n",
       "      <td>15</td>\n",
       "      <td>0.24</td>\n",
       "      <td>9</td>\n",
       "      <td>3.88</td>\n",
       "      <td>143</td>\n",
       "      <td>1.22</td>\n",
       "      <td>45</td>\n",
       "      <td>0.14</td>\n",
       "      <td>5</td>\n",
       "      <td>7.54</td>\n",
       "      <td>278</td>\n",
       "      <td>1.03</td>\n",
       "      <td>38</td>\n",
       "      <td>0.03</td>\n",
       "      <td>1</td>\n",
       "      <td>0.08</td>\n",
       "      <td>3</td>\n",
       "      <td>26.92</td>\n",
       "      <td>992</td>\n",
       "      <td>0.73</td>\n",
       "      <td>27</td>\n",
       "      <td>0.0</td>\n",
       "      <td>0</td>\n",
       "      <td>0.0</td>\n",
       "      <td>0</td>\n",
       "      <td>0.0</td>\n",
       "      <td>0</td>\n",
       "      <td>0.14</td>\n",
       "      <td>5</td>\n",
       "    </tr>\n",
       "    <tr>\n",
       "      <th>SIFILIS LATENTE, NO ESPECIFICADA COMO PRECOZ O TARDIA</th>\n",
       "      <th>A530</th>\n",
       "      <td>60587</td>\n",
       "      <td>0.92</td>\n",
       "      <td>558</td>\n",
       "      <td>0.38</td>\n",
       "      <td>233</td>\n",
       "      <td>3.26</td>\n",
       "      <td>1973</td>\n",
       "      <td>1.44</td>\n",
       "      <td>875</td>\n",
       "      <td>0.26</td>\n",
       "      <td>160</td>\n",
       "      <td>8.38</td>\n",
       "      <td>5078</td>\n",
       "      <td>1.08</td>\n",
       "      <td>652</td>\n",
       "      <td>0.09</td>\n",
       "      <td>56</td>\n",
       "      <td>0.07</td>\n",
       "      <td>42</td>\n",
       "      <td>26.07</td>\n",
       "      <td>15795</td>\n",
       "      <td>0.19</td>\n",
       "      <td>113</td>\n",
       "      <td>0.0</td>\n",
       "      <td>1</td>\n",
       "      <td>0.0</td>\n",
       "      <td>2</td>\n",
       "      <td>0.0</td>\n",
       "      <td>0</td>\n",
       "      <td>0.23</td>\n",
       "      <td>139</td>\n",
       "    </tr>\n",
       "    <tr>\n",
       "      <th>SIFILIS, NO ESPECIFICADA</th>\n",
       "      <th>A539</th>\n",
       "      <td>49378</td>\n",
       "      <td>1.70</td>\n",
       "      <td>838</td>\n",
       "      <td>0.95</td>\n",
       "      <td>471</td>\n",
       "      <td>2.22</td>\n",
       "      <td>1094</td>\n",
       "      <td>0.74</td>\n",
       "      <td>365</td>\n",
       "      <td>0.28</td>\n",
       "      <td>136</td>\n",
       "      <td>7.71</td>\n",
       "      <td>3809</td>\n",
       "      <td>1.04</td>\n",
       "      <td>512</td>\n",
       "      <td>0.14</td>\n",
       "      <td>67</td>\n",
       "      <td>0.06</td>\n",
       "      <td>29</td>\n",
       "      <td>29.77</td>\n",
       "      <td>14701</td>\n",
       "      <td>0.18</td>\n",
       "      <td>88</td>\n",
       "      <td>0.0</td>\n",
       "      <td>0</td>\n",
       "      <td>0.0</td>\n",
       "      <td>0</td>\n",
       "      <td>0.0</td>\n",
       "      <td>0</td>\n",
       "      <td>0.31</td>\n",
       "      <td>152</td>\n",
       "    </tr>\n",
       "    <tr>\n",
       "      <th>DIABETES MELLITUSINSULINODEPENDIENTE SIN MENCION DE COMPLICACION</th>\n",
       "      <th>E109</th>\n",
       "      <td>6278</td>\n",
       "      <td>6.90</td>\n",
       "      <td>433</td>\n",
       "      <td>2.10</td>\n",
       "      <td>132</td>\n",
       "      <td>3.17</td>\n",
       "      <td>199</td>\n",
       "      <td>0.67</td>\n",
       "      <td>42</td>\n",
       "      <td>5.16</td>\n",
       "      <td>324</td>\n",
       "      <td>13.35</td>\n",
       "      <td>838</td>\n",
       "      <td>12.68</td>\n",
       "      <td>796</td>\n",
       "      <td>20.56</td>\n",
       "      <td>1291</td>\n",
       "      <td>2.20</td>\n",
       "      <td>138</td>\n",
       "      <td>34.12</td>\n",
       "      <td>2142</td>\n",
       "      <td>0.40</td>\n",
       "      <td>25</td>\n",
       "      <td>0.0</td>\n",
       "      <td>0</td>\n",
       "      <td>0.0</td>\n",
       "      <td>0</td>\n",
       "      <td>0.0</td>\n",
       "      <td>0</td>\n",
       "      <td>0.11</td>\n",
       "      <td>7</td>\n",
       "    </tr>\n",
       "    <tr>\n",
       "      <th>DIABETES MELLITUS NOINSULINODEPENDIENTE SIN MENCION DE COMPLICACION</th>\n",
       "      <th>E119</th>\n",
       "      <td>17439</td>\n",
       "      <td>6.46</td>\n",
       "      <td>1126</td>\n",
       "      <td>1.29</td>\n",
       "      <td>225</td>\n",
       "      <td>2.07</td>\n",
       "      <td>361</td>\n",
       "      <td>1.23</td>\n",
       "      <td>214</td>\n",
       "      <td>5.55</td>\n",
       "      <td>968</td>\n",
       "      <td>11.72</td>\n",
       "      <td>2044</td>\n",
       "      <td>5.84</td>\n",
       "      <td>1019</td>\n",
       "      <td>4.03</td>\n",
       "      <td>703</td>\n",
       "      <td>2.24</td>\n",
       "      <td>390</td>\n",
       "      <td>25.53</td>\n",
       "      <td>4452</td>\n",
       "      <td>0.46</td>\n",
       "      <td>81</td>\n",
       "      <td>0.0</td>\n",
       "      <td>0</td>\n",
       "      <td>0.0</td>\n",
       "      <td>0</td>\n",
       "      <td>0.0</td>\n",
       "      <td>0</td>\n",
       "      <td>0.36</td>\n",
       "      <td>62</td>\n",
       "    </tr>\n",
       "    <tr>\n",
       "      <th>DIABETES MELLITUS, NO ESPECIFICADA SIN MENCION DE COMPLICACION</th>\n",
       "      <th>E149</th>\n",
       "      <td>2808</td>\n",
       "      <td>5.59</td>\n",
       "      <td>157</td>\n",
       "      <td>1.07</td>\n",
       "      <td>30</td>\n",
       "      <td>2.60</td>\n",
       "      <td>73</td>\n",
       "      <td>0.68</td>\n",
       "      <td>19</td>\n",
       "      <td>6.16</td>\n",
       "      <td>173</td>\n",
       "      <td>13.35</td>\n",
       "      <td>375</td>\n",
       "      <td>9.44</td>\n",
       "      <td>265</td>\n",
       "      <td>5.31</td>\n",
       "      <td>149</td>\n",
       "      <td>4.95</td>\n",
       "      <td>139</td>\n",
       "      <td>24.64</td>\n",
       "      <td>692</td>\n",
       "      <td>0.53</td>\n",
       "      <td>15</td>\n",
       "      <td>0.0</td>\n",
       "      <td>0</td>\n",
       "      <td>0.0</td>\n",
       "      <td>0</td>\n",
       "      <td>0.0</td>\n",
       "      <td>0</td>\n",
       "      <td>0.46</td>\n",
       "      <td>13</td>\n",
       "    </tr>\n",
       "  </tbody>\n",
       "</table>\n",
       "</div>"
      ],
      "text/plain": [
       "                                                          Nombre acido        \\\n",
       "                                                           count     %   sum   \n",
       "Nombre                                             Código                      \n",
       "SIFILIS PRECOZ                                     A51      3685  0.41    15   \n",
       "SIFILIS LATENTE, NO ESPECIFICADA COMO PRECOZ O ... A530    60587  0.92   558   \n",
       "SIFILIS, NO ESPECIFICADA                           A539    49378  1.70   838   \n",
       "DIABETES MELLITUSINSULINODEPENDIENTE SIN MENCIO... E109     6278  6.90   433   \n",
       "DIABETES MELLITUS NOINSULINODEPENDIENTE SIN MEN... E119    17439  6.46  1126   \n",
       "DIABETES MELLITUS, NO ESPECIFICADA SIN MENCION ... E149     2808  5.59   157   \n",
       "\n",
       "                                                          ampolla      carbo  \\\n",
       "                                                                %  sum     %   \n",
       "Nombre                                             Código                      \n",
       "SIFILIS PRECOZ                                     A51       0.24    9  3.88   \n",
       "SIFILIS LATENTE, NO ESPECIFICADA COMO PRECOZ O ... A530      0.38  233  3.26   \n",
       "SIFILIS, NO ESPECIFICADA                           A539      0.95  471  2.22   \n",
       "DIABETES MELLITUSINSULINODEPENDIENTE SIN MENCIO... E109      2.10  132  3.17   \n",
       "DIABETES MELLITUS NOINSULINODEPENDIENTE SIN MEN... E119      1.29  225  2.07   \n",
       "DIABETES MELLITUS, NO ESPECIFICADA SIN MENCION ... E149      1.07   30  2.60   \n",
       "\n",
       "                                                                dependiente  \\\n",
       "                                                            sum           %   \n",
       "Nombre                                             Código                     \n",
       "SIFILIS PRECOZ                                     A51      143        1.22   \n",
       "SIFILIS LATENTE, NO ESPECIFICADA COMO PRECOZ O ... A530    1973        1.44   \n",
       "SIFILIS, NO ESPECIFICADA                           A539    1094        0.74   \n",
       "DIABETES MELLITUSINSULINODEPENDIENTE SIN MENCIO... E109     199        0.67   \n",
       "DIABETES MELLITUS NOINSULINODEPENDIENTE SIN MEN... E119     361        1.23   \n",
       "DIABETES MELLITUS, NO ESPECIFICADA SIN MENCION ... E149      73        0.68   \n",
       "\n",
       "                                                               diabet       \\\n",
       "                                                           sum      %  sum   \n",
       "Nombre                                             Código                    \n",
       "SIFILIS PRECOZ                                     A51      45   0.14    5   \n",
       "SIFILIS LATENTE, NO ESPECIFICADA COMO PRECOZ O ... A530    875   0.26  160   \n",
       "SIFILIS, NO ESPECIFICADA                           A539    365   0.28  136   \n",
       "DIABETES MELLITUSINSULINODEPENDIENTE SIN MENCIO... E109     42   5.16  324   \n",
       "DIABETES MELLITUS NOINSULINODEPENDIENTE SIN MEN... E119    214   5.55  968   \n",
       "DIABETES MELLITUS, NO ESPECIFICADA SIN MENCION ... E149     19   6.16  173   \n",
       "\n",
       "                                                            diet        gluco  \\\n",
       "                                                               %   sum      %   \n",
       "Nombre                                             Código                       \n",
       "SIFILIS PRECOZ                                     A51      7.54   278   1.03   \n",
       "SIFILIS LATENTE, NO ESPECIFICADA COMO PRECOZ O ... A530     8.38  5078   1.08   \n",
       "SIFILIS, NO ESPECIFICADA                           A539     7.71  3809   1.04   \n",
       "DIABETES MELLITUSINSULINODEPENDIENTE SIN MENCIO... E109    13.35   838  12.68   \n",
       "DIABETES MELLITUS NOINSULINODEPENDIENTE SIN MEN... E119    11.72  2044   5.84   \n",
       "DIABETES MELLITUS, NO ESPECIFICADA SIN MENCION ... E149    13.35   375   9.44   \n",
       "\n",
       "                                                                insulin        \\\n",
       "                                                            sum       %   sum   \n",
       "Nombre                                             Código                       \n",
       "SIFILIS PRECOZ                                     A51       38    0.03     1   \n",
       "SIFILIS LATENTE, NO ESPECIFICADA COMO PRECOZ O ... A530     652    0.09    56   \n",
       "SIFILIS, NO ESPECIFICADA                           A539     512    0.14    67   \n",
       "DIABETES MELLITUSINSULINODEPENDIENTE SIN MENCIO... E109     796   20.56  1291   \n",
       "DIABETES MELLITUS NOINSULINODEPENDIENTE SIN MEN... E119    1019    4.03   703   \n",
       "DIABETES MELLITUS, NO ESPECIFICADA SIN MENCION ... E149     265    5.31   149   \n",
       "\n",
       "                                                           keto       nutri  \\\n",
       "                                                              %  sum      %   \n",
       "Nombre                                             Código                     \n",
       "SIFILIS PRECOZ                                     A51     0.08    3  26.92   \n",
       "SIFILIS LATENTE, NO ESPECIFICADA COMO PRECOZ O ... A530    0.07   42  26.07   \n",
       "SIFILIS, NO ESPECIFICADA                           A539    0.06   29  29.77   \n",
       "DIABETES MELLITUSINSULINODEPENDIENTE SIN MENCIO... E109    2.20  138  34.12   \n",
       "DIABETES MELLITUS NOINSULINODEPENDIENTE SIN MEN... E119    2.24  390  25.53   \n",
       "DIABETES MELLITUS, NO ESPECIFICADA SIN MENCION ... E149    4.95  139  24.64   \n",
       "\n",
       "                                                                  obes       \\\n",
       "                                                             sum     %  sum   \n",
       "Nombre                                             Código                     \n",
       "SIFILIS PRECOZ                                     A51       992  0.73   27   \n",
       "SIFILIS LATENTE, NO ESPECIFICADA COMO PRECOZ O ... A530    15795  0.19  113   \n",
       "SIFILIS, NO ESPECIFICADA                           A539    14701  0.18   88   \n",
       "DIABETES MELLITUSINSULINODEPENDIENTE SIN MENCIO... E109     2142  0.40   25   \n",
       "DIABETES MELLITUS NOINSULINODEPENDIENTE SIN MEN... E119     4452  0.46   81   \n",
       "DIABETES MELLITUS, NO ESPECIFICADA SIN MENCION ... E149      692  0.53   15   \n",
       "\n",
       "                                                          polidipsia      \\\n",
       "                                                                   % sum   \n",
       "Nombre                                             Código                  \n",
       "SIFILIS PRECOZ                                     A51           0.0   0   \n",
       "SIFILIS LATENTE, NO ESPECIFICADA COMO PRECOZ O ... A530          0.0   1   \n",
       "SIFILIS, NO ESPECIFICADA                           A539          0.0   0   \n",
       "DIABETES MELLITUSINSULINODEPENDIENTE SIN MENCIO... E109          0.0   0   \n",
       "DIABETES MELLITUS NOINSULINODEPENDIENTE SIN MEN... E119          0.0   0   \n",
       "DIABETES MELLITUS, NO ESPECIFICADA SIN MENCION ... E149          0.0   0   \n",
       "\n",
       "                                                          polifagia      \\\n",
       "                                                                  % sum   \n",
       "Nombre                                             Código                 \n",
       "SIFILIS PRECOZ                                     A51          0.0   0   \n",
       "SIFILIS LATENTE, NO ESPECIFICADA COMO PRECOZ O ... A530         0.0   2   \n",
       "SIFILIS, NO ESPECIFICADA                           A539         0.0   0   \n",
       "DIABETES MELLITUSINSULINODEPENDIENTE SIN MENCIO... E109         0.0   0   \n",
       "DIABETES MELLITUS NOINSULINODEPENDIENTE SIN MEN... E119         0.0   0   \n",
       "DIABETES MELLITUS, NO ESPECIFICADA SIN MENCION ... E149         0.0   0   \n",
       "\n",
       "                                                          poliurea      \\\n",
       "                                                                 % sum   \n",
       "Nombre                                             Código                \n",
       "SIFILIS PRECOZ                                     A51         0.0   0   \n",
       "SIFILIS LATENTE, NO ESPECIFICADA COMO PRECOZ O ... A530        0.0   0   \n",
       "SIFILIS, NO ESPECIFICADA                           A539        0.0   0   \n",
       "DIABETES MELLITUSINSULINODEPENDIENTE SIN MENCIO... E109        0.0   0   \n",
       "DIABETES MELLITUS NOINSULINODEPENDIENTE SIN MEN... E119        0.0   0   \n",
       "DIABETES MELLITUS, NO ESPECIFICADA SIN MENCION ... E149        0.0   0   \n",
       "\n",
       "                                                          sobrepeso       \n",
       "                                                                  %  sum  \n",
       "Nombre                                             Código                 \n",
       "SIFILIS PRECOZ                                     A51         0.14    5  \n",
       "SIFILIS LATENTE, NO ESPECIFICADA COMO PRECOZ O ... A530        0.23  139  \n",
       "SIFILIS, NO ESPECIFICADA                           A539        0.31  152  \n",
       "DIABETES MELLITUSINSULINODEPENDIENTE SIN MENCIO... E109        0.11    7  \n",
       "DIABETES MELLITUS NOINSULINODEPENDIENTE SIN MEN... E119        0.36   62  \n",
       "DIABETES MELLITUS, NO ESPECIFICADA SIN MENCION ... E149        0.46   13  "
      ]
     },
     "metadata": {},
     "output_type": "display_data"
    }
   ],
   "source": [
    "notas_eda = notas.copy()\n",
    "words_to_check = [\n",
    "    'ampolla',\n",
    "    'diabet',\n",
    "    'insulin',\n",
    "    'gluco',\n",
    "    'carbo',\n",
    "    'keto',\n",
    "    'acido',\n",
    "    'nutri',\n",
    "    'diet',\n",
    "    'dependiente',\n",
    "    'obes',\n",
    "    'sobrepeso',\n",
    "    'polifagia',\n",
    "    'polidipsia',\n",
    "    'poliurea',\n",
    "    ]\n",
    "aggregate_dict = {}\n",
    "for word in words_to_check:\n",
    "    notas_eda[word] = notas_eda.Plan.str.lower().str.count(word.lower())\n",
    "    notas_eda.loc[notas_eda[word] > 1, word] = 1\n",
    "    aggregate_dict[word] = ['sum']\n",
    "aggregate_dict['Nombre'] = ['count']\n",
    "notas_eda = notas_eda.groupby(['Nombre', 'Código'])[words_to_check + ['Nombre']].aggregate(aggregate_dict)\n",
    "\n",
    "for word in words_to_check:\n",
    "    notas_eda.loc(axis=1)[word, '%'] = (notas_eda.loc(axis=1)[word, 'sum'] / notas_eda.loc(axis=1)['Nombre', 'count'] * 100).round(2)\n",
    "notas_eda.sort_index(axis=1).sort_values(by=['Código'])\n",
    "with pd.option_context('display.max_columns', None):\n",
    "    display(notas_eda.sort_index(axis=1).sort_values(by=['Código']))"
   ]
  },
  {
   "cell_type": "markdown",
   "metadata": {},
   "source": [
    "- There does not seem to be many mentions of chancre (chancro) or sore (llaga/placa)\n",
    "- Ulcer (ulcera) does seem to be more common in patients with diabetes, although it still is negligible.\n",
    "- Saber (sable) seems to be able to help differentiate for all but 1 types of syphilis against diabetes.\n",
    "- asintoma seems to be useful for separating other secondary syphilis from the rest of the diseases.\n",
    "- There does seem to be a significant difference between the times the word preservative (preservativo) is used between Syphilis and Diabetes.\n",
    "- insulin seems like a good choice for separating E109 from the rest.\n",
    "- acido, keto and diet seem to also help differentiate between syphilis and diabetes.\n",
    "- Using 'diabet' and 'sifili' could help differentiate between the diagnoses of Diabetes and Syphilis."
   ]
  },
  {
   "cell_type": "code",
   "execution_count": 12,
   "metadata": {},
   "outputs": [
    {
     "data": {
      "text/html": [
       "<div>\n",
       "<style scoped>\n",
       "    .dataframe tbody tr th:only-of-type {\n",
       "        vertical-align: middle;\n",
       "    }\n",
       "\n",
       "    .dataframe tbody tr th {\n",
       "        vertical-align: top;\n",
       "    }\n",
       "\n",
       "    .dataframe thead th {\n",
       "        text-align: right;\n",
       "    }\n",
       "</style>\n",
       "<table border=\"1\" class=\"dataframe\">\n",
       "  <thead>\n",
       "    <tr style=\"text-align: right;\">\n",
       "      <th></th>\n",
       "      <th>IDRecord</th>\n",
       "      <th>Código</th>\n",
       "      <th>Nombre</th>\n",
       "      <th>Tipo</th>\n",
       "      <th>Plan</th>\n",
       "      <th>acido</th>\n",
       "      <th>antibio</th>\n",
       "      <th>asintoma</th>\n",
       "      <th>diabet</th>\n",
       "      <th>diet</th>\n",
       "      <th>gluco</th>\n",
       "      <th>insulin</th>\n",
       "      <th>keto</th>\n",
       "      <th>penici</th>\n",
       "      <th>preservativo</th>\n",
       "      <th>sable</th>\n",
       "      <th>sifili</th>\n",
       "      <th>test_reloj_orden</th>\n",
       "    </tr>\n",
       "  </thead>\n",
       "  <tbody>\n",
       "    <tr>\n",
       "      <th>0</th>\n",
       "      <td>44600.0</td>\n",
       "      <td>A539</td>\n",
       "      <td>SIFILIS, NO ESPECIFICADA</td>\n",
       "      <td>Confirmado Repetido</td>\n",
       "      <td>- ORDENO TAR ABC +3TC +ATV/r  - PROFILAXIS - F...</td>\n",
       "      <td>0</td>\n",
       "      <td>0</td>\n",
       "      <td>0</td>\n",
       "      <td>0</td>\n",
       "      <td>0</td>\n",
       "      <td>0</td>\n",
       "      <td>0</td>\n",
       "      <td>0</td>\n",
       "      <td>0</td>\n",
       "      <td>1</td>\n",
       "      <td>0</td>\n",
       "      <td>0</td>\n",
       "      <td>0</td>\n",
       "    </tr>\n",
       "    <tr>\n",
       "      <th>1</th>\n",
       "      <td>45038.0</td>\n",
       "      <td>A530</td>\n",
       "      <td>SIFILIS LATENTE, NO ESPECIFICADA COMO PRECOZ O...</td>\n",
       "      <td>Confirmado Repetido</td>\n",
       "      <td>- TAF/FTC/EVG/C MIPRES 2 MESES 202006021580194...</td>\n",
       "      <td>0</td>\n",
       "      <td>0</td>\n",
       "      <td>0</td>\n",
       "      <td>0</td>\n",
       "      <td>0</td>\n",
       "      <td>0</td>\n",
       "      <td>0</td>\n",
       "      <td>0</td>\n",
       "      <td>0</td>\n",
       "      <td>0</td>\n",
       "      <td>0</td>\n",
       "      <td>0</td>\n",
       "      <td>0</td>\n",
       "    </tr>\n",
       "    <tr>\n",
       "      <th>2</th>\n",
       "      <td>40391.0</td>\n",
       "      <td>A530</td>\n",
       "      <td>SIFILIS LATENTE, NO ESPECIFICADA COMO PRECOZ O...</td>\n",
       "      <td>Confirmado Repetido</td>\n",
       "      <td>usuaria ve pertinente seguimiento dentro mes m...</td>\n",
       "      <td>0</td>\n",
       "      <td>0</td>\n",
       "      <td>0</td>\n",
       "      <td>0</td>\n",
       "      <td>0</td>\n",
       "      <td>0</td>\n",
       "      <td>0</td>\n",
       "      <td>0</td>\n",
       "      <td>0</td>\n",
       "      <td>0</td>\n",
       "      <td>0</td>\n",
       "      <td>0</td>\n",
       "      <td>0</td>\n",
       "    </tr>\n",
       "    <tr>\n",
       "      <th>3</th>\n",
       "      <td>106350.0</td>\n",
       "      <td>A530</td>\n",
       "      <td>SIFILIS LATENTE, NO ESPECIFICADA COMO PRECOZ O...</td>\n",
       "      <td>Confirmado Repetido</td>\n",
       "      <td>1. formula TAR (TDF/FTC+EFV)  2. S/S Paraclini...</td>\n",
       "      <td>0</td>\n",
       "      <td>0</td>\n",
       "      <td>0</td>\n",
       "      <td>0</td>\n",
       "      <td>0</td>\n",
       "      <td>0</td>\n",
       "      <td>0</td>\n",
       "      <td>0</td>\n",
       "      <td>0</td>\n",
       "      <td>0</td>\n",
       "      <td>0</td>\n",
       "      <td>0</td>\n",
       "      <td>0</td>\n",
       "    </tr>\n",
       "    <tr>\n",
       "      <th>4</th>\n",
       "      <td>105840.0</td>\n",
       "      <td>A530</td>\n",
       "      <td>SIFILIS LATENTE, NO ESPECIFICADA COMO PRECOZ O...</td>\n",
       "      <td>Confirmado Repetido</td>\n",
       "      <td>EDUCACION  brinda retroalimentacion relacion r...</td>\n",
       "      <td>0</td>\n",
       "      <td>0</td>\n",
       "      <td>0</td>\n",
       "      <td>0</td>\n",
       "      <td>0</td>\n",
       "      <td>0</td>\n",
       "      <td>0</td>\n",
       "      <td>0</td>\n",
       "      <td>0</td>\n",
       "      <td>1</td>\n",
       "      <td>0</td>\n",
       "      <td>0</td>\n",
       "      <td>0</td>\n",
       "    </tr>\n",
       "    <tr>\n",
       "      <th>5</th>\n",
       "      <td>188030.0</td>\n",
       "      <td>A539</td>\n",
       "      <td>SIFILIS, NO ESPECIFICADA</td>\n",
       "      <td>Confirmado Repetido</td>\n",
       "      <td>1. Continuar TAR : ABC/3TC+EFV.  2. Tomar TAR ...</td>\n",
       "      <td>0</td>\n",
       "      <td>0</td>\n",
       "      <td>0</td>\n",
       "      <td>0</td>\n",
       "      <td>0</td>\n",
       "      <td>0</td>\n",
       "      <td>0</td>\n",
       "      <td>0</td>\n",
       "      <td>0</td>\n",
       "      <td>2</td>\n",
       "      <td>0</td>\n",
       "      <td>0</td>\n",
       "      <td>0</td>\n",
       "    </tr>\n",
       "    <tr>\n",
       "      <th>6</th>\n",
       "      <td>41590.0</td>\n",
       "      <td>A539</td>\n",
       "      <td>SIFILIS, NO ESPECIFICADA</td>\n",
       "      <td>Confirmado Repetido</td>\n",
       "      <td>) continua manejo iniciado 19/02/2020 ABC/3TC/...</td>\n",
       "      <td>0</td>\n",
       "      <td>0</td>\n",
       "      <td>0</td>\n",
       "      <td>0</td>\n",
       "      <td>0</td>\n",
       "      <td>0</td>\n",
       "      <td>0</td>\n",
       "      <td>0</td>\n",
       "      <td>0</td>\n",
       "      <td>1</td>\n",
       "      <td>0</td>\n",
       "      <td>0</td>\n",
       "      <td>0</td>\n",
       "    </tr>\n",
       "    <tr>\n",
       "      <th>7</th>\n",
       "      <td>111487.0</td>\n",
       "      <td>A539</td>\n",
       "      <td>SIFILIS, NO ESPECIFICADA</td>\n",
       "      <td>Confirmado Repetido</td>\n",
       "      <td>Control segun frecuencias</td>\n",
       "      <td>0</td>\n",
       "      <td>0</td>\n",
       "      <td>0</td>\n",
       "      <td>0</td>\n",
       "      <td>0</td>\n",
       "      <td>0</td>\n",
       "      <td>0</td>\n",
       "      <td>0</td>\n",
       "      <td>0</td>\n",
       "      <td>0</td>\n",
       "      <td>0</td>\n",
       "      <td>0</td>\n",
       "      <td>0</td>\n",
       "    </tr>\n",
       "    <tr>\n",
       "      <th>8</th>\n",
       "      <td>69603.0</td>\n",
       "      <td>E119</td>\n",
       "      <td>DIABETES MELLITUS NOINSULINODEPENDIENTE SIN ME...</td>\n",
       "      <td>Confirmado Repetido</td>\n",
       "      <td>realiza control enfermeria 16 OCTUBRE 2020. As...</td>\n",
       "      <td>0</td>\n",
       "      <td>0</td>\n",
       "      <td>0</td>\n",
       "      <td>0</td>\n",
       "      <td>0</td>\n",
       "      <td>0</td>\n",
       "      <td>0</td>\n",
       "      <td>0</td>\n",
       "      <td>0</td>\n",
       "      <td>2</td>\n",
       "      <td>0</td>\n",
       "      <td>0</td>\n",
       "      <td>0</td>\n",
       "    </tr>\n",
       "    <tr>\n",
       "      <th>9</th>\n",
       "      <td>69563.0</td>\n",
       "      <td>A51</td>\n",
       "      <td>SIFILIS PRECOZ</td>\n",
       "      <td>Confirmado Repetido</td>\n",
       "      <td>1. TRATAMIENTO TDF/FTC/EFV  2. PROFILAXIS:3....</td>\n",
       "      <td>0</td>\n",
       "      <td>0</td>\n",
       "      <td>0</td>\n",
       "      <td>0</td>\n",
       "      <td>0</td>\n",
       "      <td>0</td>\n",
       "      <td>0</td>\n",
       "      <td>0</td>\n",
       "      <td>0</td>\n",
       "      <td>2</td>\n",
       "      <td>1</td>\n",
       "      <td>0</td>\n",
       "      <td>0</td>\n",
       "    </tr>\n",
       "  </tbody>\n",
       "</table>\n",
       "</div>"
      ],
      "text/plain": [
       "   IDRecord Código                                             Nombre  \\\n",
       "0   44600.0   A539                           SIFILIS, NO ESPECIFICADA   \n",
       "1   45038.0   A530  SIFILIS LATENTE, NO ESPECIFICADA COMO PRECOZ O...   \n",
       "2   40391.0   A530  SIFILIS LATENTE, NO ESPECIFICADA COMO PRECOZ O...   \n",
       "3  106350.0   A530  SIFILIS LATENTE, NO ESPECIFICADA COMO PRECOZ O...   \n",
       "4  105840.0   A530  SIFILIS LATENTE, NO ESPECIFICADA COMO PRECOZ O...   \n",
       "5  188030.0   A539                           SIFILIS, NO ESPECIFICADA   \n",
       "6   41590.0   A539                           SIFILIS, NO ESPECIFICADA   \n",
       "7  111487.0   A539                           SIFILIS, NO ESPECIFICADA   \n",
       "8   69603.0   E119  DIABETES MELLITUS NOINSULINODEPENDIENTE SIN ME...   \n",
       "9   69563.0    A51                                     SIFILIS PRECOZ   \n",
       "\n",
       "                  Tipo                                               Plan  \\\n",
       "0  Confirmado Repetido  - ORDENO TAR ABC +3TC +ATV/r  - PROFILAXIS - F...   \n",
       "1  Confirmado Repetido  - TAF/FTC/EVG/C MIPRES 2 MESES 202006021580194...   \n",
       "2  Confirmado Repetido  usuaria ve pertinente seguimiento dentro mes m...   \n",
       "3  Confirmado Repetido  1. formula TAR (TDF/FTC+EFV)  2. S/S Paraclini...   \n",
       "4  Confirmado Repetido  EDUCACION  brinda retroalimentacion relacion r...   \n",
       "5  Confirmado Repetido  1. Continuar TAR : ABC/3TC+EFV.  2. Tomar TAR ...   \n",
       "6  Confirmado Repetido  ) continua manejo iniciado 19/02/2020 ABC/3TC/...   \n",
       "7  Confirmado Repetido                         Control segun frecuencias    \n",
       "8  Confirmado Repetido  realiza control enfermeria 16 OCTUBRE 2020. As...   \n",
       "9  Confirmado Repetido    1. TRATAMIENTO TDF/FTC/EFV  2. PROFILAXIS:3....   \n",
       "\n",
       "   acido  antibio  asintoma  diabet  diet  gluco  insulin  keto  penici  \\\n",
       "0      0        0         0       0     0      0        0     0       0   \n",
       "1      0        0         0       0     0      0        0     0       0   \n",
       "2      0        0         0       0     0      0        0     0       0   \n",
       "3      0        0         0       0     0      0        0     0       0   \n",
       "4      0        0         0       0     0      0        0     0       0   \n",
       "5      0        0         0       0     0      0        0     0       0   \n",
       "6      0        0         0       0     0      0        0     0       0   \n",
       "7      0        0         0       0     0      0        0     0       0   \n",
       "8      0        0         0       0     0      0        0     0       0   \n",
       "9      0        0         0       0     0      0        0     0       0   \n",
       "\n",
       "   preservativo  sable  sifili  test_reloj_orden  \n",
       "0             1      0       0                 0  \n",
       "1             0      0       0                 0  \n",
       "2             0      0       0                 0  \n",
       "3             0      0       0                 0  \n",
       "4             1      0       0                 0  \n",
       "5             2      0       0                 0  \n",
       "6             1      0       0                 0  \n",
       "7             0      0       0                 0  \n",
       "8             2      0       0                 0  \n",
       "9             2      1       0                 0  "
      ]
     },
     "metadata": {},
     "output_type": "display_data"
    }
   ],
   "source": [
    "from utils.preprocessing_utils import word_count_feat_engineering\n",
    "\n",
    "notas = word_count_feat_engineering(notas)\n",
    "with pd.option_context('display.max_columns', None):\n",
    "    display(notas.head(10))"
   ]
  },
  {
   "cell_type": "markdown",
   "metadata": {},
   "source": [
    "## Lab results analysis"
   ]
  },
  {
   "cell_type": "markdown",
   "metadata": {},
   "source": []
  },
  {
   "cell_type": "code",
   "execution_count": 53,
   "metadata": {},
   "outputs": [
    {
     "data": {
      "text/html": [
       "<div>\n",
       "<style scoped>\n",
       "    .dataframe tbody tr th:only-of-type {\n",
       "        vertical-align: middle;\n",
       "    }\n",
       "\n",
       "    .dataframe tbody tr th {\n",
       "        vertical-align: top;\n",
       "    }\n",
       "\n",
       "    .dataframe thead th {\n",
       "        text-align: right;\n",
       "    }\n",
       "</style>\n",
       "<table border=\"1\" class=\"dataframe\">\n",
       "  <thead>\n",
       "    <tr style=\"text-align: right;\">\n",
       "      <th></th>\n",
       "      <th>IDRecord</th>\n",
       "      <th>Codigo</th>\n",
       "      <th>Nombre_x</th>\n",
       "      <th>Fecha</th>\n",
       "      <th>Valor</th>\n",
       "      <th>Código</th>\n",
       "      <th>Nombre_y</th>\n",
       "      <th>Tipo</th>\n",
       "      <th>Plan</th>\n",
       "    </tr>\n",
       "  </thead>\n",
       "  <tbody>\n",
       "    <tr>\n",
       "      <th>0</th>\n",
       "      <td>95627</td>\n",
       "      <td>902045</td>\n",
       "      <td>TIEMPO DE PROTROMBINA (PT)</td>\n",
       "      <td>22/02/2022 18:43</td>\n",
       "      <td>NaN</td>\n",
       "      <td>A530</td>\n",
       "      <td>SIFILIS LATENTE, NO ESPECIFICADA COMO PRECOZ O...</td>\n",
       "      <td>Confirmado Repetido</td>\n",
       "      <td>VER ANALISIS</td>\n",
       "    </tr>\n",
       "    <tr>\n",
       "      <th>1</th>\n",
       "      <td>95627</td>\n",
       "      <td>902045</td>\n",
       "      <td>TIEMPO DE PROTROMBINA (PT)</td>\n",
       "      <td>22/02/2022 18:43</td>\n",
       "      <td>NaN</td>\n",
       "      <td>A530</td>\n",
       "      <td>SIFILIS LATENTE, NO ESPECIFICADA COMO PRECOZ O...</td>\n",
       "      <td>Confirmado Repetido</td>\n",
       "      <td>NOTIFICAR TIEMPO FECHAS POSIBLE VIAJE CUIDAD B...</td>\n",
       "    </tr>\n",
       "    <tr>\n",
       "      <th>2</th>\n",
       "      <td>95627</td>\n",
       "      <td>902045</td>\n",
       "      <td>TIEMPO DE PROTROMBINA (PT)</td>\n",
       "      <td>22/02/2022 18:43</td>\n",
       "      <td>NaN</td>\n",
       "      <td>A530</td>\n",
       "      <td>SIFILIS LATENTE, NO ESPECIFICADA COMO PRECOZ O...</td>\n",
       "      <td>Confirmado Repetido</td>\n",
       "      <td>- TDF/FTC+DTG  - CONTROL HEP C (EPCLUSA)  - PE...</td>\n",
       "    </tr>\n",
       "    <tr>\n",
       "      <th>3</th>\n",
       "      <td>95627</td>\n",
       "      <td>902045</td>\n",
       "      <td>TIEMPO DE PROTROMBINA (PT)</td>\n",
       "      <td>22/02/2022 18:43</td>\n",
       "      <td>NaN</td>\n",
       "      <td>A530</td>\n",
       "      <td>SIFILIS LATENTE, NO ESPECIFICADA COMO PRECOZ O...</td>\n",
       "      <td>Confirmado Repetido</td>\n",
       "      <td>PLAN  ENFERMERIA    DETECTA CANCER ANAL?  SIGN...</td>\n",
       "    </tr>\n",
       "    <tr>\n",
       "      <th>4</th>\n",
       "      <td>95627</td>\n",
       "      <td>902045</td>\n",
       "      <td>TIEMPO DE PROTROMBINA (PT)</td>\n",
       "      <td>22/02/2022 18:43</td>\n",
       "      <td>NaN</td>\n",
       "      <td>A530</td>\n",
       "      <td>SIFILIS LATENTE, NO ESPECIFICADA COMO PRECOZ O...</td>\n",
       "      <td>Confirmado Repetido</td>\n",
       "      <td>Plan tratamiento  PROXIMO CONTROL : Medico p...</td>\n",
       "    </tr>\n",
       "    <tr>\n",
       "      <th>...</th>\n",
       "      <td>...</td>\n",
       "      <td>...</td>\n",
       "      <td>...</td>\n",
       "      <td>...</td>\n",
       "      <td>...</td>\n",
       "      <td>...</td>\n",
       "      <td>...</td>\n",
       "      <td>...</td>\n",
       "      <td>...</td>\n",
       "    </tr>\n",
       "    <tr>\n",
       "      <th>5055868</th>\n",
       "      <td>39382</td>\n",
       "      <td>898034</td>\n",
       "      <td>ESTUDIO DE COLORACIÓN BÁSICA EN CITOLOGÍA ANAL</td>\n",
       "      <td>8/01/2020 0:00</td>\n",
       "      <td>ASCUS</td>\n",
       "      <td>A530</td>\n",
       "      <td>SIFILIS LATENTE, NO ESPECIFICADA COMO PRECOZ O...</td>\n",
       "      <td>Confirmado Repetido</td>\n",
       "      <td>TRATAMIENTO ARV: IGUAL ABC/3TC/ATV/R  PROFILAX...</td>\n",
       "    </tr>\n",
       "    <tr>\n",
       "      <th>5055869</th>\n",
       "      <td>39382</td>\n",
       "      <td>898034</td>\n",
       "      <td>ESTUDIO DE COLORACIÓN BÁSICA EN CITOLOGÍA ANAL</td>\n",
       "      <td>8/01/2020 0:00</td>\n",
       "      <td>ASCUS</td>\n",
       "      <td>A530</td>\n",
       "      <td>SIFILIS LATENTE, NO ESPECIFICADA COMO PRECOZ O...</td>\n",
       "      <td>Confirmado Repetido</td>\n",
       "      <td>CITA CUMPLIMIENTO FRECUENCIAS 1MESES.  APLICO ...</td>\n",
       "    </tr>\n",
       "    <tr>\n",
       "      <th>5055870</th>\n",
       "      <td>121300</td>\n",
       "      <td>902209-02</td>\n",
       "      <td>RECUENTO DE PLAQUETAS</td>\n",
       "      <td>23/08/2021 0:00</td>\n",
       "      <td>182000</td>\n",
       "      <td>A530</td>\n",
       "      <td>SIFILIS LATENTE, NO ESPECIFICADA COMO PRECOZ O...</td>\n",
       "      <td>Confirmado Repetido</td>\n",
       "      <td>tarv abacavir + lamivudina 1 cada 24 horas  ef...</td>\n",
       "    </tr>\n",
       "    <tr>\n",
       "      <th>5055871</th>\n",
       "      <td>121300</td>\n",
       "      <td>902209-02</td>\n",
       "      <td>RECUENTO DE PLAQUETAS</td>\n",
       "      <td>23/08/2021 0:00</td>\n",
       "      <td>182000</td>\n",
       "      <td>A530</td>\n",
       "      <td>SIFILIS LATENTE, NO ESPECIFICADA COMO PRECOZ O...</td>\n",
       "      <td>Confirmado Repetido</td>\n",
       "      <td>qudaria terapia abacavir + lamivudina 1 cada 2...</td>\n",
       "    </tr>\n",
       "    <tr>\n",
       "      <th>5055872</th>\n",
       "      <td>121300</td>\n",
       "      <td>902209-02</td>\n",
       "      <td>RECUENTO DE PLAQUETAS</td>\n",
       "      <td>23/08/2021 0:00</td>\n",
       "      <td>182000</td>\n",
       "      <td>A530</td>\n",
       "      <td>SIFILIS LATENTE, NO ESPECIFICADA COMO PRECOZ O...</td>\n",
       "      <td>Confirmado Repetido</td>\n",
       "      <td>continua TAR TDF/FTC/EFV  Profilaxis TSM fluco...</td>\n",
       "    </tr>\n",
       "  </tbody>\n",
       "</table>\n",
       "<p>5055873 rows × 9 columns</p>\n",
       "</div>"
      ],
      "text/plain": [
       "         IDRecord     Codigo                                         Nombre_x  \\\n",
       "0           95627     902045                       TIEMPO DE PROTROMBINA (PT)   \n",
       "1           95627     902045                       TIEMPO DE PROTROMBINA (PT)   \n",
       "2           95627     902045                       TIEMPO DE PROTROMBINA (PT)   \n",
       "3           95627     902045                       TIEMPO DE PROTROMBINA (PT)   \n",
       "4           95627     902045                       TIEMPO DE PROTROMBINA (PT)   \n",
       "...           ...        ...                                              ...   \n",
       "5055868     39382     898034  ESTUDIO DE COLORACIÓN BÁSICA EN CITOLOGÍA ANAL    \n",
       "5055869     39382     898034  ESTUDIO DE COLORACIÓN BÁSICA EN CITOLOGÍA ANAL    \n",
       "5055870    121300  902209-02                            RECUENTO DE PLAQUETAS   \n",
       "5055871    121300  902209-02                            RECUENTO DE PLAQUETAS   \n",
       "5055872    121300  902209-02                            RECUENTO DE PLAQUETAS   \n",
       "\n",
       "                    Fecha   Valor Código  \\\n",
       "0        22/02/2022 18:43     NaN   A530   \n",
       "1        22/02/2022 18:43     NaN   A530   \n",
       "2        22/02/2022 18:43     NaN   A530   \n",
       "3        22/02/2022 18:43     NaN   A530   \n",
       "4        22/02/2022 18:43     NaN   A530   \n",
       "...                   ...     ...    ...   \n",
       "5055868    8/01/2020 0:00   ASCUS   A530   \n",
       "5055869    8/01/2020 0:00   ASCUS   A530   \n",
       "5055870   23/08/2021 0:00  182000   A530   \n",
       "5055871   23/08/2021 0:00  182000   A530   \n",
       "5055872   23/08/2021 0:00  182000   A530   \n",
       "\n",
       "                                                  Nombre_y  \\\n",
       "0        SIFILIS LATENTE, NO ESPECIFICADA COMO PRECOZ O...   \n",
       "1        SIFILIS LATENTE, NO ESPECIFICADA COMO PRECOZ O...   \n",
       "2        SIFILIS LATENTE, NO ESPECIFICADA COMO PRECOZ O...   \n",
       "3        SIFILIS LATENTE, NO ESPECIFICADA COMO PRECOZ O...   \n",
       "4        SIFILIS LATENTE, NO ESPECIFICADA COMO PRECOZ O...   \n",
       "...                                                    ...   \n",
       "5055868  SIFILIS LATENTE, NO ESPECIFICADA COMO PRECOZ O...   \n",
       "5055869  SIFILIS LATENTE, NO ESPECIFICADA COMO PRECOZ O...   \n",
       "5055870  SIFILIS LATENTE, NO ESPECIFICADA COMO PRECOZ O...   \n",
       "5055871  SIFILIS LATENTE, NO ESPECIFICADA COMO PRECOZ O...   \n",
       "5055872  SIFILIS LATENTE, NO ESPECIFICADA COMO PRECOZ O...   \n",
       "\n",
       "                        Tipo  \\\n",
       "0        Confirmado Repetido   \n",
       "1        Confirmado Repetido   \n",
       "2        Confirmado Repetido   \n",
       "3        Confirmado Repetido   \n",
       "4        Confirmado Repetido   \n",
       "...                      ...   \n",
       "5055868  Confirmado Repetido   \n",
       "5055869  Confirmado Repetido   \n",
       "5055870  Confirmado Repetido   \n",
       "5055871  Confirmado Repetido   \n",
       "5055872  Confirmado Repetido   \n",
       "\n",
       "                                                      Plan  \n",
       "0                                             VER ANALISIS  \n",
       "1        NOTIFICAR TIEMPO FECHAS POSIBLE VIAJE CUIDAD B...  \n",
       "2        - TDF/FTC+DTG  - CONTROL HEP C (EPCLUSA)  - PE...  \n",
       "3        PLAN  ENFERMERIA    DETECTA CANCER ANAL?  SIGN...  \n",
       "4          Plan tratamiento  PROXIMO CONTROL : Medico p...  \n",
       "...                                                    ...  \n",
       "5055868  TRATAMIENTO ARV: IGUAL ABC/3TC/ATV/R  PROFILAX...  \n",
       "5055869  CITA CUMPLIMIENTO FRECUENCIAS 1MESES.  APLICO ...  \n",
       "5055870  tarv abacavir + lamivudina 1 cada 24 horas  ef...  \n",
       "5055871  qudaria terapia abacavir + lamivudina 1 cada 2...  \n",
       "5055872  continua TAR TDF/FTC/EFV  Profilaxis TSM fluco...  \n",
       "\n",
       "[5055873 rows x 9 columns]"
      ]
     },
     "execution_count": 53,
     "metadata": {},
     "output_type": "execute_result"
    }
   ],
   "source": [
    "merged_lab"
   ]
  },
  {
   "cell_type": "code",
   "execution_count": 71,
   "metadata": {},
   "outputs": [],
   "source": [
    "merged_labs = merged_lab.groupby(['IDRecord', 'Nombre_lab'])\n",
    "# merged_labs[merged_labs.Codigo > 1]"
   ]
  },
  {
   "cell_type": "code",
   "execution_count": 108,
   "metadata": {},
   "outputs": [
    {
     "data": {
      "text/html": [
       "<div>\n",
       "<style scoped>\n",
       "    .dataframe tbody tr th:only-of-type {\n",
       "        vertical-align: middle;\n",
       "    }\n",
       "\n",
       "    .dataframe tbody tr th {\n",
       "        vertical-align: top;\n",
       "    }\n",
       "\n",
       "    .dataframe thead th {\n",
       "        text-align: right;\n",
       "    }\n",
       "</style>\n",
       "<table border=\"1\" class=\"dataframe\">\n",
       "  <thead>\n",
       "    <tr style=\"text-align: right;\">\n",
       "      <th></th>\n",
       "      <th>IDRecord</th>\n",
       "      <th>Nombre_lab</th>\n",
       "      <th>Valor</th>\n",
       "      <th>lab_count</th>\n",
       "    </tr>\n",
       "  </thead>\n",
       "  <tbody>\n",
       "    <tr>\n",
       "      <th>0</th>\n",
       "      <td>5</td>\n",
       "      <td>CALCIO POR COLORIMETRÍA</td>\n",
       "      <td>8.00</td>\n",
       "      <td>1</td>\n",
       "    </tr>\n",
       "    <tr>\n",
       "      <th>1</th>\n",
       "      <td>497</td>\n",
       "      <td>CREATININA</td>\n",
       "      <td>0.63</td>\n",
       "      <td>100</td>\n",
       "    </tr>\n",
       "    <tr>\n",
       "      <th>2</th>\n",
       "      <td>698</td>\n",
       "      <td>CREATININA</td>\n",
       "      <td>1.27</td>\n",
       "      <td>10</td>\n",
       "    </tr>\n",
       "    <tr>\n",
       "      <th>3</th>\n",
       "      <td>819</td>\n",
       "      <td>CREATININA</td>\n",
       "      <td>1.41</td>\n",
       "      <td>9</td>\n",
       "    </tr>\n",
       "    <tr>\n",
       "      <th>4</th>\n",
       "      <td>830</td>\n",
       "      <td>CREATININA</td>\n",
       "      <td>0.54</td>\n",
       "      <td>22</td>\n",
       "    </tr>\n",
       "    <tr>\n",
       "      <th>...</th>\n",
       "      <td>...</td>\n",
       "      <td>...</td>\n",
       "      <td>...</td>\n",
       "      <td>...</td>\n",
       "    </tr>\n",
       "    <tr>\n",
       "      <th>5947</th>\n",
       "      <td>204909</td>\n",
       "      <td>BILIRRUBINAS TOTAL Y DIRECTA</td>\n",
       "      <td>NaN</td>\n",
       "      <td>1</td>\n",
       "    </tr>\n",
       "    <tr>\n",
       "      <th>5948</th>\n",
       "      <td>204937</td>\n",
       "      <td>BILIRRUBINAS TOTAL Y DIRECTA</td>\n",
       "      <td>NaN</td>\n",
       "      <td>1</td>\n",
       "    </tr>\n",
       "    <tr>\n",
       "      <th>5949</th>\n",
       "      <td>205045</td>\n",
       "      <td>BILIRRUBINAS TOTAL Y DIRECTA</td>\n",
       "      <td>NaN</td>\n",
       "      <td>1</td>\n",
       "    </tr>\n",
       "    <tr>\n",
       "      <th>5950</th>\n",
       "      <td>205164</td>\n",
       "      <td>BILIRRUBINAS TOTAL Y DIRECTA</td>\n",
       "      <td>NaN</td>\n",
       "      <td>2</td>\n",
       "    </tr>\n",
       "    <tr>\n",
       "      <th>5951</th>\n",
       "      <td>206307</td>\n",
       "      <td>ALBUMINURIA EN ORINA PARCIAL</td>\n",
       "      <td>1331.00</td>\n",
       "      <td>1</td>\n",
       "    </tr>\n",
       "  </tbody>\n",
       "</table>\n",
       "<p>5952 rows × 4 columns</p>\n",
       "</div>"
      ],
      "text/plain": [
       "      IDRecord                    Nombre_lab    Valor  lab_count\n",
       "0            5      CALCIO POR COLORIMETRÍA      8.00          1\n",
       "1          497                    CREATININA     0.63        100\n",
       "2          698                    CREATININA     1.27         10\n",
       "3          819                    CREATININA     1.41          9\n",
       "4          830                    CREATININA     0.54         22\n",
       "...        ...                           ...      ...        ...\n",
       "5947    204909  BILIRRUBINAS TOTAL Y DIRECTA      NaN          1\n",
       "5948    204937  BILIRRUBINAS TOTAL Y DIRECTA      NaN          1\n",
       "5949    205045  BILIRRUBINAS TOTAL Y DIRECTA      NaN          1\n",
       "5950    205164  BILIRRUBINAS TOTAL Y DIRECTA      NaN          2\n",
       "5951    206307  ALBUMINURIA EN ORINA PARCIAL  1331.00          1\n",
       "\n",
       "[5952 rows x 4 columns]"
      ]
     },
     "execution_count": 108,
     "metadata": {},
     "output_type": "execute_result"
    }
   ],
   "source": [
    "import numpy as np\n",
    "merged_labs_agg = merged_labs.aggregate({'Valor':np.nanmean, 'Nombre_lab':'count'})\n",
    "merged_labs_agg = merged_labs_agg.rename(columns={'Nombre_lab':'lab_count'}).reset_index()\n",
    "\n",
    "merged_labs_agg.merge(merged_labs_agg.loc[merged_labs_agg.groupby('IDRecord').lab_count.idxmax(), ['IDRecord', 'Nombre_lab']])"
   ]
  }
 ],
 "metadata": {
  "kernelspec": {
   "display_name": "Python 3.8.10 64-bit",
   "language": "python",
   "name": "python3"
  },
  "language_info": {
   "codemirror_mode": {
    "name": "ipython",
    "version": 3
   },
   "file_extension": ".py",
   "mimetype": "text/x-python",
   "name": "python",
   "nbconvert_exporter": "python",
   "pygments_lexer": "ipython3",
   "version": "3.8.10"
  },
  "orig_nbformat": 4,
  "vscode": {
   "interpreter": {
    "hash": "31f2aee4e71d21fbe5cf8b01ff0e069b9275f58929596ceb00d14d90e3e16cd6"
   }
  }
 },
 "nbformat": 4,
 "nbformat_minor": 2
}
