{
  "cells": [
    {
      "cell_type": "code",
      "execution_count": null,
      "metadata": {
        "id": "NORIzmgtQ09d"
      },
      "outputs": [],
      "source": [
        "import json\n",
        "import shutil\n",
        "from pathlib import Path\n",
        "from typing import Optional\n",
        "\n",
        "import matplotlib.pyplot as plt\n",
        "import nltk\n",
        "import numpy as np\n",
        "import pandas as pd\n",
        "import plotly.express as px\n",
        "import requests\n",
        "import seaborn as sns\n",
        "from IPython.display import display\n",
        "\n",
        "from utils.preprocessing_utils import (clean_labs, clean_notas,\n",
        "                                       clean_sociodemograficos,\n",
        "                                       disease_tests_list)\n"
      ]
    },
    {
      "cell_type": "code",
      "execution_count": null,
      "metadata": {
        "id": "vLGZuojpQ09r"
      },
      "outputs": [],
      "source": [
        "sns.set_style(\"whitegrid\")\n",
        "sns.set_context(\"talk\")\n",
        "\n",
        "cleaning_dict_path = \"utils/lab_test_name_aggregation.json\""
      ]
    },
    {
      "cell_type": "code",
      "execution_count": null,
      "metadata": {
        "id": "liW2quiGQ09s"
      },
      "outputs": [],
      "source": [
        "def download_file(url: str, local_filename: Optional[str] = None):\n",
        "    if local_filename is None:\n",
        "        local_filename = url.split(\"/\")[-1]\n",
        "    with requests.get(url, stream=True) as r:\n",
        "        with open(local_filename, \"wb\") as f:\n",
        "            shutil.copyfileobj(r.raw, f)\n",
        "    return local_filename\n",
        "\n",
        "\n",
        "def unzip_file(path_to_zip_file: str, directory_to_extract_to: str):\n",
        "    shutil.unpack_archive(path_to_zip_file, directory_to_extract_to)\n"
      ]
    },
    {
      "cell_type": "code",
      "execution_count": null,
      "metadata": {
        "id": "jT_j4UgFQ09s"
      },
      "outputs": [],
      "source": [
        "# Check if the data already exists, if not, download and unzip it\n",
        "data_path = Path(\"data\")\n",
        "if (\n",
        "    not (data_path / \"laboratorios.csv\").is_file()\n",
        "    and not (data_path / \"notas.csv\").is_file()\n",
        "    and not (data_path / \"sociodemografico.csv\").is_file()\n",
        "):\n",
        "    data_zip = download_file(\n",
        "        \"https://www.dropbox.com/sh/xgs3kyvyn7lmr6p/AACB4eORnqsJpRsjv9-56eUHa?dl=1\",\n",
        "        \"data.zip\",\n",
        "    )\n",
        "    unzip_file(data_zip, data_path)\n",
        "    unzip_file(\n",
        "        data_path / \"Diana Buitrago - IQVIA_NLPmediaclNotes_DianaBuitrago.zip\",\n",
        "        data_path,\n",
        "    )\n"
      ]
    },
    {
      "cell_type": "code",
      "execution_count": null,
      "metadata": {
        "id": "bNFxCv0uQ09t"
      },
      "outputs": [],
      "source": [
        "# Check if the data already exists, if not, download and unzip it\n",
        "data_path = Path(\"data\")\n",
        "if (\n",
        "    not (data_path / \"laboratorios.csv\").is_file()\n",
        "    and not (data_path / \"notas.csv\").is_file()\n",
        "    and not (data_path / \"sociodemografico.csv\").is_file()\n",
        "):\n",
        "    data_zip = download_file(\n",
        "        \"https://www.dropbox.com/sh/xgs3kyvyn7lmr6p/AACB4eORnqsJpRsjv9-56eUHa?dl=1\",\n",
        "        \"data/data.zip\",\n",
        "    )\n",
        "    unzip_file(data_zip, data_path)\n",
        "    unzip_file(\n",
        "        data_path / \"Diana Buitrago - IQVIA_NLPmediaclNotes_DianaBuitrago.zip\",\n",
        "        data_path,\n",
        "    )\n"
      ]
    },
    {
      "cell_type": "markdown",
      "metadata": {
        "id": "cBYBM4HxQ09u"
      },
      "source": [
        "## Load Data"
      ]
    },
    {
      "cell_type": "code",
      "execution_count": null,
      "metadata": {
        "id": "Ftx0JpqfQ09w"
      },
      "outputs": [],
      "source": [
        "notas = pd.read_csv(str(data_path / \"notas.csv\"), sep=\";\")\n",
        "notas.head()"
      ]
    },
    {
      "cell_type": "code",
      "execution_count": null,
      "metadata": {
        "id": "1wWn2-YJQ090"
      },
      "outputs": [],
      "source": [
        "sociodemografico = pd.read_csv(str(data_path / \"sociodemografico.csv\"), sep=\";\")\n",
        "sociodemografico.head()"
      ]
    },
    {
      "cell_type": "code",
      "execution_count": null,
      "metadata": {
        "id": "I5zBfi3OQ091"
      },
      "outputs": [],
      "source": [
        "laboratorios = pd.read_csv(str(data_path / \"laboratorios.csv\"), sep=\";\")\n",
        "laboratorios.head()"
      ]
    },
    {
      "cell_type": "markdown",
      "metadata": {
        "id": "3clDzFRNQ091"
      },
      "source": [
        "### Cleanup based on initial EDA"
      ]
    },
    {
      "cell_type": "code",
      "execution_count": null,
      "metadata": {
        "id": "GxqTx67cQ092"
      },
      "outputs": [],
      "source": [
        "with open(cleaning_dict_path, \"r\") as in_file:\n",
        "    dict_tests = json.load(in_file)\n",
        "\n",
        "laboratorios = clean_labs(laboratorios, name_aggregation_dict=dict_tests)"
      ]
    },
    {
      "cell_type": "code",
      "execution_count": null,
      "metadata": {
        "id": "VQxWkNRXQ092"
      },
      "outputs": [],
      "source": [
        "notas = clean_notas(notas)\n",
        "notas.head()"
      ]
    },
    {
      "cell_type": "code",
      "execution_count": null,
      "metadata": {
        "id": "IK2mf4utQ093"
      },
      "outputs": [],
      "source": [
        "sociodemografico = clean_sociodemograficos(sociodemografico)\n",
        "sociodemografico.head()"
      ]
    },
    {
      "cell_type": "code",
      "execution_count": null,
      "metadata": {
        "id": "ruZ63KJbQ093"
      },
      "outputs": [],
      "source": [
        "merged = sociodemografico.merge(notas, how=\"inner\", on=\"IDRecord\")\n",
        "merged.head(5)"
      ]
    },
    {
      "cell_type": "markdown",
      "metadata": {
        "id": "AzZv9vToQ094"
      },
      "source": [
        "Merge the laboratory with the medical notes data, to get the disease tied to the Lab IDRecord. Use unduplicated data for the lab info so we don't get duplicated information"
      ]
    },
    {
      "cell_type": "code",
      "execution_count": null,
      "metadata": {
        "id": "Ph8VBJaNQ095"
      },
      "outputs": [],
      "source": [
        "merged_lab = laboratorios.merge(\n",
        "    notas[[\"IDRecord\", \"Código\", \"Nombre\"]].drop_duplicates(subset=\"IDRecord\"),\n",
        "    how=\"inner\",\n",
        "    on=\"IDRecord\",\n",
        "    suffixes=[\"_lab\", None],\n",
        ")\n",
        "merged_lab.head(5)"
      ]
    },
    {
      "cell_type": "markdown",
      "metadata": {
        "id": "FPH_5nkRQ095"
      },
      "source": [
        " # Sociodemographic vs medical notes EDA"
      ]
    },
    {
      "cell_type": "code",
      "execution_count": null,
      "metadata": {
        "id": "dWaI_nbiQ096"
      },
      "outputs": [],
      "source": [
        "# Define an auxiliary function\n",
        "def percentage_for_code(df, row):\n",
        "    count = row[\"Count\"]\n",
        "    total_for_code = df[df.Código == row[\"Código\"]].Count.sum()\n",
        "    return round(100 * count / total_for_code, 2)"
      ]
    },
    {
      "cell_type": "code",
      "execution_count": null,
      "metadata": {
        "id": "7vuQzLf5Q096"
      },
      "outputs": [],
      "source": [
        "var_of_interest = \"Edad\"\n",
        "\n",
        "df_analysis = (\n",
        "    merged[[\"Nombre\", \"Código\", var_of_interest]].value_counts().to_frame(\"Count\")\n",
        ")\n",
        "fig = px.histogram(\n",
        "    merged,\n",
        "    x=\"Edad\",\n",
        "    color=\"Código\",\n",
        "    labels={\n",
        "        \"count\": \"Count\",\n",
        "    },\n",
        ")\n",
        "fig.show()"
      ]
    },
    {
      "cell_type": "code",
      "execution_count": null,
      "metadata": {
        "id": "dT7EXg4nQ097"
      },
      "outputs": [],
      "source": [
        "var_of_interest = \"Edad\"\n",
        "\n",
        "fig = px.box(merged, y=\"Edad\", color=\"Código\", notched=True)\n",
        "fig.show()"
      ]
    },
    {
      "cell_type": "code",
      "execution_count": null,
      "metadata": {
        "id": "XGxS3ELuQ097"
      },
      "outputs": [],
      "source": [
        "var_of_interest = \"Genero\"\n",
        "\n",
        "df_analysis = (\n",
        "    merged[[\"Nombre\", \"Código\", var_of_interest]].value_counts().to_frame(\"Count\")\n",
        ")\n",
        "df_analysis[\"Percentage\"] = (df_analysis.Count / sum(df_analysis.Count) * 100).round(2)\n",
        "df_analysis.sort_values([\"Código\", \"Count\"], ascending=False)\n",
        "\n",
        "df_analysis = df_analysis.reset_index()\n",
        "df_analysis[\"Percentage\"] = df_analysis.apply(\n",
        "    lambda row: percentage_for_code(df_analysis, row), axis=1\n",
        ")\n",
        "df_analysis = df_analysis.sort_values([\"Código\"])\n",
        "\n",
        "fig = px.bar(\n",
        "    df_analysis,\n",
        "    x=\"Código\",\n",
        "    y=[\"Percentage\"],\n",
        "    color=var_of_interest,\n",
        "    # text=df_analysis['Percentage'].apply(lambda x: '{0:1.2f}%'.format(x)),\n",
        "    text=df_analysis[\"Count\"],\n",
        "    labels={\n",
        "        \"value\": \"Percentage\",\n",
        "    },\n",
        ")\n",
        "fig.show()\n"
      ]
    },
    {
      "cell_type": "code",
      "execution_count": null,
      "metadata": {
        "id": "gdGkj8fFQ098"
      },
      "outputs": [],
      "source": [
        "var_of_interest = \"GrupoEtnico\"\n",
        "\n",
        "df_analysis = (\n",
        "    merged[[\"Nombre\", \"Código\", var_of_interest]].value_counts().to_frame(\"Count\")\n",
        ")\n",
        "df_analysis[\"Percentage\"] = (df_analysis.Count / sum(df_analysis.Count) * 100).round(2)\n",
        "df_analysis.sort_values([\"Código\", \"Count\"], ascending=False)\n",
        "\n",
        "df_analysis = df_analysis.reset_index()\n",
        "df_analysis[\"Percentage\"] = df_analysis.apply(\n",
        "    lambda row: percentage_for_code(df_analysis, row), axis=1\n",
        ")\n",
        "df_analysis = df_analysis.sort_values([\"Código\"])\n",
        "\n",
        "fig = px.bar(\n",
        "    df_analysis,\n",
        "    x=\"Código\",\n",
        "    y=[\"Percentage\"],\n",
        "    color=var_of_interest,\n",
        "    # text=df_analysis['Percentage'].apply(lambda x: '{0:1.2f}%'.format(x)),\n",
        "    text=df_analysis[\"Count\"],\n",
        "    labels={\n",
        "        \"value\": \"Percentage\",\n",
        "    },\n",
        ")\n",
        "# fig.update_layout(height=400, width=800)\n",
        "# fig.update_layout(xaxis={'categoryorder':'total descending'})\n",
        "fig.show()\n"
      ]
    },
    {
      "cell_type": "code",
      "execution_count": null,
      "metadata": {
        "id": "H906XqpPQ098"
      },
      "outputs": [],
      "source": [
        "var_of_interest = \"AreaResidencial\"\n",
        "\n",
        "df_analysis = (\n",
        "    merged[[\"Nombre\", \"Código\", var_of_interest]].value_counts().to_frame(\"Count\")\n",
        ")\n",
        "df_analysis[\"Percentage\"] = (df_analysis.Count / sum(df_analysis.Count) * 100).round(2)\n",
        "df_analysis.sort_values([\"Código\", \"Count\"], ascending=False)\n",
        "\n",
        "df_analysis = df_analysis.reset_index()\n",
        "df_analysis[\"Percentage\"] = df_analysis.apply(\n",
        "    lambda row: percentage_for_code(df_analysis, row), axis=1\n",
        ")\n",
        "df_analysis = df_analysis.sort_values([\"Código\"])\n",
        "\n",
        "fig = px.bar(\n",
        "    df_analysis,\n",
        "    x=\"Código\",\n",
        "    y=[\"Percentage\"],\n",
        "    color=var_of_interest,\n",
        "    # text=df_analysis['Percentage'].apply(lambda x: '{0:1.2f}%'.format(x)),\n",
        "    text=df_analysis[\"Count\"],\n",
        "    labels={\n",
        "        \"value\": \"Percentage\",\n",
        "    },\n",
        ")\n",
        "# fig.update_layout(height=400, width=800)\n",
        "# fig.update_layout(xaxis={'categoryorder':'total descending'})\n",
        "fig.show()\n"
      ]
    },
    {
      "cell_type": "code",
      "execution_count": null,
      "metadata": {
        "id": "-kD5RcivQ099"
      },
      "outputs": [],
      "source": [
        "var_of_interest = \"EstadoCivil\"\n",
        "\n",
        "df_analysis = (\n",
        "    merged[[\"Nombre\", \"Código\", var_of_interest]].value_counts().to_frame(\"Count\")\n",
        ")\n",
        "df_analysis[\"Percentage\"] = (df_analysis.Count / sum(df_analysis.Count) * 100).round(2)\n",
        "df_analysis.sort_values([\"Código\", \"Count\"], ascending=False)\n",
        "\n",
        "df_analysis = df_analysis.reset_index()\n",
        "df_analysis[\"Percentage\"] = df_analysis.apply(\n",
        "    lambda row: percentage_for_code(df_analysis, row), axis=1\n",
        ")\n",
        "df_analysis = df_analysis.sort_values([\"Código\"])\n",
        "\n",
        "fig = px.bar(\n",
        "    df_analysis,\n",
        "    x=\"Código\",\n",
        "    y=[\"Percentage\"],\n",
        "    color=var_of_interest,\n",
        "    # text=df_analysis['Percentage'].apply(lambda x: '{0:1.2f}%'.format(x)),\n",
        "    text=df_analysis[\"Count\"],\n",
        "    labels={\n",
        "        \"value\": \"Percentage\",\n",
        "    },\n",
        ")\n",
        "# fig.update_layout(height=400, width=800)\n",
        "# fig.update_layout(xaxis={'categoryorder':'total descending'})\n",
        "fig.show()\n"
      ]
    },
    {
      "cell_type": "code",
      "execution_count": null,
      "metadata": {
        "id": "zpe_jq62Q099"
      },
      "outputs": [],
      "source": [
        "var_of_interest = \"TSangre\"\n",
        "\n",
        "df_analysis = (\n",
        "    merged[[\"Nombre\", \"Código\", var_of_interest]].value_counts().to_frame(\"Count\")\n",
        ")\n",
        "df_analysis[\"Percentage\"] = (df_analysis.Count / sum(df_analysis.Count) * 100).round(2)\n",
        "df_analysis.sort_values([\"Código\", \"Count\"], ascending=False)\n",
        "\n",
        "df_analysis = df_analysis.reset_index()\n",
        "df_analysis[\"Percentage\"] = df_analysis.apply(\n",
        "    lambda row: percentage_for_code(df_analysis, row), axis=1\n",
        ")\n",
        "df_analysis = df_analysis.sort_values([\"Código\"])\n",
        "\n",
        "fig = px.bar(\n",
        "    df_analysis,\n",
        "    x=\"Código\",\n",
        "    y=[\"Percentage\"],\n",
        "    color=var_of_interest,\n",
        "    # text=df_analysis['Percentage'].apply(lambda x: '{0:1.2f}%'.format(x)),\n",
        "    text=df_analysis[\"Count\"],\n",
        "    labels={\n",
        "        \"value\": \"Percentage\",\n",
        "    },\n",
        ")\n",
        "# fig.update_layout(height=400, width=800)\n",
        "# fig.update_layout(xaxis={'categoryorder':'total descending'})\n",
        "fig.show()\n"
      ]
    },
    {
      "cell_type": "markdown",
      "metadata": {
        "id": "DfwWtMzxQ09-"
      },
      "source": [
        "# Target Feature Class Distribution"
      ]
    },
    {
      "cell_type": "markdown",
      "metadata": {
        "id": "52l9-uRRQ09-"
      },
      "source": [
        "Let's check our taget feature distribution"
      ]
    },
    {
      "cell_type": "code",
      "execution_count": null,
      "metadata": {
        "id": "cswZyw41Q09-"
      },
      "outputs": [],
      "source": [
        "name = notas[[\"Nombre\", \"Código\"]].value_counts().to_frame(\"Count\")\n",
        "name[\"Percentage\"] = (name.Count / sum(name.Count) * 100).round(2)\n",
        "name\n"
      ]
    },
    {
      "cell_type": "markdown",
      "metadata": {
        "id": "Yt-D8INTQ09-"
      },
      "source": [
        "After the data cleanup, we only have less than 1% for two of the 9 classes, representing a total of ~1000 samples of the ~150,000 in our dataset.\n",
        "We can't easily create a prediction algorithm out of these small number of samples, so let's either drop them or merge them into similar categories."
      ]
    },
    {
      "cell_type": "markdown",
      "metadata": {
        "id": "n7GbB-j3Q09-"
      },
      "source": [
        "## Classes merge"
      ]
    },
    {
      "cell_type": "markdown",
      "metadata": {
        "id": "DQqiDCj7Q09_"
      },
      "source": [
        "Let's try merging A510 and A511 with A514, as they all belong to the [A51 Early syphilis](https://icd.who.int/browse10/2019/en#/A51) ICD-10 denomination, indicating they share symptoms. The equivalent Spanish name for this category is [Sífilis precoz](http://ais.paho.org/classifications/chapters/CAP01.html?zoom_highlight=a51).\n",
        "\n",
        "We could also treat A529 as part of A539, in order to reduce the number of classes without losing track of the important subcategories we already have."
      ]
    },
    {
      "cell_type": "code",
      "execution_count": null,
      "metadata": {
        "id": "43N8u1UQQ09_"
      },
      "outputs": [],
      "source": [
        "from utils.preprocessing_utils import merge_classes\n",
        "\n",
        "notas = merge_classes(notas)\n",
        "name = notas[[\"Nombre\", \"Código\"]].value_counts().to_frame(\"Count\")\n",
        "name[\"Percentage\"] = (name.Count / sum(name.Count) * 100).round(2)\n",
        "name\n"
      ]
    },
    {
      "cell_type": "markdown",
      "metadata": {
        "id": "7S1fj-0KQ09_"
      },
      "source": [
        "# Feature Engineering"
      ]
    },
    {
      "cell_type": "markdown",
      "metadata": {
        "id": "PvJuKDP4Q09_"
      },
      "source": [
        "## Word count"
      ]
    },
    {
      "cell_type": "markdown",
      "metadata": {
        "id": "iHlOiNP1Q0-A"
      },
      "source": [
        "According to the [CDC](https://www.cdc.gov/std/syphilis/stdfact-syphilis-detailed.htm), primary syphilis is characterized by a chancre mark where the disease enters the body. There is also a possibility of having extra sores in your body, but there does not seem to be any difference per se in the development of its condition based on where the disease started. Another clear indication of syphilis is Saber shin (pierna/tibia en sable).\n",
        "There is also a reduction in cognitive abilities for patients who have been suffering of syphilis for some time, and this can be tested for using a simple test called the [Clock Drawing Test](https://www2.gov.bc.ca/assets/gov/health/practitioner-pro/bc-guidelines/cogimp-clock-drawing-test.pdf), or [Test del Reloj](https://www.sanitas.es/sanitas/seguros/es/particulares/biblioteca-de-salud/tercera-edad/demencias/test-reloj.html) in Spanish.\n",
        "\n",
        "Additionally, a main characteristic of primary syphilis seems to be chancres, as well as sores for both Primary and Secondary Syphilis, making a case for creating a new numerical variable called \"chancres\". Another main characteristic of Syphilis is the push to use preservatives in order to reduce the possibility of other people being infected as well, which could help differentiate between Syphilis and Diabetes.\n",
        "\n",
        "Other related keywords we can try is genital, skin (lesions), headache, HIV, serology, hepatitis, and specific tests performed on the patients."
      ]
    },
    {
      "cell_type": "code",
      "execution_count": null,
      "metadata": {
        "id": "4kR9t1piQ0-A"
      },
      "outputs": [],
      "source": [
        "notas_eda = notas.copy()\n",
        "words_to_check = [\n",
        "    \"chancro\",\n",
        "    \"llaga\",\n",
        "    \"preservativo\",\n",
        "    \"sifili\",\n",
        "    \"asintoma\",\n",
        "    \"placa\",\n",
        "    r\"(test.*reloj)\",\n",
        "    \"sable\",\n",
        "    \"penici\",\n",
        "    \"antibio\",\n",
        "    \"genital\",\n",
        "    \"piel\",\n",
        "    \"lesion\",\n",
        "    \"macula\",\n",
        "    \"cabeza\",\n",
        "    \"vih\",\n",
        "    \"FTA-ABS\",\n",
        "    \"serolo\",\n",
        "    \"hepatitis\",\n",
        "    \"VDRL\",\n",
        "    \"RPR\",\n",
        "]\n",
        "aggregate_dict = {}\n",
        "for word in words_to_check:\n",
        "    notas_eda[word] = notas_eda.Plan.str.lower().str.count(word.lower())\n",
        "    notas_eda.loc[notas_eda[word] > 1, word] = 1\n",
        "    aggregate_dict[word] = [\"sum\"]\n",
        "aggregate_dict[\"Nombre\"] = [\"count\"]\n",
        "notas_eda = notas_eda.groupby([\"Nombre\", \"Código\"])[\n",
        "    words_to_check + [\"Nombre\"]\n",
        "].aggregate(aggregate_dict)\n",
        "\n",
        "for word in words_to_check:\n",
        "    notas_eda.loc(axis=1)[word, \"%\"] = (\n",
        "        notas_eda.loc(axis=1)[word, \"sum\"]\n",
        "        / notas_eda.loc(axis=1)[\"Nombre\", \"count\"]\n",
        "        * 100\n",
        "    ).round(2)\n",
        "with pd.option_context(\"display.max_columns\", None):\n",
        "    display(notas_eda.sort_index(axis=1).sort_values(by=[\"Código\"]))\n"
      ]
    },
    {
      "cell_type": "markdown",
      "metadata": {
        "id": "AfurBd5UQ0-A"
      },
      "source": [
        "For diabetes, we tried adding insulin and glucose as words of interest. Ketoacidosis is another relevant word which we can separate into keto and acido to see if we can capture more information.\n",
        "\n",
        "Other keywords associated with diabetes are: obesity, carbohydrates, overweight, polyphagia, polydipsia, polyurea"
      ]
    },
    {
      "cell_type": "code",
      "execution_count": null,
      "metadata": {
        "id": "gIyVM0ZHQ0-B"
      },
      "outputs": [],
      "source": [
        "notas_eda = notas.copy()\n",
        "words_to_check = [\n",
        "    \"ampolla\",\n",
        "    \"diabet\",\n",
        "    \"insulin\",\n",
        "    \"gluco\",\n",
        "    \"carbo\",\n",
        "    \"keto\",\n",
        "    \"acido\",\n",
        "    \"nutri\",\n",
        "    \"diet\",\n",
        "    \"dependiente\",\n",
        "    \"obes\",\n",
        "    \"sobrepeso\",\n",
        "    \"polifagia\",\n",
        "    \"polidipsia\",\n",
        "    \"poliurea\",\n",
        "]\n",
        "aggregate_dict = {}\n",
        "for word in words_to_check:\n",
        "    notas_eda[word] = notas_eda.Plan.str.lower().str.count(word.lower())\n",
        "    notas_eda.loc[notas_eda[word] > 1, word] = 1\n",
        "    aggregate_dict[word] = [\"sum\"]\n",
        "aggregate_dict[\"Nombre\"] = [\"count\"]\n",
        "notas_eda = notas_eda.groupby([\"Nombre\", \"Código\"])[\n",
        "    words_to_check + [\"Nombre\"]\n",
        "].aggregate(aggregate_dict)\n",
        "\n",
        "for word in words_to_check:\n",
        "    notas_eda.loc(axis=1)[word, \"%\"] = (\n",
        "        notas_eda.loc(axis=1)[word, \"sum\"]\n",
        "        / notas_eda.loc(axis=1)[\"Nombre\", \"count\"]\n",
        "        * 100\n",
        "    ).round(2)\n",
        "notas_eda.sort_index(axis=1).sort_values(by=[\"Código\"])\n",
        "with pd.option_context(\"display.max_columns\", None):\n",
        "    display(notas_eda.sort_index(axis=1).sort_values(by=[\"Código\"]))\n"
      ]
    },
    {
      "cell_type": "markdown",
      "metadata": {
        "id": "lSIGolFMQ0-B"
      },
      "source": [
        "- There does not seem to be many mentions of chancre (chancro) or sore (llaga/placa)\n",
        "- Ulcer (ulcera) does seem to be more common in patients with diabetes, although it still is negligible.\n",
        "- Saber (sable) seems to be able to help differentiate for all but 1 types of syphilis against diabetes.\n",
        "- asintoma seems to be useful for separating other secondary syphilis from the rest of the diseases.\n",
        "- There does seem to be a significant difference between the times the word preservative (preservativo) is used between Syphilis and Diabetes.\n",
        "- insulin seems like a good choice for separating E109 from the rest.\n",
        "- acido, keto and diet seem to also help differentiate between syphilis and diabetes.\n",
        "- Using 'diabet' and 'sifili' could help differentiate between the diagnoses of Diabetes and Syphilis."
      ]
    },
    {
      "cell_type": "code",
      "execution_count": null,
      "metadata": {
        "id": "9k1buw6wQ0-C"
      },
      "outputs": [],
      "source": [
        "from utils.preprocessing_utils import word_count_feat_engineering\n",
        "\n",
        "notas = word_count_feat_engineering(notas)\n",
        "with pd.option_context(\"display.max_columns\", None):\n",
        "    display(notas.head(10))\n"
      ]
    },
    {
      "cell_type": "markdown",
      "metadata": {
        "id": "q1adjcQkQ0-D"
      },
      "source": [
        "## Lab results analysis"
      ]
    },
    {
      "cell_type": "code",
      "execution_count": null,
      "metadata": {
        "id": "sfOJMF6IQ0-D"
      },
      "outputs": [],
      "source": [
        "merged_lab[\"Fecha\"] = pd.to_datetime(merged_lab[\"Fecha\"])\n",
        "merged_lab\n"
      ]
    },
    {
      "cell_type": "markdown",
      "metadata": {
        "id": "KBc1qQbrQ0-D"
      },
      "source": [
        "## Average and max difference in dates between each exam"
      ]
    },
    {
      "cell_type": "code",
      "execution_count": null,
      "metadata": {
        "id": "yuUFKxjqQ0-F"
      },
      "outputs": [],
      "source": [
        "merged_lab_date_calc = merged_lab.sort_values(by=[\"IDRecord\", \"Fecha\"]).copy()\n",
        "merged_lab_date_calc[\"date_diff\"] = (\n",
        "    merged_lab_date_calc[[\"IDRecord\", \"Fecha\"]].groupby(\"IDRecord\").diff()\n",
        ")\n",
        "merged_lab_datediff = (\n",
        "    merged_lab_date_calc[[\"IDRecord\", \"date_diff\"]]\n",
        "    .groupby(\"IDRecord\")\n",
        "    .agg([np.nanmean, np.nanmax])\n",
        ")\n",
        "merged_lab_datediff.columns = [\n",
        "    \"_\".join(col) for col in merged_lab_datediff.columns.values\n",
        "]\n",
        "merged_lab_datediff = merged_lab_datediff.rename(\n",
        "    columns={\"date_diff_nanmean\": \"date_diff_mean\", \"date_diff_nanmax\": \"date_diff_max\"}\n",
        ")\n",
        "merged_lab_datediff[\"date_diff_max\"] = merged_lab_datediff[\"date_diff_max\"].dt.days\n",
        "merged_lab_datediff[\"date_diff_mean\"] = merged_lab_datediff[\"date_diff_mean\"].dt.days\n",
        "merged_lab = merged_lab.drop(\n",
        "    columns=[\"date_diff_mean\", \"date_diff_max\"], errors=\"ignore\"\n",
        ").merge(\n",
        "    merged_lab_datediff[[\"date_diff_mean\", \"date_diff_max\"]].reset_index(),\n",
        "    how=\"left\",\n",
        "    on=\"IDRecord\",\n",
        ")\n"
      ]
    },
    {
      "cell_type": "code",
      "execution_count": null,
      "metadata": {
        "id": "lQ7a3n1hQ0-F"
      },
      "outputs": [],
      "source": [
        "fig = px.box(\n",
        "    merged_lab,\n",
        "    y=\"date_diff_mean\",\n",
        "    x=\"Código\",\n",
        "    color=\"Código\",\n",
        "    # notched=True, # used notched shape\n",
        "    title=\"Box plot of lab tests mean difference by disease code\",\n",
        "    #  hover_data=[\"day\"] # add day column to hover data\n",
        ")\n",
        "fig.show()\n"
      ]
    },
    {
      "cell_type": "code",
      "execution_count": null,
      "metadata": {
        "id": "kpVmmVvLQ0-G"
      },
      "outputs": [],
      "source": [
        "fig = px.box(\n",
        "    merged_lab,\n",
        "    y=\"date_diff_max\",\n",
        "    x=\"Código\",\n",
        "    color=\"Código\",\n",
        "    # notched=True, # used notched shape\n",
        "    title=\"Box plot of lab tests max difference by disease code\",\n",
        "    #  hover_data=[\"day\"] # add day column to hover data\n",
        ")\n",
        "fig.show()\n"
      ]
    },
    {
      "cell_type": "code",
      "execution_count": null,
      "metadata": {
        "id": "yeBKbt61Q0-G"
      },
      "outputs": [],
      "source": [
        "# merged_lab[['IDRecord', 'date_diff_max']].sort_values(by=['date_diff_max'], ascending=False)\n",
        "merged_lab[merged_lab.IDRecord == 91739].sort_values(by=[\"fecha\"])\n"
      ]
    },
    {
      "cell_type": "markdown",
      "metadata": {
        "id": "qUwZj-JNQ0-G"
      },
      "source": [
        "### Disease-related tests"
      ]
    },
    {
      "cell_type": "markdown",
      "metadata": {
        "id": "76uirTUuQ0-G"
      },
      "source": [
        "We can check if there are specific disease-related tests performed on the patients. E.g., as we know that HIV or a high level of lymphocites can be more common in patients with Syphilis, we can look specifically for those. Similarly, glucose tests are more common in patients with Diabetes."
      ]
    },
    {
      "cell_type": "code",
      "execution_count": null,
      "metadata": {
        "id": "iFgpL0syQ0-H"
      },
      "outputs": [],
      "source": [
        "disease_tests = disease_tests_list()\n",
        "disease_tests"
      ]
    },
    {
      "cell_type": "code",
      "execution_count": null,
      "metadata": {
        "id": "zB2KQ-DfQ0-H"
      },
      "outputs": [],
      "source": [
        "df_id_record = merged_lab.IDRecord.drop_duplicates().to_frame(\"IDRecord\")\n",
        "for test in disease_tests:\n",
        "    df_test_count = (\n",
        "        merged_lab.loc[\n",
        "            merged_lab.Nombre_lab.str.contains(test[0], case=False, regex=True),\n",
        "            [\"IDRecord\"],\n",
        "        ]\n",
        "        .value_counts()\n",
        "        .to_frame(f\"{test[1]}_count\")\n",
        "    )\n",
        "    df_test_max = (\n",
        "        merged_lab.loc[\n",
        "            merged_lab.Nombre_lab.str.contains(test[0], case=False, regex=True),\n",
        "            [\"IDRecord\", \"Valor\"],\n",
        "        ]\n",
        "        .groupby(\"IDRecord\")\n",
        "        .max()\n",
        "        .reset_index()\n",
        "        .rename(columns={\"Valor\": f\"{test[1]}_max\"})\n",
        "    )  # .value_counts().to_frame()\n",
        "    df_id_record = df_id_record.merge(df_test_count, on=\"IDRecord\", how=\"left\").merge(\n",
        "        df_test_max, on=\"IDRecord\", how=\"left\"\n",
        "    )\n",
        "df_id_record\n"
      ]
    },
    {
      "cell_type": "code",
      "execution_count": null,
      "metadata": {
        "id": "WT1nyE2YQ0-H"
      },
      "outputs": [],
      "source": [
        "merged = merged.drop(columns=df_id_record.drop(columns=['IDRecord']).columns, errors='ignore').merge(df_id_record, on=\"IDRecord\", how=\"left\")\n",
        "for column in df_id_record.drop(columns=['IDRecord']).columns:\n",
        "    merged[column] = merged[column].fillna(0)\n",
        "merged"
      ]
    },
    {
      "cell_type": "code",
      "execution_count": null,
      "metadata": {
        "id": "re5bbGBRQ0-I"
      },
      "outputs": [],
      "source": [
        "fig = px.box(\n",
        "    pd.melt(merged, id_vars=['IDRecord', 'Código'], value_vars=[f'{test[1]}_count' for test in disease_tests]),\n",
        "    y='value',\n",
        "    x=\"Código\",\n",
        "    color=\"variable\",\n",
        "    notched=True,  # used notched shape\n",
        "    title=\"Box plot of lab count by lab test and disease code\",\n",
        "    labels={\n",
        "        \"value\": \"Count\",\n",
        "        \"variable\":\"Lab test\",\n",
        "    },\n",
        ")\n",
        "fig.show()"
      ]
    },
    {
      "cell_type": "code",
      "execution_count": null,
      "metadata": {
        "id": "SDquxQdaQ0-I"
      },
      "outputs": [],
      "source": [
        "fig = px.box(\n",
        "    pd.melt(merged, id_vars=['IDRecord', 'Código'], value_vars=[f'{test[1]}_max' for test in disease_tests]),\n",
        "    y='value',\n",
        "    x=\"Código\",\n",
        "    color=\"variable\",\n",
        "    notched=True,  # used notched shape\n",
        "    title=\"Box plot of lab max by lab test and disease code\",\n",
        "    labels={\n",
        "        \"value\": \"Max\",\n",
        "        \"variable\":\"Lab test\",\n",
        "    },\n",
        ")\n",
        "fig.show()"
      ]
    },
    {
      "cell_type": "markdown",
      "metadata": {
        "id": "kL6PokpjQ0-I"
      },
      "source": [
        "### Top lab name performed by patient"
      ]
    },
    {
      "cell_type": "code",
      "execution_count": null,
      "metadata": {
        "id": "NZM-9C85Q0-I"
      },
      "outputs": [],
      "source": [
        "merged_labs = merged_lab.groupby([\"IDRecord\", \"Nombre_lab\"])\n",
        "merged_labs_agg = merged_labs.aggregate(\n",
        "    {\"Valor\": [np.nanmean, np.nanmax], \"Nombre_lab\": \"count\"}\n",
        ")\n",
        "merged_labs_agg.columns = [\"_\".join(col) for col in merged_labs_agg.columns.values]\n",
        "merged_labs_agg = merged_labs_agg.rename(\n",
        "    columns={\n",
        "        \"Nombre_lab\": \"lab_count\",\n",
        "        \"Valor_nanmean\": \"top_lab_avg_value\",\n",
        "        \"Valor_nanmax\": \"top_lab_max_value\",\n",
        "    }\n",
        ").reset_index()\n",
        "merged_labs_agg[\"top_lab_avg_value\"] = merged_labs_agg[\"top_lab_avg_value\"].fillna(0)\n",
        "merged_labs_agg[\"top_lab_max_value\"] = merged_labs_agg[\"top_lab_max_value\"].fillna(0)\n",
        "merged_labs_agg\n",
        "\n",
        "top_lab_test_by_patient = merged_labs_agg.merge(\n",
        "    merged_labs_agg.loc[\n",
        "        merged_labs_agg.groupby(\"IDRecord\").Nombre_lab_count.idxmax(),\n",
        "        [\"IDRecord\", \"Nombre_lab\"],\n",
        "    ]\n",
        ").rename(columns={\"Nombre_lab\": \"top_lab_name\", \"Nombre_lab_count\": \"top_lab_count\"})\n",
        "top_lab_test_by_patient\n"
      ]
    },
    {
      "cell_type": "markdown",
      "metadata": {
        "id": "5SRqPvsBQ0-J"
      },
      "source": [
        "We get then the top lab name for each patient based on the number of times that lab was prescribed to each patient, with the average and max value reading of each of those lab tests."
      ]
    },
    {
      "cell_type": "markdown",
      "metadata": {
        "id": "cBqSpkMMQ0-J"
      },
      "source": [
        "Merge the top lab data with the merged DF"
      ]
    },
    {
      "cell_type": "code",
      "execution_count": null,
      "metadata": {
        "id": "rcQZJLzPQ0-J"
      },
      "outputs": [],
      "source": [
        "merged.drop(columns=top_lab_test_by_patient.drop(columns=['IDRecord']).columns, errors='ignore').merge(top_lab_test_by_patient, how=\"left\", on=\"IDRecord\")\n",
        "merged[\"top_lab_name\"] = merged.top_lab_name.fillna(0)\n",
        "merged[\"top_lab_avg_value\"] = merged.top_lab_avg_value.fillna(0)\n",
        "merged[\"top_lab_max_value\"] = merged.top_lab_max_value.fillna(0)\n",
        "merged[\"top_lab_count\"] = merged.top_lab_count.fillna(\"NA\")\n",
        "merged"
      ]
    },
    {
      "cell_type": "markdown",
      "metadata": {
        "id": "KxH34UQnQ0-J"
      },
      "source": [
        "### Number of total lab tests taken by patient"
      ]
    },
    {
      "cell_type": "code",
      "execution_count": null,
      "metadata": {
        "id": "0JVE2zMHQ0-J"
      },
      "outputs": [],
      "source": [
        "total_lab_count_by_patient = (\n",
        "    merged_labs_agg.groupby([\"IDRecord\"])\n",
        "    .aggregate({\"Nombre_lab_count\": \"sum\"})\n",
        "    .rename(columns={\"Nombre_lab_count\": \"total_Nombre_lab_count\"})\n",
        ")\n",
        "total_lab_count_by_patient\n"
      ]
    },
    {
      "cell_type": "markdown",
      "metadata": {
        "id": "pMHx3P6EQ0-K"
      },
      "source": [
        "Let's check if there's any relationship between number of tests and the disease class"
      ]
    },
    {
      "cell_type": "code",
      "execution_count": null,
      "metadata": {
        "id": "qDIKynaOQ0-K"
      },
      "outputs": [],
      "source": [
        "if \"total_Nombre_lab_count\" not in merged.columns:\n",
        "    merged = merged.merge(total_lab_count_by_patient, how=\"left\", on=\"IDRecord\")\n",
        "else:\n",
        "    merged = merged.drop(columns=\"total_lab_count\").merge(\n",
        "        total_lab_count_by_patient, how=\"left\", on=\"IDRecord\"\n",
        "    )\n",
        "merged[\"total_lab_count\"] = merged.total_Nombre_lab_count.fillna(0)\n",
        "merged\n"
      ]
    },
    {
      "cell_type": "code",
      "execution_count": null,
      "metadata": {
        "id": "k21jg5poQ0-K"
      },
      "outputs": [],
      "source": [
        "merged[[\"IDRecord\", \"total_Nombre_lab_count\", \"Código\"]].sort_values(\n",
        "    by=\"total_Nombre_lab_count\"\n",
        ")\n"
      ]
    },
    {
      "cell_type": "code",
      "execution_count": null,
      "metadata": {
        "id": "aQhSIt7pQ0-K"
      },
      "outputs": [],
      "source": [
        "fig = px.box(\n",
        "    merged,\n",
        "    y=\"total_Nombre_lab_count\",\n",
        "    x=\"Código\",\n",
        "    color=\"Código\",\n",
        "    notched=True,  # used notched shape\n",
        "    title=\"Box plot of lab count by disease code\",\n",
        "    #  hover_data=[\"day\"] # add day column to hover data\n",
        ")\n",
        "fig.show()\n"
      ]
    }
  ],
  "metadata": {
    "colab": {
      "collapsed_sections": [
        "qUwZj-JNQ0-G",
        "kL6PokpjQ0-I",
        "KxH34UQnQ0-J"
      ],
      "name": "deep_EDA.ipynb",
      "provenance": []
    },
    "kernelspec": {
      "display_name": "Python 3.9.12 ('DS4A_project')",
      "language": "python",
      "name": "python3"
    },
    "language_info": {
      "codemirror_mode": {
        "name": "ipython",
        "version": 3
      },
      "file_extension": ".py",
      "mimetype": "text/x-python",
      "name": "python",
      "nbconvert_exporter": "python",
      "pygments_lexer": "ipython3",
      "version": "3.9.12"
    },
    "orig_nbformat": 4,
    "vscode": {
      "interpreter": {
        "hash": "f76a7c6cc494b0b3a89d8a51fced70cc96d4c7d6d1b394e23b2a78ee1e2a0cba"
      }
    }
  },
  "nbformat": 4,
  "nbformat_minor": 0
}
